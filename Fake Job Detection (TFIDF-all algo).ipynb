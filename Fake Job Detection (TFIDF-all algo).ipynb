{
 "cells": [
  {
   "cell_type": "markdown",
   "id": "97b2cb8b",
   "metadata": {},
   "source": [
    "# Importing Libraries & Tools"
   ]
  },
  {
   "cell_type": "code",
   "execution_count": 4,
   "id": "5fdd6ab5",
   "metadata": {},
   "outputs": [],
   "source": [
    "import matplotlib.pyplot as plt\n",
    "import seaborn as sns\n",
    "%matplotlib inline"
   ]
  },
  {
   "cell_type": "markdown",
   "id": "bb4c33bc",
   "metadata": {},
   "source": [
    "# The Dataset"
   ]
  },
  {
   "cell_type": "code",
   "execution_count": 16,
   "id": "9e7911dc",
   "metadata": {},
   "outputs": [],
   "source": [
    "df=pd.read_csv(\"C:/Users/user/Desktop/DS Project/fake_job_postings.csv\", index_col=\"job_id\") "
   ]
  },
  {
   "cell_type": "code",
   "execution_count": 17,
   "id": "2a03495c",
   "metadata": {},
   "outputs": [
    {
     "data": {
      "text/html": [
       "<div>\n",
       "<style scoped>\n",
       "    .dataframe tbody tr th:only-of-type {\n",
       "        vertical-align: middle;\n",
       "    }\n",
       "\n",
       "    .dataframe tbody tr th {\n",
       "        vertical-align: top;\n",
       "    }\n",
       "\n",
       "    .dataframe thead th {\n",
       "        text-align: right;\n",
       "    }\n",
       "</style>\n",
       "<table border=\"1\" class=\"dataframe\">\n",
       "  <thead>\n",
       "    <tr style=\"text-align: right;\">\n",
       "      <th></th>\n",
       "      <th>title</th>\n",
       "      <th>location</th>\n",
       "      <th>department</th>\n",
       "      <th>salary_range</th>\n",
       "      <th>company_profile</th>\n",
       "      <th>description</th>\n",
       "      <th>requirements</th>\n",
       "      <th>benefits</th>\n",
       "      <th>telecommuting</th>\n",
       "      <th>has_company_logo</th>\n",
       "      <th>has_questions</th>\n",
       "      <th>employment_type</th>\n",
       "      <th>required_experience</th>\n",
       "      <th>required_education</th>\n",
       "      <th>industry</th>\n",
       "      <th>function</th>\n",
       "      <th>fraudulent</th>\n",
       "    </tr>\n",
       "    <tr>\n",
       "      <th>job_id</th>\n",
       "      <th></th>\n",
       "      <th></th>\n",
       "      <th></th>\n",
       "      <th></th>\n",
       "      <th></th>\n",
       "      <th></th>\n",
       "      <th></th>\n",
       "      <th></th>\n",
       "      <th></th>\n",
       "      <th></th>\n",
       "      <th></th>\n",
       "      <th></th>\n",
       "      <th></th>\n",
       "      <th></th>\n",
       "      <th></th>\n",
       "      <th></th>\n",
       "      <th></th>\n",
       "    </tr>\n",
       "  </thead>\n",
       "  <tbody>\n",
       "    <tr>\n",
       "      <th>1</th>\n",
       "      <td>Marketing Intern</td>\n",
       "      <td>US, NY, New York</td>\n",
       "      <td>Marketing</td>\n",
       "      <td>NaN</td>\n",
       "      <td>We're Food52, and we've created a groundbreaki...</td>\n",
       "      <td>Food52, a fast-growing, James Beard Award-winn...</td>\n",
       "      <td>Experience with content management systems a m...</td>\n",
       "      <td>NaN</td>\n",
       "      <td>0</td>\n",
       "      <td>1</td>\n",
       "      <td>0</td>\n",
       "      <td>Other</td>\n",
       "      <td>Internship</td>\n",
       "      <td>NaN</td>\n",
       "      <td>NaN</td>\n",
       "      <td>Marketing</td>\n",
       "      <td>0</td>\n",
       "    </tr>\n",
       "    <tr>\n",
       "      <th>2</th>\n",
       "      <td>Customer Service - Cloud Video Production</td>\n",
       "      <td>NZ, , Auckland</td>\n",
       "      <td>Success</td>\n",
       "      <td>NaN</td>\n",
       "      <td>90 Seconds, the worlds Cloud Video Production ...</td>\n",
       "      <td>Organised - Focused - Vibrant - Awesome!Do you...</td>\n",
       "      <td>What we expect from you:Your key responsibilit...</td>\n",
       "      <td>What you will get from usThrough being part of...</td>\n",
       "      <td>0</td>\n",
       "      <td>1</td>\n",
       "      <td>0</td>\n",
       "      <td>Full-time</td>\n",
       "      <td>Not Applicable</td>\n",
       "      <td>NaN</td>\n",
       "      <td>Marketing and Advertising</td>\n",
       "      <td>Customer Service</td>\n",
       "      <td>0</td>\n",
       "    </tr>\n",
       "    <tr>\n",
       "      <th>3</th>\n",
       "      <td>Commissioning Machinery Assistant (CMA)</td>\n",
       "      <td>US, IA, Wever</td>\n",
       "      <td>NaN</td>\n",
       "      <td>NaN</td>\n",
       "      <td>Valor Services provides Workforce Solutions th...</td>\n",
       "      <td>Our client, located in Houston, is actively se...</td>\n",
       "      <td>Implement pre-commissioning and commissioning ...</td>\n",
       "      <td>NaN</td>\n",
       "      <td>0</td>\n",
       "      <td>1</td>\n",
       "      <td>0</td>\n",
       "      <td>NaN</td>\n",
       "      <td>NaN</td>\n",
       "      <td>NaN</td>\n",
       "      <td>NaN</td>\n",
       "      <td>NaN</td>\n",
       "      <td>0</td>\n",
       "    </tr>\n",
       "    <tr>\n",
       "      <th>4</th>\n",
       "      <td>Account Executive - Washington DC</td>\n",
       "      <td>US, DC, Washington</td>\n",
       "      <td>Sales</td>\n",
       "      <td>NaN</td>\n",
       "      <td>Our passion for improving quality of life thro...</td>\n",
       "      <td>THE COMPANY: ESRI – Environmental Systems Rese...</td>\n",
       "      <td>EDUCATION: Bachelor’s or Master’s in GIS, busi...</td>\n",
       "      <td>Our culture is anything but corporate—we have ...</td>\n",
       "      <td>0</td>\n",
       "      <td>1</td>\n",
       "      <td>0</td>\n",
       "      <td>Full-time</td>\n",
       "      <td>Mid-Senior level</td>\n",
       "      <td>Bachelor's Degree</td>\n",
       "      <td>Computer Software</td>\n",
       "      <td>Sales</td>\n",
       "      <td>0</td>\n",
       "    </tr>\n",
       "    <tr>\n",
       "      <th>5</th>\n",
       "      <td>Bill Review Manager</td>\n",
       "      <td>US, FL, Fort Worth</td>\n",
       "      <td>NaN</td>\n",
       "      <td>NaN</td>\n",
       "      <td>SpotSource Solutions LLC is a Global Human Cap...</td>\n",
       "      <td>JOB TITLE: Itemization Review ManagerLOCATION:...</td>\n",
       "      <td>QUALIFICATIONS:RN license in the State of Texa...</td>\n",
       "      <td>Full Benefits Offered</td>\n",
       "      <td>0</td>\n",
       "      <td>1</td>\n",
       "      <td>1</td>\n",
       "      <td>Full-time</td>\n",
       "      <td>Mid-Senior level</td>\n",
       "      <td>Bachelor's Degree</td>\n",
       "      <td>Hospital &amp; Health Care</td>\n",
       "      <td>Health Care Provider</td>\n",
       "      <td>0</td>\n",
       "    </tr>\n",
       "  </tbody>\n",
       "</table>\n",
       "</div>"
      ],
      "text/plain": [
       "                                            title            location  \\\n",
       "job_id                                                                  \n",
       "1                                Marketing Intern    US, NY, New York   \n",
       "2       Customer Service - Cloud Video Production      NZ, , Auckland   \n",
       "3         Commissioning Machinery Assistant (CMA)       US, IA, Wever   \n",
       "4               Account Executive - Washington DC  US, DC, Washington   \n",
       "5                             Bill Review Manager  US, FL, Fort Worth   \n",
       "\n",
       "       department salary_range  \\\n",
       "job_id                           \n",
       "1       Marketing          NaN   \n",
       "2         Success          NaN   \n",
       "3             NaN          NaN   \n",
       "4           Sales          NaN   \n",
       "5             NaN          NaN   \n",
       "\n",
       "                                          company_profile  \\\n",
       "job_id                                                      \n",
       "1       We're Food52, and we've created a groundbreaki...   \n",
       "2       90 Seconds, the worlds Cloud Video Production ...   \n",
       "3       Valor Services provides Workforce Solutions th...   \n",
       "4       Our passion for improving quality of life thro...   \n",
       "5       SpotSource Solutions LLC is a Global Human Cap...   \n",
       "\n",
       "                                              description  \\\n",
       "job_id                                                      \n",
       "1       Food52, a fast-growing, James Beard Award-winn...   \n",
       "2       Organised - Focused - Vibrant - Awesome!Do you...   \n",
       "3       Our client, located in Houston, is actively se...   \n",
       "4       THE COMPANY: ESRI – Environmental Systems Rese...   \n",
       "5       JOB TITLE: Itemization Review ManagerLOCATION:...   \n",
       "\n",
       "                                             requirements  \\\n",
       "job_id                                                      \n",
       "1       Experience with content management systems a m...   \n",
       "2       What we expect from you:Your key responsibilit...   \n",
       "3       Implement pre-commissioning and commissioning ...   \n",
       "4       EDUCATION: Bachelor’s or Master’s in GIS, busi...   \n",
       "5       QUALIFICATIONS:RN license in the State of Texa...   \n",
       "\n",
       "                                                 benefits  telecommuting  \\\n",
       "job_id                                                                     \n",
       "1                                                     NaN              0   \n",
       "2       What you will get from usThrough being part of...              0   \n",
       "3                                                     NaN              0   \n",
       "4       Our culture is anything but corporate—we have ...              0   \n",
       "5                                   Full Benefits Offered              0   \n",
       "\n",
       "        has_company_logo  has_questions employment_type required_experience  \\\n",
       "job_id                                                                        \n",
       "1                      1              0           Other          Internship   \n",
       "2                      1              0       Full-time      Not Applicable   \n",
       "3                      1              0             NaN                 NaN   \n",
       "4                      1              0       Full-time    Mid-Senior level   \n",
       "5                      1              1       Full-time    Mid-Senior level   \n",
       "\n",
       "       required_education                   industry              function  \\\n",
       "job_id                                                                       \n",
       "1                     NaN                        NaN             Marketing   \n",
       "2                     NaN  Marketing and Advertising      Customer Service   \n",
       "3                     NaN                        NaN                   NaN   \n",
       "4       Bachelor's Degree          Computer Software                 Sales   \n",
       "5       Bachelor's Degree     Hospital & Health Care  Health Care Provider   \n",
       "\n",
       "        fraudulent  \n",
       "job_id              \n",
       "1                0  \n",
       "2                0  \n",
       "3                0  \n",
       "4                0  \n",
       "5                0  "
      ]
     },
     "execution_count": 17,
     "metadata": {},
     "output_type": "execute_result"
    }
   ],
   "source": [
    "df.head()"
   ]
  },
  {
   "cell_type": "code",
   "execution_count": 18,
   "id": "7e4dc3eb",
   "metadata": {},
   "outputs": [
    {
     "data": {
      "text/plain": [
       "(17880, 17)"
      ]
     },
     "execution_count": 18,
     "metadata": {},
     "output_type": "execute_result"
    }
   ],
   "source": [
    "df.shape"
   ]
  },
  {
   "cell_type": "code",
   "execution_count": 19,
   "id": "e6b7b0e3",
   "metadata": {},
   "outputs": [
    {
     "data": {
      "text/plain": [
       "title                  object\n",
       "location               object\n",
       "department             object\n",
       "salary_range           object\n",
       "company_profile        object\n",
       "description            object\n",
       "requirements           object\n",
       "benefits               object\n",
       "telecommuting           int64\n",
       "has_company_logo        int64\n",
       "has_questions           int64\n",
       "employment_type        object\n",
       "required_experience    object\n",
       "required_education     object\n",
       "industry               object\n",
       "function               object\n",
       "fraudulent              int64\n",
       "dtype: object"
      ]
     },
     "execution_count": 19,
     "metadata": {},
     "output_type": "execute_result"
    }
   ],
   "source": [
    "df.dtypes"
   ]
  },
  {
   "cell_type": "code",
   "execution_count": 20,
   "id": "8d69c8fb",
   "metadata": {},
   "outputs": [
    {
     "data": {
      "text/plain": [
       "False    17599\n",
       "True       281\n",
       "dtype: int64"
      ]
     },
     "execution_count": 20,
     "metadata": {},
     "output_type": "execute_result"
    }
   ],
   "source": [
    "df.duplicated().value_counts()"
   ]
  },
  {
   "cell_type": "code",
   "execution_count": 21,
   "id": "7b5af756",
   "metadata": {},
   "outputs": [
    {
     "data": {
      "text/plain": [
       "False    0.984072\n",
       "True     0.015928\n",
       "dtype: float64"
      ]
     },
     "execution_count": 21,
     "metadata": {},
     "output_type": "execute_result"
    }
   ],
   "source": [
    "df[df.fraudulent==0].duplicated().value_counts(normalize=True)"
   ]
  },
  {
   "cell_type": "code",
   "execution_count": 22,
   "id": "37ce0b3d",
   "metadata": {},
   "outputs": [
    {
     "data": {
      "text/plain": [
       "False    0.988453\n",
       "True     0.011547\n",
       "dtype: float64"
      ]
     },
     "execution_count": 22,
     "metadata": {},
     "output_type": "execute_result"
    }
   ],
   "source": [
    "df[df.fraudulent==1].duplicated().value_counts(normalize=True)"
   ]
  },
  {
   "cell_type": "code",
   "execution_count": 23,
   "id": "62f31d2c",
   "metadata": {},
   "outputs": [
    {
     "data": {
      "text/plain": [
       "0    17014\n",
       "1      866\n",
       "Name: fraudulent, dtype: int64"
      ]
     },
     "execution_count": 23,
     "metadata": {},
     "output_type": "execute_result"
    }
   ],
   "source": [
    "df.fraudulent.value_counts()"
   ]
  },
  {
   "cell_type": "code",
   "execution_count": 24,
   "id": "0e6296fa",
   "metadata": {},
   "outputs": [
    {
     "data": {
      "text/plain": [
       "0    0.951566\n",
       "1    0.048434\n",
       "Name: fraudulent, dtype: float64"
      ]
     },
     "execution_count": 24,
     "metadata": {},
     "output_type": "execute_result"
    }
   ],
   "source": [
    "df.fraudulent.value_counts(normalize=True)"
   ]
  },
  {
   "cell_type": "code",
   "execution_count": 25,
   "id": "439db89c",
   "metadata": {},
   "outputs": [
    {
     "data": {
      "text/plain": [
       "title                      0\n",
       "location                 346\n",
       "department             11547\n",
       "salary_range           15012\n",
       "company_profile         3308\n",
       "description                1\n",
       "requirements            2695\n",
       "benefits                7210\n",
       "telecommuting              0\n",
       "has_company_logo           0\n",
       "has_questions              0\n",
       "employment_type         3471\n",
       "required_experience     7050\n",
       "required_education      8105\n",
       "industry                4903\n",
       "function                6455\n",
       "fraudulent                 0\n",
       "dtype: int64"
      ]
     },
     "execution_count": 25,
     "metadata": {},
     "output_type": "execute_result"
    }
   ],
   "source": [
    "df.isna().sum()"
   ]
  },
  {
   "cell_type": "markdown",
   "id": "cac32948",
   "metadata": {},
   "source": [
    "# Data Exploration"
   ]
  },
  {
   "cell_type": "markdown",
   "id": "cc6c5005",
   "metadata": {},
   "source": [
    "For data exploration, I provisionally fill the null values with 'na', then separate the real and fake job ads to look into differences between them."
   ]
  },
  {
   "cell_type": "code",
   "execution_count": 27,
   "id": "3904d0df",
   "metadata": {},
   "outputs": [],
   "source": [
    "df_na=df.fillna('na') "
   ]
  },
  {
   "cell_type": "code",
   "execution_count": 28,
   "id": "79ee4781",
   "metadata": {},
   "outputs": [
    {
     "data": {
      "text/html": [
       "<div>\n",
       "<style scoped>\n",
       "    .dataframe tbody tr th:only-of-type {\n",
       "        vertical-align: middle;\n",
       "    }\n",
       "\n",
       "    .dataframe tbody tr th {\n",
       "        vertical-align: top;\n",
       "    }\n",
       "\n",
       "    .dataframe thead th {\n",
       "        text-align: right;\n",
       "    }\n",
       "</style>\n",
       "<table border=\"1\" class=\"dataframe\">\n",
       "  <thead>\n",
       "    <tr style=\"text-align: right;\">\n",
       "      <th></th>\n",
       "      <th>title</th>\n",
       "      <th>location</th>\n",
       "      <th>department</th>\n",
       "      <th>salary_range</th>\n",
       "      <th>company_profile</th>\n",
       "      <th>description</th>\n",
       "      <th>requirements</th>\n",
       "      <th>benefits</th>\n",
       "      <th>telecommuting</th>\n",
       "      <th>has_company_logo</th>\n",
       "      <th>has_questions</th>\n",
       "      <th>employment_type</th>\n",
       "      <th>required_experience</th>\n",
       "      <th>required_education</th>\n",
       "      <th>industry</th>\n",
       "      <th>function</th>\n",
       "      <th>fraudulent</th>\n",
       "    </tr>\n",
       "  </thead>\n",
       "  <tbody>\n",
       "    <tr>\n",
       "      <th>count</th>\n",
       "      <td>17014</td>\n",
       "      <td>17014</td>\n",
       "      <td>17014</td>\n",
       "      <td>17014</td>\n",
       "      <td>17014</td>\n",
       "      <td>17014</td>\n",
       "      <td>17014</td>\n",
       "      <td>17014</td>\n",
       "      <td>17014.000000</td>\n",
       "      <td>17014.000000</td>\n",
       "      <td>17014.000000</td>\n",
       "      <td>17014</td>\n",
       "      <td>17014</td>\n",
       "      <td>17014</td>\n",
       "      <td>17014</td>\n",
       "      <td>17014</td>\n",
       "      <td>17014.0</td>\n",
       "    </tr>\n",
       "    <tr>\n",
       "      <th>unique</th>\n",
       "      <td>10730</td>\n",
       "      <td>2914</td>\n",
       "      <td>1270</td>\n",
       "      <td>829</td>\n",
       "      <td>1661</td>\n",
       "      <td>14171</td>\n",
       "      <td>11495</td>\n",
       "      <td>5904</td>\n",
       "      <td>NaN</td>\n",
       "      <td>NaN</td>\n",
       "      <td>NaN</td>\n",
       "      <td>6</td>\n",
       "      <td>8</td>\n",
       "      <td>14</td>\n",
       "      <td>131</td>\n",
       "      <td>38</td>\n",
       "      <td>NaN</td>\n",
       "    </tr>\n",
       "    <tr>\n",
       "      <th>top</th>\n",
       "      <td>English Teacher Abroad</td>\n",
       "      <td>GB, LND, London</td>\n",
       "      <td>na</td>\n",
       "      <td>na</td>\n",
       "      <td>na</td>\n",
       "      <td>Play with kids, get paid for it Love travel? J...</td>\n",
       "      <td>na</td>\n",
       "      <td>na</td>\n",
       "      <td>NaN</td>\n",
       "      <td>NaN</td>\n",
       "      <td>NaN</td>\n",
       "      <td>Full-time</td>\n",
       "      <td>na</td>\n",
       "      <td>na</td>\n",
       "      <td>na</td>\n",
       "      <td>na</td>\n",
       "      <td>NaN</td>\n",
       "    </tr>\n",
       "    <tr>\n",
       "      <th>freq</th>\n",
       "      <td>311</td>\n",
       "      <td>716</td>\n",
       "      <td>11016</td>\n",
       "      <td>14369</td>\n",
       "      <td>2721</td>\n",
       "      <td>379</td>\n",
       "      <td>2541</td>\n",
       "      <td>6847</td>\n",
       "      <td>NaN</td>\n",
       "      <td>NaN</td>\n",
       "      <td>NaN</td>\n",
       "      <td>11130</td>\n",
       "      <td>6615</td>\n",
       "      <td>7654</td>\n",
       "      <td>4628</td>\n",
       "      <td>6118</td>\n",
       "      <td>NaN</td>\n",
       "    </tr>\n",
       "    <tr>\n",
       "      <th>mean</th>\n",
       "      <td>NaN</td>\n",
       "      <td>NaN</td>\n",
       "      <td>NaN</td>\n",
       "      <td>NaN</td>\n",
       "      <td>NaN</td>\n",
       "      <td>NaN</td>\n",
       "      <td>NaN</td>\n",
       "      <td>NaN</td>\n",
       "      <td>0.041319</td>\n",
       "      <td>0.819149</td>\n",
       "      <td>0.502057</td>\n",
       "      <td>NaN</td>\n",
       "      <td>NaN</td>\n",
       "      <td>NaN</td>\n",
       "      <td>NaN</td>\n",
       "      <td>NaN</td>\n",
       "      <td>0.0</td>\n",
       "    </tr>\n",
       "    <tr>\n",
       "      <th>std</th>\n",
       "      <td>NaN</td>\n",
       "      <td>NaN</td>\n",
       "      <td>NaN</td>\n",
       "      <td>NaN</td>\n",
       "      <td>NaN</td>\n",
       "      <td>NaN</td>\n",
       "      <td>NaN</td>\n",
       "      <td>NaN</td>\n",
       "      <td>0.199033</td>\n",
       "      <td>0.384906</td>\n",
       "      <td>0.500010</td>\n",
       "      <td>NaN</td>\n",
       "      <td>NaN</td>\n",
       "      <td>NaN</td>\n",
       "      <td>NaN</td>\n",
       "      <td>NaN</td>\n",
       "      <td>0.0</td>\n",
       "    </tr>\n",
       "    <tr>\n",
       "      <th>min</th>\n",
       "      <td>NaN</td>\n",
       "      <td>NaN</td>\n",
       "      <td>NaN</td>\n",
       "      <td>NaN</td>\n",
       "      <td>NaN</td>\n",
       "      <td>NaN</td>\n",
       "      <td>NaN</td>\n",
       "      <td>NaN</td>\n",
       "      <td>0.000000</td>\n",
       "      <td>0.000000</td>\n",
       "      <td>0.000000</td>\n",
       "      <td>NaN</td>\n",
       "      <td>NaN</td>\n",
       "      <td>NaN</td>\n",
       "      <td>NaN</td>\n",
       "      <td>NaN</td>\n",
       "      <td>0.0</td>\n",
       "    </tr>\n",
       "    <tr>\n",
       "      <th>25%</th>\n",
       "      <td>NaN</td>\n",
       "      <td>NaN</td>\n",
       "      <td>NaN</td>\n",
       "      <td>NaN</td>\n",
       "      <td>NaN</td>\n",
       "      <td>NaN</td>\n",
       "      <td>NaN</td>\n",
       "      <td>NaN</td>\n",
       "      <td>0.000000</td>\n",
       "      <td>1.000000</td>\n",
       "      <td>0.000000</td>\n",
       "      <td>NaN</td>\n",
       "      <td>NaN</td>\n",
       "      <td>NaN</td>\n",
       "      <td>NaN</td>\n",
       "      <td>NaN</td>\n",
       "      <td>0.0</td>\n",
       "    </tr>\n",
       "    <tr>\n",
       "      <th>50%</th>\n",
       "      <td>NaN</td>\n",
       "      <td>NaN</td>\n",
       "      <td>NaN</td>\n",
       "      <td>NaN</td>\n",
       "      <td>NaN</td>\n",
       "      <td>NaN</td>\n",
       "      <td>NaN</td>\n",
       "      <td>NaN</td>\n",
       "      <td>0.000000</td>\n",
       "      <td>1.000000</td>\n",
       "      <td>1.000000</td>\n",
       "      <td>NaN</td>\n",
       "      <td>NaN</td>\n",
       "      <td>NaN</td>\n",
       "      <td>NaN</td>\n",
       "      <td>NaN</td>\n",
       "      <td>0.0</td>\n",
       "    </tr>\n",
       "    <tr>\n",
       "      <th>75%</th>\n",
       "      <td>NaN</td>\n",
       "      <td>NaN</td>\n",
       "      <td>NaN</td>\n",
       "      <td>NaN</td>\n",
       "      <td>NaN</td>\n",
       "      <td>NaN</td>\n",
       "      <td>NaN</td>\n",
       "      <td>NaN</td>\n",
       "      <td>0.000000</td>\n",
       "      <td>1.000000</td>\n",
       "      <td>1.000000</td>\n",
       "      <td>NaN</td>\n",
       "      <td>NaN</td>\n",
       "      <td>NaN</td>\n",
       "      <td>NaN</td>\n",
       "      <td>NaN</td>\n",
       "      <td>0.0</td>\n",
       "    </tr>\n",
       "    <tr>\n",
       "      <th>max</th>\n",
       "      <td>NaN</td>\n",
       "      <td>NaN</td>\n",
       "      <td>NaN</td>\n",
       "      <td>NaN</td>\n",
       "      <td>NaN</td>\n",
       "      <td>NaN</td>\n",
       "      <td>NaN</td>\n",
       "      <td>NaN</td>\n",
       "      <td>1.000000</td>\n",
       "      <td>1.000000</td>\n",
       "      <td>1.000000</td>\n",
       "      <td>NaN</td>\n",
       "      <td>NaN</td>\n",
       "      <td>NaN</td>\n",
       "      <td>NaN</td>\n",
       "      <td>NaN</td>\n",
       "      <td>0.0</td>\n",
       "    </tr>\n",
       "  </tbody>\n",
       "</table>\n",
       "</div>"
      ],
      "text/plain": [
       "                          title         location department salary_range  \\\n",
       "count                     17014            17014      17014        17014   \n",
       "unique                    10730             2914       1270          829   \n",
       "top     English Teacher Abroad   GB, LND, London         na           na   \n",
       "freq                        311              716      11016        14369   \n",
       "mean                        NaN              NaN        NaN          NaN   \n",
       "std                         NaN              NaN        NaN          NaN   \n",
       "min                         NaN              NaN        NaN          NaN   \n",
       "25%                         NaN              NaN        NaN          NaN   \n",
       "50%                         NaN              NaN        NaN          NaN   \n",
       "75%                         NaN              NaN        NaN          NaN   \n",
       "max                         NaN              NaN        NaN          NaN   \n",
       "\n",
       "       company_profile                                        description  \\\n",
       "count            17014                                              17014   \n",
       "unique            1661                                              14171   \n",
       "top                 na  Play with kids, get paid for it Love travel? J...   \n",
       "freq              2721                                                379   \n",
       "mean               NaN                                                NaN   \n",
       "std                NaN                                                NaN   \n",
       "min                NaN                                                NaN   \n",
       "25%                NaN                                                NaN   \n",
       "50%                NaN                                                NaN   \n",
       "75%                NaN                                                NaN   \n",
       "max                NaN                                                NaN   \n",
       "\n",
       "       requirements benefits  telecommuting  has_company_logo  has_questions  \\\n",
       "count         17014    17014   17014.000000      17014.000000   17014.000000   \n",
       "unique        11495     5904            NaN               NaN            NaN   \n",
       "top              na       na            NaN               NaN            NaN   \n",
       "freq           2541     6847            NaN               NaN            NaN   \n",
       "mean            NaN      NaN       0.041319          0.819149       0.502057   \n",
       "std             NaN      NaN       0.199033          0.384906       0.500010   \n",
       "min             NaN      NaN       0.000000          0.000000       0.000000   \n",
       "25%             NaN      NaN       0.000000          1.000000       0.000000   \n",
       "50%             NaN      NaN       0.000000          1.000000       1.000000   \n",
       "75%             NaN      NaN       0.000000          1.000000       1.000000   \n",
       "max             NaN      NaN       1.000000          1.000000       1.000000   \n",
       "\n",
       "       employment_type required_experience required_education industry  \\\n",
       "count            17014               17014              17014    17014   \n",
       "unique               6                   8                 14      131   \n",
       "top          Full-time                  na                 na       na   \n",
       "freq             11130                6615               7654     4628   \n",
       "mean               NaN                 NaN                NaN      NaN   \n",
       "std                NaN                 NaN                NaN      NaN   \n",
       "min                NaN                 NaN                NaN      NaN   \n",
       "25%                NaN                 NaN                NaN      NaN   \n",
       "50%                NaN                 NaN                NaN      NaN   \n",
       "75%                NaN                 NaN                NaN      NaN   \n",
       "max                NaN                 NaN                NaN      NaN   \n",
       "\n",
       "       function  fraudulent  \n",
       "count     17014     17014.0  \n",
       "unique       38         NaN  \n",
       "top          na         NaN  \n",
       "freq       6118         NaN  \n",
       "mean        NaN         0.0  \n",
       "std         NaN         0.0  \n",
       "min         NaN         0.0  \n",
       "25%         NaN         0.0  \n",
       "50%         NaN         0.0  \n",
       "75%         NaN         0.0  \n",
       "max         NaN         0.0  "
      ]
     },
     "execution_count": 28,
     "metadata": {},
     "output_type": "execute_result"
    }
   ],
   "source": [
    "real=df_na[df_na.fraudulent==0]\n",
    "real.describe(include='all')"
   ]
  },
  {
   "cell_type": "code",
   "execution_count": 29,
   "id": "f949c93d",
   "metadata": {},
   "outputs": [
    {
     "data": {
      "text/html": [
       "<div>\n",
       "<style scoped>\n",
       "    .dataframe tbody tr th:only-of-type {\n",
       "        vertical-align: middle;\n",
       "    }\n",
       "\n",
       "    .dataframe tbody tr th {\n",
       "        vertical-align: top;\n",
       "    }\n",
       "\n",
       "    .dataframe thead th {\n",
       "        text-align: right;\n",
       "    }\n",
       "</style>\n",
       "<table border=\"1\" class=\"dataframe\">\n",
       "  <thead>\n",
       "    <tr style=\"text-align: right;\">\n",
       "      <th></th>\n",
       "      <th>title</th>\n",
       "      <th>location</th>\n",
       "      <th>department</th>\n",
       "      <th>salary_range</th>\n",
       "      <th>company_profile</th>\n",
       "      <th>description</th>\n",
       "      <th>requirements</th>\n",
       "      <th>benefits</th>\n",
       "      <th>telecommuting</th>\n",
       "      <th>has_company_logo</th>\n",
       "      <th>has_questions</th>\n",
       "      <th>employment_type</th>\n",
       "      <th>required_experience</th>\n",
       "      <th>required_education</th>\n",
       "      <th>industry</th>\n",
       "      <th>function</th>\n",
       "      <th>fraudulent</th>\n",
       "    </tr>\n",
       "  </thead>\n",
       "  <tbody>\n",
       "    <tr>\n",
       "      <th>count</th>\n",
       "      <td>866</td>\n",
       "      <td>866</td>\n",
       "      <td>866</td>\n",
       "      <td>866</td>\n",
       "      <td>866</td>\n",
       "      <td>866</td>\n",
       "      <td>866</td>\n",
       "      <td>866</td>\n",
       "      <td>866.000000</td>\n",
       "      <td>866.000000</td>\n",
       "      <td>866.000000</td>\n",
       "      <td>866</td>\n",
       "      <td>866</td>\n",
       "      <td>866</td>\n",
       "      <td>866</td>\n",
       "      <td>866</td>\n",
       "      <td>866.0</td>\n",
       "    </tr>\n",
       "    <tr>\n",
       "      <th>unique</th>\n",
       "      <td>560</td>\n",
       "      <td>374</td>\n",
       "      <td>104</td>\n",
       "      <td>118</td>\n",
       "      <td>50</td>\n",
       "      <td>632</td>\n",
       "      <td>479</td>\n",
       "      <td>308</td>\n",
       "      <td>NaN</td>\n",
       "      <td>NaN</td>\n",
       "      <td>NaN</td>\n",
       "      <td>6</td>\n",
       "      <td>8</td>\n",
       "      <td>11</td>\n",
       "      <td>63</td>\n",
       "      <td>28</td>\n",
       "      <td>NaN</td>\n",
       "    </tr>\n",
       "    <tr>\n",
       "      <th>top</th>\n",
       "      <td>Data Entry Admin/Clerical Positions - Work Fro...</td>\n",
       "      <td>US, TX, Houston</td>\n",
       "      <td>na</td>\n",
       "      <td>na</td>\n",
       "      <td>na</td>\n",
       "      <td>We are a full-service marketing and staffing f...</td>\n",
       "      <td>na</td>\n",
       "      <td>na</td>\n",
       "      <td>NaN</td>\n",
       "      <td>NaN</td>\n",
       "      <td>NaN</td>\n",
       "      <td>Full-time</td>\n",
       "      <td>na</td>\n",
       "      <td>na</td>\n",
       "      <td>na</td>\n",
       "      <td>na</td>\n",
       "      <td>NaN</td>\n",
       "    </tr>\n",
       "    <tr>\n",
       "      <th>freq</th>\n",
       "      <td>21</td>\n",
       "      <td>92</td>\n",
       "      <td>531</td>\n",
       "      <td>643</td>\n",
       "      <td>587</td>\n",
       "      <td>22</td>\n",
       "      <td>154</td>\n",
       "      <td>364</td>\n",
       "      <td>NaN</td>\n",
       "      <td>NaN</td>\n",
       "      <td>NaN</td>\n",
       "      <td>490</td>\n",
       "      <td>435</td>\n",
       "      <td>451</td>\n",
       "      <td>275</td>\n",
       "      <td>337</td>\n",
       "      <td>NaN</td>\n",
       "    </tr>\n",
       "    <tr>\n",
       "      <th>mean</th>\n",
       "      <td>NaN</td>\n",
       "      <td>NaN</td>\n",
       "      <td>NaN</td>\n",
       "      <td>NaN</td>\n",
       "      <td>NaN</td>\n",
       "      <td>NaN</td>\n",
       "      <td>NaN</td>\n",
       "      <td>NaN</td>\n",
       "      <td>0.073903</td>\n",
       "      <td>0.326790</td>\n",
       "      <td>0.288684</td>\n",
       "      <td>NaN</td>\n",
       "      <td>NaN</td>\n",
       "      <td>NaN</td>\n",
       "      <td>NaN</td>\n",
       "      <td>NaN</td>\n",
       "      <td>1.0</td>\n",
       "    </tr>\n",
       "    <tr>\n",
       "      <th>std</th>\n",
       "      <td>NaN</td>\n",
       "      <td>NaN</td>\n",
       "      <td>NaN</td>\n",
       "      <td>NaN</td>\n",
       "      <td>NaN</td>\n",
       "      <td>NaN</td>\n",
       "      <td>NaN</td>\n",
       "      <td>NaN</td>\n",
       "      <td>0.261764</td>\n",
       "      <td>0.469311</td>\n",
       "      <td>0.453412</td>\n",
       "      <td>NaN</td>\n",
       "      <td>NaN</td>\n",
       "      <td>NaN</td>\n",
       "      <td>NaN</td>\n",
       "      <td>NaN</td>\n",
       "      <td>0.0</td>\n",
       "    </tr>\n",
       "    <tr>\n",
       "      <th>min</th>\n",
       "      <td>NaN</td>\n",
       "      <td>NaN</td>\n",
       "      <td>NaN</td>\n",
       "      <td>NaN</td>\n",
       "      <td>NaN</td>\n",
       "      <td>NaN</td>\n",
       "      <td>NaN</td>\n",
       "      <td>NaN</td>\n",
       "      <td>0.000000</td>\n",
       "      <td>0.000000</td>\n",
       "      <td>0.000000</td>\n",
       "      <td>NaN</td>\n",
       "      <td>NaN</td>\n",
       "      <td>NaN</td>\n",
       "      <td>NaN</td>\n",
       "      <td>NaN</td>\n",
       "      <td>1.0</td>\n",
       "    </tr>\n",
       "    <tr>\n",
       "      <th>25%</th>\n",
       "      <td>NaN</td>\n",
       "      <td>NaN</td>\n",
       "      <td>NaN</td>\n",
       "      <td>NaN</td>\n",
       "      <td>NaN</td>\n",
       "      <td>NaN</td>\n",
       "      <td>NaN</td>\n",
       "      <td>NaN</td>\n",
       "      <td>0.000000</td>\n",
       "      <td>0.000000</td>\n",
       "      <td>0.000000</td>\n",
       "      <td>NaN</td>\n",
       "      <td>NaN</td>\n",
       "      <td>NaN</td>\n",
       "      <td>NaN</td>\n",
       "      <td>NaN</td>\n",
       "      <td>1.0</td>\n",
       "    </tr>\n",
       "    <tr>\n",
       "      <th>50%</th>\n",
       "      <td>NaN</td>\n",
       "      <td>NaN</td>\n",
       "      <td>NaN</td>\n",
       "      <td>NaN</td>\n",
       "      <td>NaN</td>\n",
       "      <td>NaN</td>\n",
       "      <td>NaN</td>\n",
       "      <td>NaN</td>\n",
       "      <td>0.000000</td>\n",
       "      <td>0.000000</td>\n",
       "      <td>0.000000</td>\n",
       "      <td>NaN</td>\n",
       "      <td>NaN</td>\n",
       "      <td>NaN</td>\n",
       "      <td>NaN</td>\n",
       "      <td>NaN</td>\n",
       "      <td>1.0</td>\n",
       "    </tr>\n",
       "    <tr>\n",
       "      <th>75%</th>\n",
       "      <td>NaN</td>\n",
       "      <td>NaN</td>\n",
       "      <td>NaN</td>\n",
       "      <td>NaN</td>\n",
       "      <td>NaN</td>\n",
       "      <td>NaN</td>\n",
       "      <td>NaN</td>\n",
       "      <td>NaN</td>\n",
       "      <td>0.000000</td>\n",
       "      <td>1.000000</td>\n",
       "      <td>1.000000</td>\n",
       "      <td>NaN</td>\n",
       "      <td>NaN</td>\n",
       "      <td>NaN</td>\n",
       "      <td>NaN</td>\n",
       "      <td>NaN</td>\n",
       "      <td>1.0</td>\n",
       "    </tr>\n",
       "    <tr>\n",
       "      <th>max</th>\n",
       "      <td>NaN</td>\n",
       "      <td>NaN</td>\n",
       "      <td>NaN</td>\n",
       "      <td>NaN</td>\n",
       "      <td>NaN</td>\n",
       "      <td>NaN</td>\n",
       "      <td>NaN</td>\n",
       "      <td>NaN</td>\n",
       "      <td>1.000000</td>\n",
       "      <td>1.000000</td>\n",
       "      <td>1.000000</td>\n",
       "      <td>NaN</td>\n",
       "      <td>NaN</td>\n",
       "      <td>NaN</td>\n",
       "      <td>NaN</td>\n",
       "      <td>NaN</td>\n",
       "      <td>1.0</td>\n",
       "    </tr>\n",
       "  </tbody>\n",
       "</table>\n",
       "</div>"
      ],
      "text/plain": [
       "                                                    title         location  \\\n",
       "count                                                 866              866   \n",
       "unique                                                560              374   \n",
       "top     Data Entry Admin/Clerical Positions - Work Fro...  US, TX, Houston   \n",
       "freq                                                   21               92   \n",
       "mean                                                  NaN              NaN   \n",
       "std                                                   NaN              NaN   \n",
       "min                                                   NaN              NaN   \n",
       "25%                                                   NaN              NaN   \n",
       "50%                                                   NaN              NaN   \n",
       "75%                                                   NaN              NaN   \n",
       "max                                                   NaN              NaN   \n",
       "\n",
       "       department salary_range company_profile  \\\n",
       "count         866          866             866   \n",
       "unique        104          118              50   \n",
       "top            na           na              na   \n",
       "freq          531          643             587   \n",
       "mean          NaN          NaN             NaN   \n",
       "std           NaN          NaN             NaN   \n",
       "min           NaN          NaN             NaN   \n",
       "25%           NaN          NaN             NaN   \n",
       "50%           NaN          NaN             NaN   \n",
       "75%           NaN          NaN             NaN   \n",
       "max           NaN          NaN             NaN   \n",
       "\n",
       "                                              description requirements  \\\n",
       "count                                                 866          866   \n",
       "unique                                                632          479   \n",
       "top     We are a full-service marketing and staffing f...           na   \n",
       "freq                                                   22          154   \n",
       "mean                                                  NaN          NaN   \n",
       "std                                                   NaN          NaN   \n",
       "min                                                   NaN          NaN   \n",
       "25%                                                   NaN          NaN   \n",
       "50%                                                   NaN          NaN   \n",
       "75%                                                   NaN          NaN   \n",
       "max                                                   NaN          NaN   \n",
       "\n",
       "       benefits  telecommuting  has_company_logo  has_questions  \\\n",
       "count       866     866.000000        866.000000     866.000000   \n",
       "unique      308            NaN               NaN            NaN   \n",
       "top          na            NaN               NaN            NaN   \n",
       "freq        364            NaN               NaN            NaN   \n",
       "mean        NaN       0.073903          0.326790       0.288684   \n",
       "std         NaN       0.261764          0.469311       0.453412   \n",
       "min         NaN       0.000000          0.000000       0.000000   \n",
       "25%         NaN       0.000000          0.000000       0.000000   \n",
       "50%         NaN       0.000000          0.000000       0.000000   \n",
       "75%         NaN       0.000000          1.000000       1.000000   \n",
       "max         NaN       1.000000          1.000000       1.000000   \n",
       "\n",
       "       employment_type required_experience required_education industry  \\\n",
       "count              866                 866                866      866   \n",
       "unique               6                   8                 11       63   \n",
       "top          Full-time                  na                 na       na   \n",
       "freq               490                 435                451      275   \n",
       "mean               NaN                 NaN                NaN      NaN   \n",
       "std                NaN                 NaN                NaN      NaN   \n",
       "min                NaN                 NaN                NaN      NaN   \n",
       "25%                NaN                 NaN                NaN      NaN   \n",
       "50%                NaN                 NaN                NaN      NaN   \n",
       "75%                NaN                 NaN                NaN      NaN   \n",
       "max                NaN                 NaN                NaN      NaN   \n",
       "\n",
       "       function  fraudulent  \n",
       "count       866       866.0  \n",
       "unique       28         NaN  \n",
       "top          na         NaN  \n",
       "freq        337         NaN  \n",
       "mean        NaN         1.0  \n",
       "std         NaN         0.0  \n",
       "min         NaN         1.0  \n",
       "25%         NaN         1.0  \n",
       "50%         NaN         1.0  \n",
       "75%         NaN         1.0  \n",
       "max         NaN         1.0  "
      ]
     },
     "execution_count": 29,
     "metadata": {},
     "output_type": "execute_result"
    }
   ],
   "source": [
    "fake=df_na[df_na.fraudulent==1]\n",
    "fake.describe(include='all')"
   ]
  },
  {
   "cell_type": "code",
   "execution_count": 30,
   "id": "6d63b8a4",
   "metadata": {},
   "outputs": [],
   "source": [
    "na_rates=pd.DataFrame([col, len(real.loc[real[col]=='na'])/len(real[col]), len(fake.loc[fake[col]=='na'])/len(fake[col]) ] for col in df.columns)"
   ]
  },
  {
   "cell_type": "code",
   "execution_count": 31,
   "id": "f095e10d",
   "metadata": {},
   "outputs": [],
   "source": [
    "na_rates.columns=['column','real_na_rates','fake_na_rates']"
   ]
  },
  {
   "cell_type": "code",
   "execution_count": 32,
   "id": "8afbed08",
   "metadata": {},
   "outputs": [
    {
     "data": {
      "text/html": [
       "<div>\n",
       "<style scoped>\n",
       "    .dataframe tbody tr th:only-of-type {\n",
       "        vertical-align: middle;\n",
       "    }\n",
       "\n",
       "    .dataframe tbody tr th {\n",
       "        vertical-align: top;\n",
       "    }\n",
       "\n",
       "    .dataframe thead th {\n",
       "        text-align: right;\n",
       "    }\n",
       "</style>\n",
       "<table border=\"1\" class=\"dataframe\">\n",
       "  <thead>\n",
       "    <tr style=\"text-align: right;\">\n",
       "      <th></th>\n",
       "      <th>column</th>\n",
       "      <th>real_na_rates</th>\n",
       "      <th>fake_na_rates</th>\n",
       "    </tr>\n",
       "  </thead>\n",
       "  <tbody>\n",
       "    <tr>\n",
       "      <th>0</th>\n",
       "      <td>title</td>\n",
       "      <td>0.000000</td>\n",
       "      <td>0.000000</td>\n",
       "    </tr>\n",
       "    <tr>\n",
       "      <th>1</th>\n",
       "      <td>location</td>\n",
       "      <td>0.019219</td>\n",
       "      <td>0.021940</td>\n",
       "    </tr>\n",
       "    <tr>\n",
       "      <th>2</th>\n",
       "      <td>department</td>\n",
       "      <td>0.647467</td>\n",
       "      <td>0.613164</td>\n",
       "    </tr>\n",
       "    <tr>\n",
       "      <th>3</th>\n",
       "      <td>salary_range</td>\n",
       "      <td>0.844540</td>\n",
       "      <td>0.742494</td>\n",
       "    </tr>\n",
       "    <tr>\n",
       "      <th>4</th>\n",
       "      <td>company_profile</td>\n",
       "      <td>0.159927</td>\n",
       "      <td>0.677829</td>\n",
       "    </tr>\n",
       "    <tr>\n",
       "      <th>5</th>\n",
       "      <td>description</td>\n",
       "      <td>0.000000</td>\n",
       "      <td>0.001155</td>\n",
       "    </tr>\n",
       "    <tr>\n",
       "      <th>6</th>\n",
       "      <td>requirements</td>\n",
       "      <td>0.149348</td>\n",
       "      <td>0.177829</td>\n",
       "    </tr>\n",
       "    <tr>\n",
       "      <th>7</th>\n",
       "      <td>benefits</td>\n",
       "      <td>0.402433</td>\n",
       "      <td>0.420323</td>\n",
       "    </tr>\n",
       "    <tr>\n",
       "      <th>8</th>\n",
       "      <td>telecommuting</td>\n",
       "      <td>0.000000</td>\n",
       "      <td>0.000000</td>\n",
       "    </tr>\n",
       "    <tr>\n",
       "      <th>9</th>\n",
       "      <td>has_company_logo</td>\n",
       "      <td>0.000000</td>\n",
       "      <td>0.000000</td>\n",
       "    </tr>\n",
       "    <tr>\n",
       "      <th>10</th>\n",
       "      <td>has_questions</td>\n",
       "      <td>0.000000</td>\n",
       "      <td>0.000000</td>\n",
       "    </tr>\n",
       "    <tr>\n",
       "      <th>11</th>\n",
       "      <td>employment_type</td>\n",
       "      <td>0.189844</td>\n",
       "      <td>0.278291</td>\n",
       "    </tr>\n",
       "    <tr>\n",
       "      <th>12</th>\n",
       "      <td>required_experience</td>\n",
       "      <td>0.388797</td>\n",
       "      <td>0.502309</td>\n",
       "    </tr>\n",
       "    <tr>\n",
       "      <th>13</th>\n",
       "      <td>required_education</td>\n",
       "      <td>0.449865</td>\n",
       "      <td>0.520785</td>\n",
       "    </tr>\n",
       "    <tr>\n",
       "      <th>14</th>\n",
       "      <td>industry</td>\n",
       "      <td>0.272011</td>\n",
       "      <td>0.317552</td>\n",
       "    </tr>\n",
       "    <tr>\n",
       "      <th>15</th>\n",
       "      <td>function</td>\n",
       "      <td>0.359586</td>\n",
       "      <td>0.389145</td>\n",
       "    </tr>\n",
       "    <tr>\n",
       "      <th>16</th>\n",
       "      <td>fraudulent</td>\n",
       "      <td>0.000000</td>\n",
       "      <td>0.000000</td>\n",
       "    </tr>\n",
       "  </tbody>\n",
       "</table>\n",
       "</div>"
      ],
      "text/plain": [
       "                 column  real_na_rates  fake_na_rates\n",
       "0                 title       0.000000       0.000000\n",
       "1              location       0.019219       0.021940\n",
       "2            department       0.647467       0.613164\n",
       "3          salary_range       0.844540       0.742494\n",
       "4       company_profile       0.159927       0.677829\n",
       "5           description       0.000000       0.001155\n",
       "6          requirements       0.149348       0.177829\n",
       "7              benefits       0.402433       0.420323\n",
       "8         telecommuting       0.000000       0.000000\n",
       "9      has_company_logo       0.000000       0.000000\n",
       "10        has_questions       0.000000       0.000000\n",
       "11      employment_type       0.189844       0.278291\n",
       "12  required_experience       0.388797       0.502309\n",
       "13   required_education       0.449865       0.520785\n",
       "14             industry       0.272011       0.317552\n",
       "15             function       0.359586       0.389145\n",
       "16           fraudulent       0.000000       0.000000"
      ]
     },
     "execution_count": 32,
     "metadata": {},
     "output_type": "execute_result"
    }
   ],
   "source": [
    "na_rates"
   ]
  },
  {
   "cell_type": "markdown",
   "id": "48ebc3de",
   "metadata": {},
   "source": [
    "From the table we can see in all but one feature which has missing values, the fake ads are more likely to have missing values, with the exception of \"salary range\", in which fake ads are more likely to provide information. But are these differences of missing value rates statistically significant? I perform two proportion z-test on each of them, with the two-tailed p-value significance level setting at 0.005.\n",
    "\n"
   ]
  },
  {
   "cell_type": "code",
   "execution_count": 33,
   "id": "020d1406",
   "metadata": {},
   "outputs": [],
   "source": [
    "from statsmodels.stats.proportion import proportions_ztest\n",
    "for col in df.columns:\n",
    "    counts=np.array([len(real.loc[real[col]=='na']), len(fake.loc[fake[col]=='na'])])\n",
    "    nobs=np.array([len(real[col]), len(fake[col])])\n",
    "    if (counts.sum() !=0) and (nobs.sum() !=0):\n",
    "        na_rates.loc[na_rates.column==col,'zstat'], na_rates.loc[na_rates.column==col,'p_value']=proportions_ztest(count=counts, nobs=nobs,  alternative='two-sided')"
   ]
  },
  {
   "cell_type": "code",
   "execution_count": 34,
   "id": "767dc2c1",
   "metadata": {},
   "outputs": [],
   "source": [
    "na_rates['significant_diff']=na_rates['p_value']<0.005"
   ]
  },
  {
   "cell_type": "code",
   "execution_count": 35,
   "id": "b3bb880c",
   "metadata": {},
   "outputs": [
    {
     "data": {
      "text/html": [
       "<div>\n",
       "<style scoped>\n",
       "    .dataframe tbody tr th:only-of-type {\n",
       "        vertical-align: middle;\n",
       "    }\n",
       "\n",
       "    .dataframe tbody tr th {\n",
       "        vertical-align: top;\n",
       "    }\n",
       "\n",
       "    .dataframe thead th {\n",
       "        text-align: right;\n",
       "    }\n",
       "</style>\n",
       "<table border=\"1\" class=\"dataframe\">\n",
       "  <thead>\n",
       "    <tr style=\"text-align: right;\">\n",
       "      <th></th>\n",
       "      <th>column</th>\n",
       "      <th>real_na_rates</th>\n",
       "      <th>fake_na_rates</th>\n",
       "      <th>zstat</th>\n",
       "      <th>p_value</th>\n",
       "      <th>significant_diff</th>\n",
       "    </tr>\n",
       "  </thead>\n",
       "  <tbody>\n",
       "    <tr>\n",
       "      <th>0</th>\n",
       "      <td>title</td>\n",
       "      <td>0.000000</td>\n",
       "      <td>0.000000</td>\n",
       "      <td>NaN</td>\n",
       "      <td>NaN</td>\n",
       "      <td>False</td>\n",
       "    </tr>\n",
       "    <tr>\n",
       "      <th>1</th>\n",
       "      <td>location</td>\n",
       "      <td>0.019219</td>\n",
       "      <td>0.021940</td>\n",
       "      <td>-0.566910</td>\n",
       "      <td>5.707753e-01</td>\n",
       "      <td>False</td>\n",
       "    </tr>\n",
       "    <tr>\n",
       "      <th>2</th>\n",
       "      <td>department</td>\n",
       "      <td>0.647467</td>\n",
       "      <td>0.613164</td>\n",
       "      <td>2.058905</td>\n",
       "      <td>3.950329e-02</td>\n",
       "      <td>False</td>\n",
       "    </tr>\n",
       "    <tr>\n",
       "      <th>3</th>\n",
       "      <td>salary_range</td>\n",
       "      <td>0.844540</td>\n",
       "      <td>0.742494</td>\n",
       "      <td>7.982358</td>\n",
       "      <td>1.435640e-15</td>\n",
       "      <td>True</td>\n",
       "    </tr>\n",
       "    <tr>\n",
       "      <th>4</th>\n",
       "      <td>company_profile</td>\n",
       "      <td>0.159927</td>\n",
       "      <td>0.677829</td>\n",
       "      <td>-38.286984</td>\n",
       "      <td>0.000000e+00</td>\n",
       "      <td>True</td>\n",
       "    </tr>\n",
       "    <tr>\n",
       "      <th>5</th>\n",
       "      <td>description</td>\n",
       "      <td>0.000000</td>\n",
       "      <td>0.001155</td>\n",
       "      <td>-4.432578</td>\n",
       "      <td>9.311288e-06</td>\n",
       "      <td>True</td>\n",
       "    </tr>\n",
       "    <tr>\n",
       "      <th>6</th>\n",
       "      <td>requirements</td>\n",
       "      <td>0.149348</td>\n",
       "      <td>0.177829</td>\n",
       "      <td>-2.285189</td>\n",
       "      <td>2.230177e-02</td>\n",
       "      <td>False</td>\n",
       "    </tr>\n",
       "    <tr>\n",
       "      <th>7</th>\n",
       "      <td>benefits</td>\n",
       "      <td>0.402433</td>\n",
       "      <td>0.420323</td>\n",
       "      <td>-1.046881</td>\n",
       "      <td>2.951542e-01</td>\n",
       "      <td>False</td>\n",
       "    </tr>\n",
       "    <tr>\n",
       "      <th>8</th>\n",
       "      <td>telecommuting</td>\n",
       "      <td>0.000000</td>\n",
       "      <td>0.000000</td>\n",
       "      <td>NaN</td>\n",
       "      <td>NaN</td>\n",
       "      <td>False</td>\n",
       "    </tr>\n",
       "    <tr>\n",
       "      <th>9</th>\n",
       "      <td>has_company_logo</td>\n",
       "      <td>0.000000</td>\n",
       "      <td>0.000000</td>\n",
       "      <td>NaN</td>\n",
       "      <td>NaN</td>\n",
       "      <td>False</td>\n",
       "    </tr>\n",
       "    <tr>\n",
       "      <th>10</th>\n",
       "      <td>has_questions</td>\n",
       "      <td>0.000000</td>\n",
       "      <td>0.000000</td>\n",
       "      <td>NaN</td>\n",
       "      <td>NaN</td>\n",
       "      <td>False</td>\n",
       "    </tr>\n",
       "    <tr>\n",
       "      <th>11</th>\n",
       "      <td>employment_type</td>\n",
       "      <td>0.189844</td>\n",
       "      <td>0.278291</td>\n",
       "      <td>-6.419282</td>\n",
       "      <td>1.369188e-10</td>\n",
       "      <td>True</td>\n",
       "    </tr>\n",
       "    <tr>\n",
       "      <th>12</th>\n",
       "      <td>required_experience</td>\n",
       "      <td>0.388797</td>\n",
       "      <td>0.502309</td>\n",
       "      <td>-6.667744</td>\n",
       "      <td>2.597648e-11</td>\n",
       "      <td>True</td>\n",
       "    </tr>\n",
       "    <tr>\n",
       "      <th>13</th>\n",
       "      <td>required_education</td>\n",
       "      <td>0.449865</td>\n",
       "      <td>0.520785</td>\n",
       "      <td>-4.089613</td>\n",
       "      <td>4.320935e-05</td>\n",
       "      <td>True</td>\n",
       "    </tr>\n",
       "    <tr>\n",
       "      <th>14</th>\n",
       "      <td>industry</td>\n",
       "      <td>0.272011</td>\n",
       "      <td>0.317552</td>\n",
       "      <td>-2.930403</td>\n",
       "      <td>3.385229e-03</td>\n",
       "      <td>True</td>\n",
       "    </tr>\n",
       "    <tr>\n",
       "      <th>15</th>\n",
       "      <td>function</td>\n",
       "      <td>0.359586</td>\n",
       "      <td>0.389145</td>\n",
       "      <td>-1.766703</td>\n",
       "      <td>7.727805e-02</td>\n",
       "      <td>False</td>\n",
       "    </tr>\n",
       "    <tr>\n",
       "      <th>16</th>\n",
       "      <td>fraudulent</td>\n",
       "      <td>0.000000</td>\n",
       "      <td>0.000000</td>\n",
       "      <td>NaN</td>\n",
       "      <td>NaN</td>\n",
       "      <td>False</td>\n",
       "    </tr>\n",
       "  </tbody>\n",
       "</table>\n",
       "</div>"
      ],
      "text/plain": [
       "                 column  real_na_rates  fake_na_rates      zstat  \\\n",
       "0                 title       0.000000       0.000000        NaN   \n",
       "1              location       0.019219       0.021940  -0.566910   \n",
       "2            department       0.647467       0.613164   2.058905   \n",
       "3          salary_range       0.844540       0.742494   7.982358   \n",
       "4       company_profile       0.159927       0.677829 -38.286984   \n",
       "5           description       0.000000       0.001155  -4.432578   \n",
       "6          requirements       0.149348       0.177829  -2.285189   \n",
       "7              benefits       0.402433       0.420323  -1.046881   \n",
       "8         telecommuting       0.000000       0.000000        NaN   \n",
       "9      has_company_logo       0.000000       0.000000        NaN   \n",
       "10        has_questions       0.000000       0.000000        NaN   \n",
       "11      employment_type       0.189844       0.278291  -6.419282   \n",
       "12  required_experience       0.388797       0.502309  -6.667744   \n",
       "13   required_education       0.449865       0.520785  -4.089613   \n",
       "14             industry       0.272011       0.317552  -2.930403   \n",
       "15             function       0.359586       0.389145  -1.766703   \n",
       "16           fraudulent       0.000000       0.000000        NaN   \n",
       "\n",
       "         p_value  significant_diff  \n",
       "0            NaN             False  \n",
       "1   5.707753e-01             False  \n",
       "2   3.950329e-02             False  \n",
       "3   1.435640e-15              True  \n",
       "4   0.000000e+00              True  \n",
       "5   9.311288e-06              True  \n",
       "6   2.230177e-02             False  \n",
       "7   2.951542e-01             False  \n",
       "8            NaN             False  \n",
       "9            NaN             False  \n",
       "10           NaN             False  \n",
       "11  1.369188e-10              True  \n",
       "12  2.597648e-11              True  \n",
       "13  4.320935e-05              True  \n",
       "14  3.385229e-03              True  \n",
       "15  7.727805e-02             False  \n",
       "16           NaN             False  "
      ]
     },
     "execution_count": 35,
     "metadata": {},
     "output_type": "execute_result"
    }
   ],
   "source": [
    "na_rates"
   ]
  },
  {
   "cell_type": "markdown",
   "id": "a6d8ea48",
   "metadata": {},
   "source": [
    "The Z-tests indicate that differences of na-rates among real and fake job-postings are mostly statistically significant, except in 'location', 'department', 'benefits' and 'function'. The difference is largest in company profile, where 68% of fake ads do not have a company profile, but only 16.1% of real ads omit company profiles."
   ]
  },
  {
   "cell_type": "markdown",
   "id": "9cf51687",
   "metadata": {},
   "source": [
    "## Length of Text Fields"
   ]
  },
  {
   "cell_type": "markdown",
   "id": "f637ee0e",
   "metadata": {},
   "source": [
    "examine the length of text fields in real and fake ads."
   ]
  },
  {
   "cell_type": "code",
   "execution_count": 36,
   "id": "b928c6ed",
   "metadata": {},
   "outputs": [],
   "source": [
    "df_na['company_profile_length']=df_na.apply(lambda row: len(row.company_profile), axis=1)\n",
    "df_na['description_length']=df_na.apply(lambda row: len(row.description), axis=1)\n",
    "df_na['requirements_length']=df_na.apply(lambda row: len(row.requirements), axis=1)\n",
    "df_na['benefits_length']=df_na.apply(lambda row: len(row.benefits), axis=1)\n",
    "df_na['total_text_length']=df_na['company_profile_length']+df_na['description_length']+df_na['requirements_length']+df_na['benefits_length']"
   ]
  },
  {
   "cell_type": "code",
   "execution_count": 37,
   "id": "85666950",
   "metadata": {},
   "outputs": [
    {
     "data": {
      "text/plain": [
       "<seaborn.axisgrid.FacetGrid at 0x1c8e103d970>"
      ]
     },
     "execution_count": 37,
     "metadata": {},
     "output_type": "execute_result"
    },
    {
     "data": {
      "image/png": "[encoded data removed]",
      "text/plain": [
       "<Figure size 420.25x360 with 1 Axes>"
      ]
     },
     "metadata": {
      "needs_background": "light"
     },
     "output_type": "display_data"
    }
   ],
   "source": [
    "sns.displot(df_na, x='company_profile_length', hue='fraudulent', stat='density', bins=20, common_norm=False, multiple='dodge')"
   ]
  },
  {
   "cell_type": "code",
   "execution_count": 38,
   "id": "88d18d12",
   "metadata": {},
   "outputs": [
    {
     "data": {
      "text/plain": [
       "<seaborn.axisgrid.FacetGrid at 0x1c8e1d51460>"
      ]
     },
     "execution_count": 38,
     "metadata": {},
     "output_type": "execute_result"
    },
    {
     "data": {
      "image/png": "[encoded data removed]",
      "text/plain": [
       "<Figure size 420.25x360 with 1 Axes>"
      ]
     },
     "metadata": {
      "needs_background": "light"
     },
     "output_type": "display_data"
    }
   ],
   "source": [
    "ax=sns.displot(df_na, x='company_profile_length', hue='fraudulent', kind='kde', common_norm=False, cut=0)\n",
    "ax.set(xscale=\"log\")"
   ]
  },
  {
   "cell_type": "code",
   "execution_count": 39,
   "id": "139bc807",
   "metadata": {},
   "outputs": [
    {
     "data": {
      "text/plain": [
       "<seaborn.axisgrid.FacetGrid at 0x1c8e5b13e80>"
      ]
     },
     "execution_count": 39,
     "metadata": {},
     "output_type": "execute_result"
    },
    {
     "data": {
      "image/png": "[encoded data removed]",
      "text/plain": [
       "<Figure size 420.25x360 with 1 Axes>"
      ]
     },
     "metadata": {
      "needs_background": "light"
     },
     "output_type": "display_data"
    }
   ],
   "source": [
    "sns.displot(df_na, x='description_length', hue='fraudulent', stat='density', bins=20, common_norm=False, multiple='dodge')"
   ]
  },
  {
   "cell_type": "code",
   "execution_count": 40,
   "id": "7e689194",
   "metadata": {},
   "outputs": [
    {
     "data": {
      "text/plain": [
       "<seaborn.axisgrid.FacetGrid at 0x1c8ed61adc0>"
      ]
     },
     "execution_count": 40,
     "metadata": {},
     "output_type": "execute_result"
    },
    {
     "data": {
      "image/png": "[encoded data removed]",
      "text/plain": [
       "<Figure size 420.25x360 with 1 Axes>"
      ]
     },
     "metadata": {
      "needs_background": "light"
     },
     "output_type": "display_data"
    }
   ],
   "source": [
    "ax=sns.displot(df_na, x='description_length', hue='fraudulent', kind='kde', common_norm=False, cut=0)\n",
    "ax.set(xscale=\"log\")"
   ]
  },
  {
   "cell_type": "code",
   "execution_count": 41,
   "id": "c3e4807c",
   "metadata": {},
   "outputs": [
    {
     "data": {
      "text/plain": [
       "<seaborn.axisgrid.FacetGrid at 0x1c8ed4aa250>"
      ]
     },
     "execution_count": 41,
     "metadata": {},
     "output_type": "execute_result"
    },
    {
     "data": {
      "image/png": "[encoded data removed]",
      "text/plain": [
       "<Figure size 420.25x360 with 1 Axes>"
      ]
     },
     "metadata": {
      "needs_background": "light"
     },
     "output_type": "display_data"
    }
   ],
   "source": [
    "ax=sns.displot(df_na, x='requirements_length', hue='fraudulent', kind='kde', common_norm=False, cut=0)\n",
    "ax.set(xscale=\"log\")"
   ]
  },
  {
   "cell_type": "code",
   "execution_count": 42,
   "id": "0ef19901",
   "metadata": {},
   "outputs": [
    {
     "data": {
      "text/plain": [
       "<seaborn.axisgrid.FacetGrid at 0x1c8f3b216a0>"
      ]
     },
     "execution_count": 42,
     "metadata": {},
     "output_type": "execute_result"
    },
    {
     "data": {
      "image/png": "[encoded data removed]",
      "text/plain": [
       "<Figure size 420.25x360 with 1 Axes>"
      ]
     },
     "metadata": {
      "needs_background": "light"
     },
     "output_type": "display_data"
    }
   ],
   "source": [
    "ax=sns.displot(df_na, x='benefits_length', hue='fraudulent', kind='kde', common_norm=False, cut=0)\n",
    "ax.set(xscale=\"log\")"
   ]
  },
  {
   "cell_type": "code",
   "execution_count": 43,
   "id": "eccc3cea",
   "metadata": {},
   "outputs": [
    {
     "data": {
      "text/plain": [
       "<seaborn.axisgrid.FacetGrid at 0x1c8f3e3fd90>"
      ]
     },
     "execution_count": 43,
     "metadata": {},
     "output_type": "execute_result"
    },
    {
     "data": {
      "image/png": "[encoded data removed]",
      "text/plain": [
       "<Figure size 420.25x360 with 1 Axes>"
      ]
     },
     "metadata": {
      "needs_background": "light"
     },
     "output_type": "display_data"
    }
   ],
   "source": [
    "ax=sns.displot(df_na, x='total_text_length', hue='fraudulent', kind='kde', common_norm=False, cut=0)\n",
    "ax.set(xscale=\"log\")"
   ]
  },
  {
   "cell_type": "markdown",
   "id": "e729664f",
   "metadata": {},
   "source": [
    "And it is evidently clear that fake ads generally have shorter textual contents."
   ]
  },
  {
   "cell_type": "markdown",
   "id": "5c695e39",
   "metadata": {},
   "source": [
    "## Examination of Other Features "
   ]
  },
  {
   "cell_type": "markdown",
   "id": "00b63115",
   "metadata": {},
   "source": [
    "The following graphs of three binary features show that ads of jobs involving telecommuting, do not have company logo and screening questions are more likely to be fake. Among the three features, the absence of company logo is the most indicative, with 16% of ads without company logo to be fake, while only 2% of ads with company logo are fraudulent."
   ]
  },
  {
   "cell_type": "code",
   "execution_count": 44,
   "id": "9bf97b87",
   "metadata": {},
   "outputs": [
    {
     "data": {
      "text/plain": [
       "<seaborn.axisgrid.FacetGrid at 0x1c8ed6df3a0>"
      ]
     },
     "execution_count": 44,
     "metadata": {},
     "output_type": "execute_result"
    },
    {
     "data": {
      "image/png": "[encoded data removed]",
      "text/plain": [
       "<Figure size 360x360 with 1 Axes>"
      ]
     },
     "metadata": {
      "needs_background": "light"
     },
     "output_type": "display_data"
    }
   ],
   "source": [
    "sns.catplot(data=df_na, y='fraudulent', x='telecommuting', kind='bar')"
   ]
  },
  {
   "cell_type": "code",
   "execution_count": 45,
   "id": "ad1c7960",
   "metadata": {},
   "outputs": [
    {
     "data": {
      "text/plain": [
       "<seaborn.axisgrid.FacetGrid at 0x1c8ed6ebfa0>"
      ]
     },
     "execution_count": 45,
     "metadata": {},
     "output_type": "execute_result"
    },
    {
     "data": {
      "image/png": "[encoded data removed]",
      "text/plain": [
       "<Figure size 360x360 with 1 Axes>"
      ]
     },
     "metadata": {
      "needs_background": "light"
     },
     "output_type": "display_data"
    }
   ],
   "source": [
    "sns.catplot(data=df_na, y='fraudulent', x='has_company_logo', kind='bar')"
   ]
  },
  {
   "cell_type": "code",
   "execution_count": 46,
   "id": "73b42351",
   "metadata": {},
   "outputs": [
    {
     "data": {
      "text/plain": [
       "<seaborn.axisgrid.FacetGrid at 0x1c8f43cad60>"
      ]
     },
     "execution_count": 46,
     "metadata": {},
     "output_type": "execute_result"
    },
    {
     "data": {
      "image/png": "[encoded data removed]",
      "text/plain": [
       "<Figure size 360x360 with 1 Axes>"
      ]
     },
     "metadata": {
      "needs_background": "light"
     },
     "output_type": "display_data"
    }
   ],
   "source": [
    "sns.catplot(data=df_na, y='fraudulent', x='has_questions', kind='bar')"
   ]
  },
  {
   "cell_type": "markdown",
   "id": "a8572f2f",
   "metadata": {},
   "source": [
    "In terms of employment type, ads which specify \"full-time\", \"contract\" and \"temporary\" are less likely to be fake. For required experience, ads which specify \"associate\",\"mid-senior level\" and \"internship\" are less likely to be fake. And for required education, each category has more or less the same low fraudulent rates, with the exception of \"some high school coursework\", where the fraudulent rate is 75%. For function listed, \"administrative\" with a fraudulent rate about 20% stands out."
   ]
  },
  {
   "cell_type": "code",
   "execution_count": 47,
   "id": "e660a1d1",
   "metadata": {},
   "outputs": [
    {
     "data": {
      "text/plain": [
       "<seaborn.axisgrid.FacetGrid at 0x1c8f4429730>"
      ]
     },
     "execution_count": 47,
     "metadata": {},
     "output_type": "execute_result"
    },
    {
     "data": {
      "image/png": "[encoded data removed]",
      "text/plain": [
       "<Figure size 360x360 with 1 Axes>"
      ]
     },
     "metadata": {
      "needs_background": "light"
     },
     "output_type": "display_data"
    }
   ],
   "source": [
    "sns.catplot(data=df_na, x='fraudulent', y='employment_type', kind='bar')"
   ]
  },
  {
   "cell_type": "code",
   "execution_count": 48,
   "id": "5cfe4182",
   "metadata": {},
   "outputs": [
    {
     "data": {
      "text/plain": [
       "<seaborn.axisgrid.FacetGrid at 0x1c8f43cad30>"
      ]
     },
     "execution_count": 48,
     "metadata": {},
     "output_type": "execute_result"
    },
    {
     "data": {
      "image/png": "[encoded data removed]",
      "text/plain": [
       "<Figure size 360x360 with 1 Axes>"
      ]
     },
     "metadata": {
      "needs_background": "light"
     },
     "output_type": "display_data"
    }
   ],
   "source": [
    "sns.catplot(data=df_na, x='fraudulent', y='required_experience', kind='bar')"
   ]
  },
  {
   "cell_type": "code",
   "execution_count": 49,
   "id": "80031113",
   "metadata": {},
   "outputs": [
    {
     "data": {
      "text/plain": [
       "<seaborn.axisgrid.FacetGrid at 0x1c8f444ed60>"
      ]
     },
     "execution_count": 49,
     "metadata": {},
     "output_type": "execute_result"
    },
    {
     "data": {
      "image/png": "[encoded data removed]",
      "text/plain": [
       "<Figure size 360x360 with 1 Axes>"
      ]
     },
     "metadata": {
      "needs_background": "light"
     },
     "output_type": "display_data"
    }
   ],
   "source": [
    "sns.catplot(data=df_na, x='fraudulent', y='required_education', kind='bar')"
   ]
  },
  {
   "cell_type": "code",
   "execution_count": 50,
   "id": "21a7fe9a",
   "metadata": {},
   "outputs": [
    {
     "data": {
      "text/plain": [
       "<seaborn.axisgrid.FacetGrid at 0x1c8f468df10>"
      ]
     },
     "execution_count": 50,
     "metadata": {},
     "output_type": "execute_result"
    },
    {
     "data": {
      "image/png": "[encoded data removed]",
      "text/plain": [
       "<Figure size 360x360 with 1 Axes>"
      ]
     },
     "metadata": {
      "needs_background": "light"
     },
     "output_type": "display_data"
    }
   ],
   "source": [
    "sns.catplot(data=df_na, x='fraudulent', y='function', kind='bar')"
   ]
  },
  {
   "cell_type": "markdown",
   "id": "b0cf510e",
   "metadata": {},
   "source": [
    "As for the 131 categories of industry listed, the most common in fake ads is \"oil and energy\". Among ads in that industry, the fraud rate 37.8% is also among the highest, though some isolated cases make the fraud rates of some industries like ranching, military and animation even higher."
   ]
  },
  {
   "cell_type": "code",
   "execution_count": 51,
   "id": "c1faba30",
   "metadata": {},
   "outputs": [
    {
     "data": {
      "text/plain": [
       "na                                     4903\n",
       "Information Technology and Services    1734\n",
       "Computer Software                      1376\n",
       "Internet                               1062\n",
       "Marketing and Advertising               828\n",
       "Education Management                    822\n",
       "Financial Services                      779\n",
       "Hospital & Health Care                  497\n",
       "Consumer Services                       358\n",
       "Telecommunications                      342\n",
       "Oil & Energy                            287\n",
       "Retail                                  223\n",
       "Real Estate                             175\n",
       "Accounting                              159\n",
       "Construction                            158\n",
       "E-Learning                              139\n",
       "Management Consulting                   130\n",
       "Design                                  129\n",
       "Health, Wellness and Fitness            127\n",
       "Staffing and Recruiting                 127\n",
       "Name: industry, dtype: int64"
      ]
     },
     "execution_count": 51,
     "metadata": {},
     "output_type": "execute_result"
    }
   ],
   "source": [
    "df_na.industry.value_counts()[:20]"
   ]
  },
  {
   "cell_type": "code",
   "execution_count": 52,
   "id": "d7e9bc6f",
   "metadata": {},
   "outputs": [
    {
     "data": {
      "text/plain": [
       "na                                     275\n",
       "Oil & Energy                           109\n",
       "Accounting                              57\n",
       "Hospital & Health Care                  51\n",
       "Marketing and Advertising               45\n",
       "Financial Services                      35\n",
       "Information Technology and Services     32\n",
       "Telecommunications                      26\n",
       "Consumer Services                       24\n",
       "Real Estate                             24\n",
       "Leisure, Travel & Tourism               21\n",
       "Health, Wellness and Fitness            15\n",
       "Hospitality                             14\n",
       "Computer Networking                     12\n",
       "Staffing and Recruiting                  8\n",
       "Insurance                                6\n",
       "Human Resources                          6\n",
       "Management Consulting                    6\n",
       "Computer & Network Security              5\n",
       "Entertainment                            5\n",
       "Name: industry, dtype: int64"
      ]
     },
     "execution_count": 52,
     "metadata": {},
     "output_type": "execute_result"
    }
   ],
   "source": [
    "fake.industry.value_counts()[:20]"
   ]
  },
  {
   "cell_type": "code",
   "execution_count": 53,
   "id": "3a51ea6a",
   "metadata": {},
   "outputs": [
    {
     "data": {
      "text/plain": [
       "na                                     4628\n",
       "Information Technology and Services    1702\n",
       "Computer Software                      1371\n",
       "Internet                               1062\n",
       "Education Management                    822\n",
       "Marketing and Advertising               783\n",
       "Financial Services                      744\n",
       "Hospital & Health Care                  446\n",
       "Consumer Services                       334\n",
       "Telecommunications                      316\n",
       "Retail                                  218\n",
       "Oil & Energy                            178\n",
       "Construction                            155\n",
       "Real Estate                             151\n",
       "E-Learning                              137\n",
       "Design                                  125\n",
       "Management Consulting                   124\n",
       "Staffing and Recruiting                 119\n",
       "Insurance                               117\n",
       "Automotive                              115\n",
       "Name: industry, dtype: int64"
      ]
     },
     "execution_count": 53,
     "metadata": {},
     "output_type": "execute_result"
    }
   ],
   "source": [
    "real.industry.value_counts()[:20]"
   ]
  },
  {
   "cell_type": "code",
   "execution_count": 54,
   "id": "19201ac7",
   "metadata": {},
   "outputs": [
    {
     "data": {
      "text/html": [
       "<div>\n",
       "<style scoped>\n",
       "    .dataframe tbody tr th:only-of-type {\n",
       "        vertical-align: middle;\n",
       "    }\n",
       "\n",
       "    .dataframe tbody tr th {\n",
       "        vertical-align: top;\n",
       "    }\n",
       "\n",
       "    .dataframe thead th {\n",
       "        text-align: right;\n",
       "    }\n",
       "</style>\n",
       "<table border=\"1\" class=\"dataframe\">\n",
       "  <thead>\n",
       "    <tr style=\"text-align: right;\">\n",
       "      <th></th>\n",
       "      <th>fraud rates</th>\n",
       "    </tr>\n",
       "    <tr>\n",
       "      <th>industry</th>\n",
       "      <th></th>\n",
       "    </tr>\n",
       "  </thead>\n",
       "  <tbody>\n",
       "    <tr>\n",
       "      <th>Ranching</th>\n",
       "      <td>1.000000</td>\n",
       "    </tr>\n",
       "    <tr>\n",
       "      <th>Military</th>\n",
       "      <td>0.500000</td>\n",
       "    </tr>\n",
       "    <tr>\n",
       "      <th>Animation</th>\n",
       "      <td>0.400000</td>\n",
       "    </tr>\n",
       "    <tr>\n",
       "      <th>Oil &amp; Energy</th>\n",
       "      <td>0.379791</td>\n",
       "    </tr>\n",
       "    <tr>\n",
       "      <th>Accounting</th>\n",
       "      <td>0.358491</td>\n",
       "    </tr>\n",
       "    <tr>\n",
       "      <th>Leisure, Travel &amp; Tourism</th>\n",
       "      <td>0.276316</td>\n",
       "    </tr>\n",
       "    <tr>\n",
       "      <th>Computer Networking</th>\n",
       "      <td>0.272727</td>\n",
       "    </tr>\n",
       "    <tr>\n",
       "      <th>Executive Office</th>\n",
       "      <td>0.250000</td>\n",
       "    </tr>\n",
       "    <tr>\n",
       "      <th>Defense &amp; Space</th>\n",
       "      <td>0.222222</td>\n",
       "    </tr>\n",
       "    <tr>\n",
       "      <th>Business Supplies and Equipment</th>\n",
       "      <td>0.166667</td>\n",
       "    </tr>\n",
       "    <tr>\n",
       "      <th>Investment Management</th>\n",
       "      <td>0.166667</td>\n",
       "    </tr>\n",
       "    <tr>\n",
       "      <th>Hospitality</th>\n",
       "      <td>0.159091</td>\n",
       "    </tr>\n",
       "    <tr>\n",
       "      <th>Public Safety</th>\n",
       "      <td>0.142857</td>\n",
       "    </tr>\n",
       "    <tr>\n",
       "      <th>Real Estate</th>\n",
       "      <td>0.137143</td>\n",
       "    </tr>\n",
       "    <tr>\n",
       "      <th>Health, Wellness and Fitness</th>\n",
       "      <td>0.118110</td>\n",
       "    </tr>\n",
       "    <tr>\n",
       "      <th>Civil Engineering</th>\n",
       "      <td>0.111111</td>\n",
       "    </tr>\n",
       "    <tr>\n",
       "      <th>Mechanical or Industrial Engineering</th>\n",
       "      <td>0.108108</td>\n",
       "    </tr>\n",
       "    <tr>\n",
       "      <th>Biotechnology</th>\n",
       "      <td>0.105263</td>\n",
       "    </tr>\n",
       "    <tr>\n",
       "      <th>Hospital &amp; Health Care</th>\n",
       "      <td>0.102616</td>\n",
       "    </tr>\n",
       "    <tr>\n",
       "      <th>Computer &amp; Network Security</th>\n",
       "      <td>0.102041</td>\n",
       "    </tr>\n",
       "  </tbody>\n",
       "</table>\n",
       "</div>"
      ],
      "text/plain": [
       "                                      fraud rates\n",
       "industry                                         \n",
       "Ranching                                 1.000000\n",
       "Military                                 0.500000\n",
       "Animation                                0.400000\n",
       "Oil & Energy                             0.379791\n",
       "Accounting                               0.358491\n",
       "Leisure, Travel & Tourism                0.276316\n",
       "Computer Networking                      0.272727\n",
       "Executive Office                         0.250000\n",
       "Defense & Space                          0.222222\n",
       "Business Supplies and Equipment          0.166667\n",
       "Investment Management                    0.166667\n",
       "Hospitality                              0.159091\n",
       "Public Safety                            0.142857\n",
       "Real Estate                              0.137143\n",
       "Health, Wellness and Fitness             0.118110\n",
       "Civil Engineering                        0.111111\n",
       "Mechanical or Industrial Engineering     0.108108\n",
       "Biotechnology                            0.105263\n",
       "Hospital & Health Care                   0.102616\n",
       "Computer & Network Security              0.102041"
      ]
     },
     "execution_count": 54,
     "metadata": {},
     "output_type": "execute_result"
    }
   ],
   "source": [
    "industry=pd.crosstab(df_na.industry, df_na.fraudulent, normalize='index', margins=True)\n",
    "industry.iloc[:,1].sort_values(ascending=False)[:20].to_frame(name='fraud rates')"
   ]
  },
  {
   "cell_type": "markdown",
   "id": "c69c9d19",
   "metadata": {},
   "source": [
    "The examination of title again reveals that some fake jobs ads emphasise money earned in dollar sign. 6.8% of fake ads have this characteristic, but only 0.4% of real ads do so."
   ]
  },
  {
   "cell_type": "code",
   "execution_count": 55,
   "id": "66a1201c",
   "metadata": {},
   "outputs": [
    {
     "data": {
      "text/plain": [
       "English Teacher Abroad                                311\n",
       "Customer Service Associate                            146\n",
       "Graduates: English Teacher Abroad (Conversational)    144\n",
       "English Teacher Abroad                                 95\n",
       "Software Engineer                                      86\n",
       "English Teacher Abroad (Conversational)                83\n",
       "Customer Service Associate - Part Time                 76\n",
       "Account Manager                                        75\n",
       "Web Developer                                          66\n",
       "Project Manager                                        62\n",
       "Beauty & Fragrance consultants needed                  60\n",
       "Graduates: English Teacher Abroad                      57\n",
       "Customer Service Representative                        51\n",
       "Administrative Assistant                               48\n",
       "Product Manager                                        47\n",
       "Office Manager                                         46\n",
       "Marketing Manager                                      45\n",
       "Customer Service Associate                             45\n",
       "Sales Representative                                   45\n",
       "iOS Developer                                          44\n",
       "Name: title, dtype: int64"
      ]
     },
     "execution_count": 55,
     "metadata": {},
     "output_type": "execute_result"
    }
   ],
   "source": [
    "df_na.title.value_counts()[:20]"
   ]
  },
  {
   "cell_type": "code",
   "execution_count": 56,
   "id": "85c601da",
   "metadata": {},
   "outputs": [
    {
     "data": {
      "text/plain": [
       "English Teacher Abroad                                311\n",
       "Customer Service Associate                            146\n",
       "Graduates: English Teacher Abroad (Conversational)    144\n",
       "English Teacher Abroad                                 95\n",
       "Software Engineer                                      86\n",
       "English Teacher Abroad (Conversational)                83\n",
       "Customer Service Associate - Part Time                 76\n",
       "Account Manager                                        73\n",
       "Web Developer                                          66\n",
       "Project Manager                                        62\n",
       "Beauty & Fragrance consultants needed                  60\n",
       "Graduates: English Teacher Abroad                      57\n",
       "Product Manager                                        47\n",
       "Marketing Manager                                      45\n",
       "Office Manager                                         44\n",
       "Web Designer                                           44\n",
       "Customer Service Associate                             44\n",
       "iOS Developer                                          44\n",
       "Senior Software Engineer                               44\n",
       "Sales Representative                                   42\n",
       "Name: title, dtype: int64"
      ]
     },
     "execution_count": 56,
     "metadata": {},
     "output_type": "execute_result"
    }
   ],
   "source": [
    "real.title.value_counts()[:20]"
   ]
  },
  {
   "cell_type": "code",
   "execution_count": 57,
   "id": "4a961723",
   "metadata": {},
   "outputs": [
    {
     "data": {
      "text/plain": [
       "Data Entry Admin/Clerical Positions - Work From Home                    21\n",
       "Home Based Payroll Typist/Data Entry Clerks Positions Available         21\n",
       "Cruise Staff Wanted *URGENT*                                            21\n",
       "Customer Service Representative                                         17\n",
       "Administrative Assistant                                                16\n",
       "Home Based Payroll Data Entry Clerk Position - Earn $100-$200 Daily     12\n",
       "Account Sales Managers $80-$130,000/yr                                  10\n",
       "Network Marketing                                                       10\n",
       "Payroll Clerk                                                           10\n",
       "Payroll Data Coordinator Positions - Earn $100-$200 Daily               10\n",
       "Data Entry                                                               9\n",
       "Agency Sales Managers $150-$175,000/yr                                   9\n",
       " Payroll Data Entry Clerk Position - Earn $100-$200 Daily                6\n",
       "Lawn and Maintenance Contractors                                         6\n",
       "Call Center Representative                                               6\n",
       "Executive Chef                                                           6\n",
       "Property Preservation Field Crews                                        5\n",
       "Optical Sales                                                            4\n",
       "Customer Assistant                                                       4\n",
       "Call Center Representative I                                             4\n",
       "Name: title, dtype: int64"
      ]
     },
     "execution_count": 57,
     "metadata": {},
     "output_type": "execute_result"
    }
   ],
   "source": [
    "fake.title.value_counts()[:20]"
   ]
  },
  {
   "cell_type": "code",
   "execution_count": 58,
   "id": "fe4a0ca8",
   "metadata": {},
   "outputs": [
    {
     "data": {
      "text/plain": [
       "False    0.933025\n",
       "True     0.066975\n",
       "Name: title, dtype: float64"
      ]
     },
     "execution_count": 58,
     "metadata": {},
     "output_type": "execute_result"
    }
   ],
   "source": [
    "fake.title.str.contains('$', regex=False).value_counts(normalize=True)"
   ]
  },
  {
   "cell_type": "code",
   "execution_count": 59,
   "id": "7a4e6128",
   "metadata": {},
   "outputs": [
    {
     "data": {
      "text/plain": [
       "False    0.995768\n",
       "True     0.004232\n",
       "Name: title, dtype: float64"
      ]
     },
     "execution_count": 59,
     "metadata": {},
     "output_type": "execute_result"
    }
   ],
   "source": [
    "real.title.str.contains('$', regex=False).value_counts(normalize=True)"
   ]
  },
  {
   "cell_type": "markdown",
   "id": "b24bfa7f",
   "metadata": {},
   "source": [
    "## Preliminary Textual Analysis "
   ]
  },
  {
   "cell_type": "markdown",
   "id": "0e44de5d",
   "metadata": {},
   "source": [
    "Then I join the open textual fields for analysis. The first thing to consider is checking whether external links are characteristics of fake job ads. Comparisons reveal while real and fake ads have #URL links in more or less same rates, 20% of fake ads have #EMAIL links but less than 7% of real ads do so, and 9.2% of fake ads have #PHONE links while only 2.6% of real ads have them."
   ]
  },
  {
   "cell_type": "code",
   "execution_count": 60,
   "id": "6a853c46",
   "metadata": {},
   "outputs": [],
   "source": [
    "real_text=real.title+' '+real.company_profile+' '+real.description+' '+real.requirements+' '+real.benefits"
   ]
  },
  {
   "cell_type": "code",
   "execution_count": 61,
   "id": "0c64ca6d",
   "metadata": {},
   "outputs": [],
   "source": [
    "real_text_frame=real_text.to_frame(name='text')"
   ]
  },
  {
   "cell_type": "code",
   "execution_count": 62,
   "id": "538a167f",
   "metadata": {},
   "outputs": [],
   "source": [
    "fake_text=fake.title+' '+fake.company_profile+' '+fake.description+' '+fake.requirements+' '+fake.benefits"
   ]
  },
  {
   "cell_type": "code",
   "execution_count": 63,
   "id": "19489ebc",
   "metadata": {},
   "outputs": [],
   "source": [
    "fake_text_frame=fake_text.to_frame(name='text')"
   ]
  },
  {
   "cell_type": "code",
   "execution_count": 64,
   "id": "6a852e4e",
   "metadata": {},
   "outputs": [
    {
     "data": {
      "text/plain": [
       "False    0.691686\n",
       "True     0.308314\n",
       "dtype: float64"
      ]
     },
     "execution_count": 64,
     "metadata": {},
     "output_type": "execute_result"
    }
   ],
   "source": [
    "fake_text.str.contains('#URL', regex=False).value_counts(normalize=True)"
   ]
  },
  {
   "cell_type": "code",
   "execution_count": 65,
   "id": "1d50fc65",
   "metadata": {},
   "outputs": [
    {
     "data": {
      "text/plain": [
       "False    0.685318\n",
       "True     0.314682\n",
       "dtype: float64"
      ]
     },
     "execution_count": 65,
     "metadata": {},
     "output_type": "execute_result"
    }
   ],
   "source": [
    "real_text.str.contains('#URL', regex=False).value_counts(normalize=True)"
   ]
  },
  {
   "cell_type": "code",
   "execution_count": 66,
   "id": "58347f27",
   "metadata": {},
   "outputs": [
    {
     "data": {
      "text/plain": [
       "False    0.799076\n",
       "True     0.200924\n",
       "dtype: float64"
      ]
     },
     "execution_count": 66,
     "metadata": {},
     "output_type": "execute_result"
    }
   ],
   "source": [
    "fake_text.str.contains('#EMAIL', regex=False).value_counts(normalize=True)"
   ]
  },
  {
   "cell_type": "code",
   "execution_count": 67,
   "id": "e3874abc",
   "metadata": {},
   "outputs": [
    {
     "data": {
      "text/plain": [
       "False    0.931762\n",
       "True     0.068238\n",
       "dtype: float64"
      ]
     },
     "execution_count": 67,
     "metadata": {},
     "output_type": "execute_result"
    }
   ],
   "source": [
    "real_text.str.contains('#EMAIL', regex=False).value_counts(normalize=True)"
   ]
  },
  {
   "cell_type": "code",
   "execution_count": 68,
   "id": "6da8dcd1",
   "metadata": {},
   "outputs": [
    {
     "data": {
      "text/plain": [
       "False    0.908776\n",
       "True     0.091224\n",
       "dtype: float64"
      ]
     },
     "execution_count": 68,
     "metadata": {},
     "output_type": "execute_result"
    }
   ],
   "source": [
    "fake_text.str.contains('#PHONE', regex=False).value_counts(normalize=True)"
   ]
  },
  {
   "cell_type": "code",
   "execution_count": 69,
   "id": "60df0516",
   "metadata": {},
   "outputs": [
    {
     "data": {
      "text/plain": [
       "False    0.973669\n",
       "True     0.026331\n",
       "dtype: float64"
      ]
     },
     "execution_count": 69,
     "metadata": {},
     "output_type": "execute_result"
    }
   ],
   "source": [
    "real_text.str.contains('#PHONE', regex=False).value_counts(normalize=True)"
   ]
  },
  {
   "cell_type": "markdown",
   "id": "1fea233b",
   "metadata": {},
   "source": [
    "For text preprocessing, I use the function by Jiahao Weng. It includes remove HTML tags, remove extra whitespaces, convert accented characters to ASCII characters, expand contractions, remove special characters, lowercase all texts, convert number words to numeric form, remove numbers, remove stopwords and lemmatization. Then I look into the most common words in real and fake job ads."
   ]
  },
  {
   "cell_type": "code",
   "execution_count": 73,
   "id": "307af024",
   "metadata": {},
   "outputs": [],
   "source": [
    "from bs4 import BeautifulSoup\n",
    "import spacy\n",
    "import unidecode\n",
    "from word2number import w2n\n",
    "import contractions"
   ]
  },
  {
   "cell_type": "code",
   "execution_count": 74,
   "id": "82fb23e3",
   "metadata": {},
   "outputs": [],
   "source": [
    "nlp = spacy.load(\"en_core_web_sm\")\n",
    "\n",
    "# exclude words from spacy stopwords list\n",
    "deselect_stop_words = ['no', 'not']\n",
    "for w in deselect_stop_words:\n",
    "    nlp.vocab[w].is_stop = False\n",
    "\n",
    "\n",
    "def strip_html_tags(text):\n",
    "    \"\"\"remove html tags from text\"\"\"\n",
    "    soup = BeautifulSoup(text, \"html.parser\")\n",
    "    stripped_text = soup.get_text(separator=\" \")\n",
    "    return stripped_text\n",
    "\n",
    "\n",
    "def remove_whitespace(text):\n",
    "    \"\"\"remove extra whitespaces from text\"\"\"\n",
    "    text = text.strip()\n",
    "    return \" \".join(text.split())\n",
    "\n",
    "\n",
    "def remove_accented_chars(text):\n",
    "    \"\"\"remove accented characters from text, e.g. café\"\"\"\n",
    "    text = unidecode.unidecode(text)\n",
    "    return text\n",
    "\n",
    "\n",
    "def expand_contractions(text):\n",
    "    \"\"\"expand shortened words, e.g. don't to do not\"\"\"\n",
    "    text = contractions.fix(text)\n",
    "    return text\n",
    "\n",
    "\n",
    "def text_preprocessing(text, accented_chars=True, contractions=True, \n",
    "                       convert_num=True, extra_whitespace=True, \n",
    "                       lemmatization=True, lowercase=True, punctuations=True,\n",
    "                       remove_html=True, remove_num=True, special_chars=True, \n",
    "                       stop_words=True):\n",
    "    \"\"\"preprocess text with default option set to true for all steps\"\"\"\n",
    "    if remove_html == True: #remove html tags\n",
    "        text = strip_html_tags(text)\n",
    "    if extra_whitespace == True: #remove extra whitespaces\n",
    "        text = remove_whitespace(text)\n",
    "    if accented_chars == True: #remove accented characters\n",
    "        text = remove_accented_chars(text)\n",
    "    if contractions == True: #expand contractions\n",
    "        text = expand_contractions(text)\n",
    "    if lowercase == True: #convert all characters to lowercase\n",
    "        text = text.lower()\n",
    "\n",
    "    doc = nlp(text) #tokenise text\n",
    "\n",
    "    clean_text = []\n",
    "    \n",
    "    for token in doc:\n",
    "        flag = True\n",
    "        edit = token.text\n",
    "        # remove stop words\n",
    "        if stop_words == True and token.is_stop and token.pos_ != 'NUM': \n",
    "            flag = False\n",
    "        # remove punctuations\n",
    "        if punctuations == True and token.pos_ == 'PUNCT' and flag == True: \n",
    "            flag = False\n",
    "        # remove special characters\n",
    "        if special_chars == True and token.pos_ == 'SYM' and flag == True: \n",
    "            flag = False\n",
    "        # remove numbers\n",
    "        if remove_num == True and (token.pos_ == 'NUM' or token.text.isnumeric()) \\\n",
    "        and flag == True:\n",
    "            flag = False\n",
    "        # convert number words to numeric numbers\n",
    "        if convert_num == True and token.pos_ == 'NUM' and flag == True:\n",
    "            edit = w2n.word_to_num(token.text)\n",
    "        # convert tokens to base form\n",
    "        elif lemmatization == True and token.lemma_ != \"-PRON-\" and flag == True:\n",
    "            edit = token.lemma_\n",
    "        # append tokens edited and not removed to list \n",
    "        if edit != \"\" and flag == True:\n",
    "            clean_text.append(edit)        \n",
    "    return clean_text"
   ]
  },
  {
   "cell_type": "code",
   "execution_count": 75,
   "id": "8a1b785e",
   "metadata": {},
   "outputs": [],
   "source": [
    "real_text_frame['clean']=real_text_frame.apply(lambda x: text_preprocessing(x['text']), axis=1)\n",
    "real_text_frame['clean']=real_text_frame.apply(lambda x: \" \".join(x['clean']), axis=1)"
   ]
  },
  {
   "cell_type": "code",
   "execution_count": 76,
   "id": "39a12a11",
   "metadata": {},
   "outputs": [
    {
     "data": {
      "image/png": "[encoded data removed]",
      "text/plain": [
       "<Figure size 1296x432 with 1 Axes>"
      ]
     },
     "metadata": {
      "needs_background": "light"
     },
     "output_type": "display_data"
    }
   ],
   "source": [
    "from collections import Counter\n",
    "\n",
    "real_total_text = [text for text in real_text_frame['clean']]\n",
    "real_total_text = ' '.join(real_total_text).split()\n",
    "\n",
    "real_counts = Counter(real_total_text)\n",
    "\n",
    "real_common_words = [word[0] for word in real_counts.most_common(20)]\n",
    "real_common_counts = [word[1] for word in real_counts.most_common(20)]\n",
    "\n",
    "fig = plt.figure(figsize=(18,6))\n",
    "sns.barplot(x=real_common_words, y=real_common_counts)\n",
    "plt.title('Most Common Words used in Real Job Ads')\n",
    "plt.show()"
   ]
  },
  {
   "cell_type": "code",
   "execution_count": 77,
   "id": "b06d6e8a",
   "metadata": {},
   "outputs": [],
   "source": [
    "fake_text_frame['clean']=fake_text_frame.apply(lambda x: text_preprocessing(x['text']), axis=1)\n",
    "fake_text_frame['clean']=fake_text_frame.apply(lambda x: \" \".join(x['clean']), axis=1)"
   ]
  },
  {
   "cell_type": "code",
   "execution_count": 78,
   "id": "818e8992",
   "metadata": {},
   "outputs": [
    {
     "data": {
      "image/png": "[encoded data removed]",
      "text/plain": [
       "<Figure size 1296x432 with 1 Axes>"
      ]
     },
     "metadata": {
      "needs_background": "light"
     },
     "output_type": "display_data"
    }
   ],
   "source": [
    "from collections import Counter\n",
    "\n",
    "fake_total_text = [text for text in fake_text_frame['clean']]\n",
    "fake_total_text = ' '.join(fake_total_text).split()\n",
    "\n",
    "fake_counts = Counter(fake_total_text)\n",
    "\n",
    "fake_common_words = [word[0] for word in fake_counts.most_common(20)]\n",
    "fake_common_counts = [word[1] for word in fake_counts.most_common(20)]\n",
    "\n",
    "fig = plt.figure(figsize=(18,6))\n",
    "sns.barplot(x=fake_common_words, y=fake_common_counts)\n",
    "plt.title('Most Common Words used in Fake Job Ads')\n",
    "plt.show()"
   ]
  },
  {
   "cell_type": "markdown",
   "id": "49031c09",
   "metadata": {},
   "source": [
    "In this preliminary analysis it is not apparent that any keywords can separate real ads and fake ads, as most common words such as \"work\", \"experience\", \"service\" and \"skill\" are featured in both classes of text. A bag-of-words analysis should be better in doing this job. But it is noticeable that the dummy word \"na\" for missing values is featured high in the most common words list in fake ads."
   ]
  },
  {
   "cell_type": "markdown",
   "id": "47c87b51",
   "metadata": {},
   "source": [
    "# Feature Construction"
   ]
  },
  {
   "cell_type": "markdown",
   "id": "440bac7b",
   "metadata": {},
   "source": [
    "For the missing values, in categorical fields \"na\" would be used as a category, but in the combined text it is replaced by empty space to avoid overlapping with the newly created features denoting absence of values. Furthermore, the less frequently appeared countries in the location column are simplified as \"other\"."
   ]
  },
  {
   "cell_type": "code",
   "execution_count": 79,
   "id": "21faada1",
   "metadata": {},
   "outputs": [],
   "source": [
    "finaldf=df.copy()"
   ]
  },
  {
   "cell_type": "code",
   "execution_count": 80,
   "id": "6b13a0c8",
   "metadata": {},
   "outputs": [],
   "source": [
    "finaldf['missing_company_profile']=finaldf.company_profile.isnull().astype(int)"
   ]
  },
  {
   "cell_type": "code",
   "execution_count": 81,
   "id": "1e66714b",
   "metadata": {},
   "outputs": [],
   "source": [
    "finaldf['missing_salary_range']=finaldf.company_profile.isnull().astype(int)"
   ]
  },
  {
   "cell_type": "code",
   "execution_count": 82,
   "id": "656e9637",
   "metadata": {},
   "outputs": [],
   "source": [
    "finaldf.fillna('na', inplace=True)"
   ]
  },
  {
   "cell_type": "code",
   "execution_count": 83,
   "id": "d41716d3",
   "metadata": {},
   "outputs": [],
   "source": [
    "text_columns=['title','company_profile','description','requirements','benefits']\n",
    "for column in text_columns:\n",
    "    finaldf.loc[finaldf[column]=='na', column]=' '"
   ]
  },
  {
   "cell_type": "code",
   "execution_count": 84,
   "id": "04f1b9be",
   "metadata": {},
   "outputs": [],
   "source": [
    "finaldf['title_mention_$']=finaldf.title.str.contains('$', regex=False).astype(int)"
   ]
  },
  {
   "cell_type": "code",
   "execution_count": 85,
   "id": "a71c24af",
   "metadata": {},
   "outputs": [],
   "source": [
    "def location_transform(location):\n",
    "    country_list=['US','GB','CA','DE','NZ','AU','IN','MY','na']\n",
    "    country=location[:2]\n",
    "    if country in country_list:\n",
    "        return country\n",
    "    else:\n",
    "        return 'other'"
   ]
  },
  {
   "cell_type": "code",
   "execution_count": 86,
   "id": "44cfc97d",
   "metadata": {},
   "outputs": [],
   "source": [
    "finaldf.location=finaldf.apply(lambda x: location_transform(x['location']), axis=1)"
   ]
  },
  {
   "cell_type": "code",
   "execution_count": 87,
   "id": "0cebaf58",
   "metadata": {},
   "outputs": [
    {
     "data": {
      "text/plain": [
       "US       10656\n",
       "other     2810\n",
       "GB        2384\n",
       "CA         457\n",
       "DE         383\n",
       "na         346\n",
       "NZ         333\n",
       "IN         276\n",
       "AU         214\n",
       "MY          21\n",
       "Name: location, dtype: int64"
      ]
     },
     "execution_count": 87,
     "metadata": {},
     "output_type": "execute_result"
    }
   ],
   "source": [
    "finaldf.location.value_counts()"
   ]
  },
  {
   "cell_type": "code",
   "execution_count": 88,
   "id": "6641b03c",
   "metadata": {},
   "outputs": [],
   "source": [
    "finaldf['text']=finaldf.title+' '+finaldf.company_profile+' '+finaldf.description+' '+finaldf.requirements+' '+finaldf.benefits\n",
    "finaldf['email_link']=finaldf.text.str.contains('#EMAIL', regex=False).astype(int)\n",
    "finaldf['phone_link']=finaldf.text.str.contains('#PHONE', regex=False).astype(int)"
   ]
  },
  {
   "cell_type": "code",
   "execution_count": 89,
   "id": "9dfa567d",
   "metadata": {},
   "outputs": [],
   "source": [
    "import math\n",
    "finaldf['text_length']=finaldf.apply(lambda x: math.log(len(x['text'])+1), axis=1) \n",
    "#putting the length in logarithm to transform the skew distribution, add one to avoid the error of log(0)"
   ]
  },
  {
   "cell_type": "code",
   "execution_count": 90,
   "id": "69a160ff",
   "metadata": {},
   "outputs": [],
   "source": [
    "# creating the \"cleaned text\" column\n",
    "finaldf['cleaned_text']=finaldf.apply(lambda x: text_preprocessing(x['text']), axis=1)\n",
    "finaldf['cleaned_text']=finaldf.apply(lambda x: \" \".join(x['cleaned_text']), axis=1)"
   ]
  },
  {
   "cell_type": "code",
   "execution_count": 135,
   "id": "9dab3f59",
   "metadata": {},
   "outputs": [
    {
     "data": {
      "text/html": [
       "<div>\n",
       "<style scoped>\n",
       "    .dataframe tbody tr th:only-of-type {\n",
       "        vertical-align: middle;\n",
       "    }\n",
       "\n",
       "    .dataframe tbody tr th {\n",
       "        vertical-align: top;\n",
       "    }\n",
       "\n",
       "    .dataframe thead th {\n",
       "        text-align: right;\n",
       "    }\n",
       "</style>\n",
       "<table border=\"1\" class=\"dataframe\">\n",
       "  <thead>\n",
       "    <tr style=\"text-align: right;\">\n",
       "      <th></th>\n",
       "      <th>title</th>\n",
       "      <th>location</th>\n",
       "      <th>department</th>\n",
       "      <th>salary_range</th>\n",
       "      <th>company_profile</th>\n",
       "      <th>description</th>\n",
       "      <th>requirements</th>\n",
       "      <th>benefits</th>\n",
       "      <th>telecommuting</th>\n",
       "      <th>has_company_logo</th>\n",
       "      <th>...</th>\n",
       "      <th>text</th>\n",
       "      <th>email_link</th>\n",
       "      <th>phone_link</th>\n",
       "      <th>text_length</th>\n",
       "      <th>cleaned_text</th>\n",
       "      <th>bow_svm_predict_full</th>\n",
       "      <th>bow_rf_predict_full</th>\n",
       "      <th>xgbc_predict_full</th>\n",
       "      <th>ensemble_total</th>\n",
       "      <th>ensemble_predict</th>\n",
       "    </tr>\n",
       "    <tr>\n",
       "      <th>job_id</th>\n",
       "      <th></th>\n",
       "      <th></th>\n",
       "      <th></th>\n",
       "      <th></th>\n",
       "      <th></th>\n",
       "      <th></th>\n",
       "      <th></th>\n",
       "      <th></th>\n",
       "      <th></th>\n",
       "      <th></th>\n",
       "      <th></th>\n",
       "      <th></th>\n",
       "      <th></th>\n",
       "      <th></th>\n",
       "      <th></th>\n",
       "      <th></th>\n",
       "      <th></th>\n",
       "      <th></th>\n",
       "      <th></th>\n",
       "      <th></th>\n",
       "      <th></th>\n",
       "    </tr>\n",
       "  </thead>\n",
       "  <tbody>\n",
       "    <tr>\n",
       "      <th>1</th>\n",
       "      <td>Marketing Intern</td>\n",
       "      <td>US</td>\n",
       "      <td>Marketing</td>\n",
       "      <td>na</td>\n",
       "      <td>We're Food52, and we've created a groundbreaki...</td>\n",
       "      <td>Food52, a fast-growing, James Beard Award-winn...</td>\n",
       "      <td>Experience with content management systems a m...</td>\n",
       "      <td></td>\n",
       "      <td>0</td>\n",
       "      <td>1</td>\n",
       "      <td>...</td>\n",
       "      <td>Marketing Intern We're Food52, and we've creat...</td>\n",
       "      <td>0</td>\n",
       "      <td>0</td>\n",
       "      <td>7.887584</td>\n",
       "      <td>marketing intern food52 create groundbreaking ...</td>\n",
       "      <td>0</td>\n",
       "      <td>0</td>\n",
       "      <td>0</td>\n",
       "      <td>0</td>\n",
       "      <td>0</td>\n",
       "    </tr>\n",
       "    <tr>\n",
       "      <th>2</th>\n",
       "      <td>Customer Service - Cloud Video Production</td>\n",
       "      <td>NZ</td>\n",
       "      <td>Success</td>\n",
       "      <td>na</td>\n",
       "      <td>90 Seconds, the worlds Cloud Video Production ...</td>\n",
       "      <td>Organised - Focused - Vibrant - Awesome!Do you...</td>\n",
       "      <td>What we expect from you:Your key responsibilit...</td>\n",
       "      <td>What you will get from usThrough being part of...</td>\n",
       "      <td>0</td>\n",
       "      <td>1</td>\n",
       "      <td>...</td>\n",
       "      <td>Customer Service - Cloud Video Production 90 S...</td>\n",
       "      <td>0</td>\n",
       "      <td>0</td>\n",
       "      <td>8.721602</td>\n",
       "      <td>customer service cloud video production second...</td>\n",
       "      <td>0</td>\n",
       "      <td>0</td>\n",
       "      <td>0</td>\n",
       "      <td>0</td>\n",
       "      <td>0</td>\n",
       "    </tr>\n",
       "    <tr>\n",
       "      <th>3</th>\n",
       "      <td>Commissioning Machinery Assistant (CMA)</td>\n",
       "      <td>US</td>\n",
       "      <td>na</td>\n",
       "      <td>na</td>\n",
       "      <td>Valor Services provides Workforce Solutions th...</td>\n",
       "      <td>Our client, located in Houston, is actively se...</td>\n",
       "      <td>Implement pre-commissioning and commissioning ...</td>\n",
       "      <td></td>\n",
       "      <td>0</td>\n",
       "      <td>1</td>\n",
       "      <td>...</td>\n",
       "      <td>Commissioning Machinery Assistant (CMA) Valor ...</td>\n",
       "      <td>0</td>\n",
       "      <td>0</td>\n",
       "      <td>7.879291</td>\n",
       "      <td>commission machinery assistant cma valor servi...</td>\n",
       "      <td>0</td>\n",
       "      <td>0</td>\n",
       "      <td>0</td>\n",
       "      <td>0</td>\n",
       "      <td>0</td>\n",
       "    </tr>\n",
       "    <tr>\n",
       "      <th>4</th>\n",
       "      <td>Account Executive - Washington DC</td>\n",
       "      <td>US</td>\n",
       "      <td>Sales</td>\n",
       "      <td>na</td>\n",
       "      <td>Our passion for improving quality of life thro...</td>\n",
       "      <td>THE COMPANY: ESRI – Environmental Systems Rese...</td>\n",
       "      <td>EDUCATION: Bachelor’s or Master’s in GIS, busi...</td>\n",
       "      <td>Our culture is anything but corporate—we have ...</td>\n",
       "      <td>0</td>\n",
       "      <td>1</td>\n",
       "      <td>...</td>\n",
       "      <td>Account Executive - Washington DC Our passion ...</td>\n",
       "      <td>0</td>\n",
       "      <td>0</td>\n",
       "      <td>8.605753</td>\n",
       "      <td>account executive washington dc passion improv...</td>\n",
       "      <td>0</td>\n",
       "      <td>0</td>\n",
       "      <td>0</td>\n",
       "      <td>0</td>\n",
       "      <td>0</td>\n",
       "    </tr>\n",
       "    <tr>\n",
       "      <th>5</th>\n",
       "      <td>Bill Review Manager</td>\n",
       "      <td>US</td>\n",
       "      <td>na</td>\n",
       "      <td>na</td>\n",
       "      <td>SpotSource Solutions LLC is a Global Human Cap...</td>\n",
       "      <td>JOB TITLE: Itemization Review ManagerLOCATION:...</td>\n",
       "      <td>QUALIFICATIONS:RN license in the State of Texa...</td>\n",
       "      <td>Full Benefits Offered</td>\n",
       "      <td>0</td>\n",
       "      <td>1</td>\n",
       "      <td>...</td>\n",
       "      <td>Bill Review Manager SpotSource Solutions LLC i...</td>\n",
       "      <td>0</td>\n",
       "      <td>1</td>\n",
       "      <td>8.281471</td>\n",
       "      <td>bill review manager spotsource solution llc gl...</td>\n",
       "      <td>0</td>\n",
       "      <td>0</td>\n",
       "      <td>0</td>\n",
       "      <td>0</td>\n",
       "      <td>0</td>\n",
       "    </tr>\n",
       "    <tr>\n",
       "      <th>...</th>\n",
       "      <td>...</td>\n",
       "      <td>...</td>\n",
       "      <td>...</td>\n",
       "      <td>...</td>\n",
       "      <td>...</td>\n",
       "      <td>...</td>\n",
       "      <td>...</td>\n",
       "      <td>...</td>\n",
       "      <td>...</td>\n",
       "      <td>...</td>\n",
       "      <td>...</td>\n",
       "      <td>...</td>\n",
       "      <td>...</td>\n",
       "      <td>...</td>\n",
       "      <td>...</td>\n",
       "      <td>...</td>\n",
       "      <td>...</td>\n",
       "      <td>...</td>\n",
       "      <td>...</td>\n",
       "      <td>...</td>\n",
       "      <td>...</td>\n",
       "    </tr>\n",
       "    <tr>\n",
       "      <th>17876</th>\n",
       "      <td>Account Director - Distribution</td>\n",
       "      <td>CA</td>\n",
       "      <td>Sales</td>\n",
       "      <td>na</td>\n",
       "      <td>Vend is looking for some awesome new talent to...</td>\n",
       "      <td>Just in case this is the first time you’ve vis...</td>\n",
       "      <td>To ace this role you:Will eat comprehensive St...</td>\n",
       "      <td>What can you expect from us?We have an open cu...</td>\n",
       "      <td>0</td>\n",
       "      <td>1</td>\n",
       "      <td>...</td>\n",
       "      <td>Account Director - Distribution  Vend is looki...</td>\n",
       "      <td>0</td>\n",
       "      <td>0</td>\n",
       "      <td>8.578665</td>\n",
       "      <td>account director distribution vend look awesom...</td>\n",
       "      <td>0</td>\n",
       "      <td>0</td>\n",
       "      <td>0</td>\n",
       "      <td>0</td>\n",
       "      <td>0</td>\n",
       "    </tr>\n",
       "    <tr>\n",
       "      <th>17877</th>\n",
       "      <td>Payroll Accountant</td>\n",
       "      <td>US</td>\n",
       "      <td>Accounting</td>\n",
       "      <td>na</td>\n",
       "      <td>WebLinc is the e-commerce platform and service...</td>\n",
       "      <td>The Payroll Accountant will focus primarily on...</td>\n",
       "      <td>- B.A. or B.S. in Accounting- Desire to have f...</td>\n",
       "      <td>Health &amp;amp; WellnessMedical planPrescription ...</td>\n",
       "      <td>0</td>\n",
       "      <td>1</td>\n",
       "      <td>...</td>\n",
       "      <td>Payroll Accountant WebLinc is the e-commerce p...</td>\n",
       "      <td>0</td>\n",
       "      <td>0</td>\n",
       "      <td>8.464003</td>\n",
       "      <td>payroll accountant weblinc e - commerce platfo...</td>\n",
       "      <td>0</td>\n",
       "      <td>0</td>\n",
       "      <td>0</td>\n",
       "      <td>0</td>\n",
       "      <td>0</td>\n",
       "    </tr>\n",
       "    <tr>\n",
       "      <th>17878</th>\n",
       "      <td>Project Cost Control Staff Engineer - Cost Con...</td>\n",
       "      <td>US</td>\n",
       "      <td>na</td>\n",
       "      <td>na</td>\n",
       "      <td>We Provide Full Time Permanent Positions for m...</td>\n",
       "      <td>Experienced Project Cost Control Staff Enginee...</td>\n",
       "      <td>At least 12 years professional experience.Abil...</td>\n",
       "      <td></td>\n",
       "      <td>0</td>\n",
       "      <td>0</td>\n",
       "      <td>...</td>\n",
       "      <td>Project Cost Control Staff Engineer - Cost Con...</td>\n",
       "      <td>0</td>\n",
       "      <td>0</td>\n",
       "      <td>7.944137</td>\n",
       "      <td>project cost control staff engineer cost contr...</td>\n",
       "      <td>0</td>\n",
       "      <td>0</td>\n",
       "      <td>0</td>\n",
       "      <td>0</td>\n",
       "      <td>0</td>\n",
       "    </tr>\n",
       "    <tr>\n",
       "      <th>17879</th>\n",
       "      <td>Graphic Designer</td>\n",
       "      <td>other</td>\n",
       "      <td>na</td>\n",
       "      <td>na</td>\n",
       "      <td></td>\n",
       "      <td>Nemsia Studios is looking for an experienced v...</td>\n",
       "      <td>1. Must be fluent in the latest versions of Co...</td>\n",
       "      <td>Competitive salary (compensation will be based...</td>\n",
       "      <td>0</td>\n",
       "      <td>0</td>\n",
       "      <td>...</td>\n",
       "      <td>Graphic Designer   Nemsia Studios is looking f...</td>\n",
       "      <td>0</td>\n",
       "      <td>0</td>\n",
       "      <td>7.127694</td>\n",
       "      <td>graphic designer nemsia studio look experience...</td>\n",
       "      <td>0</td>\n",
       "      <td>0</td>\n",
       "      <td>0</td>\n",
       "      <td>0</td>\n",
       "      <td>0</td>\n",
       "    </tr>\n",
       "    <tr>\n",
       "      <th>17880</th>\n",
       "      <td>Web Application Developers</td>\n",
       "      <td>NZ</td>\n",
       "      <td>Engineering</td>\n",
       "      <td>na</td>\n",
       "      <td>Vend is looking for some awesome new talent to...</td>\n",
       "      <td>Who are we?Vend is an award winning web based ...</td>\n",
       "      <td>We want to hear from you if:You have an in-dep...</td>\n",
       "      <td></td>\n",
       "      <td>0</td>\n",
       "      <td>1</td>\n",
       "      <td>...</td>\n",
       "      <td>Web Application Developers Vend is looking for...</td>\n",
       "      <td>0</td>\n",
       "      <td>0</td>\n",
       "      <td>8.434898</td>\n",
       "      <td>web application developer vend look awesome ne...</td>\n",
       "      <td>0</td>\n",
       "      <td>0</td>\n",
       "      <td>0</td>\n",
       "      <td>0</td>\n",
       "      <td>0</td>\n",
       "    </tr>\n",
       "  </tbody>\n",
       "</table>\n",
       "<p>17880 rows × 30 columns</p>\n",
       "</div>"
      ],
      "text/plain": [
       "                                                    title location  \\\n",
       "job_id                                                               \n",
       "1                                        Marketing Intern       US   \n",
       "2               Customer Service - Cloud Video Production       NZ   \n",
       "3                 Commissioning Machinery Assistant (CMA)       US   \n",
       "4                       Account Executive - Washington DC       US   \n",
       "5                                     Bill Review Manager       US   \n",
       "...                                                   ...      ...   \n",
       "17876                    Account Director - Distribution        CA   \n",
       "17877                                  Payroll Accountant       US   \n",
       "17878   Project Cost Control Staff Engineer - Cost Con...       US   \n",
       "17879                                    Graphic Designer    other   \n",
       "17880                          Web Application Developers       NZ   \n",
       "\n",
       "         department salary_range  \\\n",
       "job_id                             \n",
       "1         Marketing           na   \n",
       "2           Success           na   \n",
       "3                na           na   \n",
       "4             Sales           na   \n",
       "5                na           na   \n",
       "...             ...          ...   \n",
       "17876         Sales           na   \n",
       "17877    Accounting           na   \n",
       "17878            na           na   \n",
       "17879            na           na   \n",
       "17880   Engineering           na   \n",
       "\n",
       "                                          company_profile  \\\n",
       "job_id                                                      \n",
       "1       We're Food52, and we've created a groundbreaki...   \n",
       "2       90 Seconds, the worlds Cloud Video Production ...   \n",
       "3       Valor Services provides Workforce Solutions th...   \n",
       "4       Our passion for improving quality of life thro...   \n",
       "5       SpotSource Solutions LLC is a Global Human Cap...   \n",
       "...                                                   ...   \n",
       "17876   Vend is looking for some awesome new talent to...   \n",
       "17877   WebLinc is the e-commerce platform and service...   \n",
       "17878   We Provide Full Time Permanent Positions for m...   \n",
       "17879                                                       \n",
       "17880   Vend is looking for some awesome new talent to...   \n",
       "\n",
       "                                              description  \\\n",
       "job_id                                                      \n",
       "1       Food52, a fast-growing, James Beard Award-winn...   \n",
       "2       Organised - Focused - Vibrant - Awesome!Do you...   \n",
       "3       Our client, located in Houston, is actively se...   \n",
       "4       THE COMPANY: ESRI – Environmental Systems Rese...   \n",
       "5       JOB TITLE: Itemization Review ManagerLOCATION:...   \n",
       "...                                                   ...   \n",
       "17876   Just in case this is the first time you’ve vis...   \n",
       "17877   The Payroll Accountant will focus primarily on...   \n",
       "17878   Experienced Project Cost Control Staff Enginee...   \n",
       "17879   Nemsia Studios is looking for an experienced v...   \n",
       "17880   Who are we?Vend is an award winning web based ...   \n",
       "\n",
       "                                             requirements  \\\n",
       "job_id                                                      \n",
       "1       Experience with content management systems a m...   \n",
       "2       What we expect from you:Your key responsibilit...   \n",
       "3       Implement pre-commissioning and commissioning ...   \n",
       "4       EDUCATION: Bachelor’s or Master’s in GIS, busi...   \n",
       "5       QUALIFICATIONS:RN license in the State of Texa...   \n",
       "...                                                   ...   \n",
       "17876   To ace this role you:Will eat comprehensive St...   \n",
       "17877   - B.A. or B.S. in Accounting- Desire to have f...   \n",
       "17878   At least 12 years professional experience.Abil...   \n",
       "17879   1. Must be fluent in the latest versions of Co...   \n",
       "17880   We want to hear from you if:You have an in-dep...   \n",
       "\n",
       "                                                 benefits  telecommuting  \\\n",
       "job_id                                                                     \n",
       "1                                                                      0   \n",
       "2       What you will get from usThrough being part of...              0   \n",
       "3                                                                      0   \n",
       "4       Our culture is anything but corporate—we have ...              0   \n",
       "5                                   Full Benefits Offered              0   \n",
       "...                                                   ...            ...   \n",
       "17876   What can you expect from us?We have an open cu...              0   \n",
       "17877   Health &amp; WellnessMedical planPrescription ...              0   \n",
       "17878                                                                  0   \n",
       "17879   Competitive salary (compensation will be based...              0   \n",
       "17880                                                                  0   \n",
       "\n",
       "        has_company_logo  ...  \\\n",
       "job_id                    ...   \n",
       "1                      1  ...   \n",
       "2                      1  ...   \n",
       "3                      1  ...   \n",
       "4                      1  ...   \n",
       "5                      1  ...   \n",
       "...                  ...  ...   \n",
       "17876                  1  ...   \n",
       "17877                  1  ...   \n",
       "17878                  0  ...   \n",
       "17879                  0  ...   \n",
       "17880                  1  ...   \n",
       "\n",
       "                                                     text email_link  \\\n",
       "job_id                                                                 \n",
       "1       Marketing Intern We're Food52, and we've creat...          0   \n",
       "2       Customer Service - Cloud Video Production 90 S...          0   \n",
       "3       Commissioning Machinery Assistant (CMA) Valor ...          0   \n",
       "4       Account Executive - Washington DC Our passion ...          0   \n",
       "5       Bill Review Manager SpotSource Solutions LLC i...          0   \n",
       "...                                                   ...        ...   \n",
       "17876   Account Director - Distribution  Vend is looki...          0   \n",
       "17877   Payroll Accountant WebLinc is the e-commerce p...          0   \n",
       "17878   Project Cost Control Staff Engineer - Cost Con...          0   \n",
       "17879   Graphic Designer   Nemsia Studios is looking f...          0   \n",
       "17880   Web Application Developers Vend is looking for...          0   \n",
       "\n",
       "       phone_link text_length  \\\n",
       "job_id                          \n",
       "1               0    7.887584   \n",
       "2               0    8.721602   \n",
       "3               0    7.879291   \n",
       "4               0    8.605753   \n",
       "5               1    8.281471   \n",
       "...           ...         ...   \n",
       "17876           0    8.578665   \n",
       "17877           0    8.464003   \n",
       "17878           0    7.944137   \n",
       "17879           0    7.127694   \n",
       "17880           0    8.434898   \n",
       "\n",
       "                                             cleaned_text  \\\n",
       "job_id                                                      \n",
       "1       marketing intern food52 create groundbreaking ...   \n",
       "2       customer service cloud video production second...   \n",
       "3       commission machinery assistant cma valor servi...   \n",
       "4       account executive washington dc passion improv...   \n",
       "5       bill review manager spotsource solution llc gl...   \n",
       "...                                                   ...   \n",
       "17876   account director distribution vend look awesom...   \n",
       "17877   payroll accountant weblinc e - commerce platfo...   \n",
       "17878   project cost control staff engineer cost contr...   \n",
       "17879   graphic designer nemsia studio look experience...   \n",
       "17880   web application developer vend look awesome ne...   \n",
       "\n",
       "       bow_svm_predict_full  bow_rf_predict_full  xgbc_predict_full  \\\n",
       "job_id                                                                \n",
       "1                         0                    0                  0   \n",
       "2                         0                    0                  0   \n",
       "3                         0                    0                  0   \n",
       "4                         0                    0                  0   \n",
       "5                         0                    0                  0   \n",
       "...                     ...                  ...                ...   \n",
       "17876                     0                    0                  0   \n",
       "17877                     0                    0                  0   \n",
       "17878                     0                    0                  0   \n",
       "17879                     0                    0                  0   \n",
       "17880                     0                    0                  0   \n",
       "\n",
       "        ensemble_total  ensemble_predict  \n",
       "job_id                                    \n",
       "1                    0                 0  \n",
       "2                    0                 0  \n",
       "3                    0                 0  \n",
       "4                    0                 0  \n",
       "5                    0                 0  \n",
       "...                ...               ...  \n",
       "17876                0                 0  \n",
       "17877                0                 0  \n",
       "17878                0                 0  \n",
       "17879                0                 0  \n",
       "17880                0                 0  \n",
       "\n",
       "[17880 rows x 30 columns]"
      ]
     },
     "execution_count": 135,
     "metadata": {},
     "output_type": "execute_result"
    }
   ],
   "source": [
    "finaldf"
   ]
  },
  {
   "cell_type": "code",
   "execution_count": 92,
   "id": "16919cd1",
   "metadata": {},
   "outputs": [],
   "source": [
    "from sklearn.feature_selection import mutual_info_classif\n",
    "\n",
    "def make_mi_scores(X, y):\n",
    "    X = X.copy()\n",
    "    for colname in X.select_dtypes([\"object\", \"category\"]):\n",
    "        X[colname], _ = X[colname].factorize()\n",
    "    # All discrete features should now have integer dtypes\n",
    "    discrete_features = [pd.api.types.is_integer_dtype(t) for t in X.dtypes]\n",
    "    mi_scores = mutual_info_classif(X, y, discrete_features=discrete_features, random_state=0)\n",
    "    mi_scores = pd.Series(mi_scores, name=\"MI Scores\", index=X.columns)\n",
    "    mi_scores = mi_scores.sort_values(ascending=False)\n",
    "    return mi_scores\n",
    "\n",
    "\n",
    "def plot_mi_scores(scores):\n",
    "    scores = scores.sort_values(ascending=True)\n",
    "    width = np.arange(len(scores))\n",
    "    ticks = list(scores.index)\n",
    "    plt.barh(width, scores)\n",
    "    plt.yticks(width, ticks)\n",
    "    plt.title(\"Mutual Information Scores\")"
   ]
  },
  {
   "cell_type": "code",
   "execution_count": 93,
   "id": "e9b9803c",
   "metadata": {},
   "outputs": [
    {
     "data": {
      "image/png": "[encoded data removed]",
      "text/plain": [
       "<Figure size 432x288 with 1 Axes>"
      ]
     },
     "metadata": {
      "needs_background": "light"
     },
     "output_type": "display_data"
    }
   ],
   "source": [
    "feature_set=['location','missing_salary_range','missing_company_profile','telecommuting','has_company_logo','has_questions',\n",
    "             'employment_type','required_experience','required_education','industry','function','title_mention_$',\n",
    "             'email_link','phone_link','text_length']\n",
    "scores=make_mi_scores(finaldf[feature_set], finaldf['fraudulent'])\n",
    "plot_mi_scores(scores)"
   ]
  },
  {
   "cell_type": "markdown",
   "id": "604d03e0",
   "metadata": {},
   "source": [
    "Mutual information scores show that among the non-textual features, \"text length\", \"industry\", \"missing company profile\", \"missing salary range\" and \"has company logo\" are the top 5 features that have a relationship with fake job ads.\n",
    "\n",
    "Then we do one-hot-encoding with the categorical features, make the final features set as X, and separate the column \"fraudulent\" as y."
   ]
  },
  {
   "cell_type": "code",
   "execution_count": 94,
   "id": "b1999262",
   "metadata": {},
   "outputs": [],
   "source": [
    "finaldf_getdummy=pd.get_dummies(data=finaldf, columns=['location','employment_type','required_experience',\n",
    "                                                       'required_education','industry','function'])"
   ]
  },
  {
   "cell_type": "code",
   "execution_count": 95,
   "id": "ed6d421c",
   "metadata": {},
   "outputs": [
    {
     "data": {
      "text/html": [
       "<div>\n",
       "<style scoped>\n",
       "    .dataframe tbody tr th:only-of-type {\n",
       "        vertical-align: middle;\n",
       "    }\n",
       "\n",
       "    .dataframe tbody tr th {\n",
       "        vertical-align: top;\n",
       "    }\n",
       "\n",
       "    .dataframe thead th {\n",
       "        text-align: right;\n",
       "    }\n",
       "</style>\n",
       "<table border=\"1\" class=\"dataframe\">\n",
       "  <thead>\n",
       "    <tr style=\"text-align: right;\">\n",
       "      <th></th>\n",
       "      <th>title</th>\n",
       "      <th>department</th>\n",
       "      <th>salary_range</th>\n",
       "      <th>company_profile</th>\n",
       "      <th>description</th>\n",
       "      <th>requirements</th>\n",
       "      <th>benefits</th>\n",
       "      <th>telecommuting</th>\n",
       "      <th>has_company_logo</th>\n",
       "      <th>has_questions</th>\n",
       "      <th>...</th>\n",
       "      <th>function_Purchasing</th>\n",
       "      <th>function_Quality Assurance</th>\n",
       "      <th>function_Research</th>\n",
       "      <th>function_Sales</th>\n",
       "      <th>function_Science</th>\n",
       "      <th>function_Strategy/Planning</th>\n",
       "      <th>function_Supply Chain</th>\n",
       "      <th>function_Training</th>\n",
       "      <th>function_Writing/Editing</th>\n",
       "      <th>function_na</th>\n",
       "    </tr>\n",
       "    <tr>\n",
       "      <th>job_id</th>\n",
       "      <th></th>\n",
       "      <th></th>\n",
       "      <th></th>\n",
       "      <th></th>\n",
       "      <th></th>\n",
       "      <th></th>\n",
       "      <th></th>\n",
       "      <th></th>\n",
       "      <th></th>\n",
       "      <th></th>\n",
       "      <th></th>\n",
       "      <th></th>\n",
       "      <th></th>\n",
       "      <th></th>\n",
       "      <th></th>\n",
       "      <th></th>\n",
       "      <th></th>\n",
       "      <th></th>\n",
       "      <th></th>\n",
       "      <th></th>\n",
       "      <th></th>\n",
       "    </tr>\n",
       "  </thead>\n",
       "  <tbody>\n",
       "    <tr>\n",
       "      <th>1</th>\n",
       "      <td>Marketing Intern</td>\n",
       "      <td>Marketing</td>\n",
       "      <td>na</td>\n",
       "      <td>We're Food52, and we've created a groundbreaki...</td>\n",
       "      <td>Food52, a fast-growing, James Beard Award-winn...</td>\n",
       "      <td>Experience with content management systems a m...</td>\n",
       "      <td></td>\n",
       "      <td>0</td>\n",
       "      <td>1</td>\n",
       "      <td>0</td>\n",
       "      <td>...</td>\n",
       "      <td>0</td>\n",
       "      <td>0</td>\n",
       "      <td>0</td>\n",
       "      <td>0</td>\n",
       "      <td>0</td>\n",
       "      <td>0</td>\n",
       "      <td>0</td>\n",
       "      <td>0</td>\n",
       "      <td>0</td>\n",
       "      <td>0</td>\n",
       "    </tr>\n",
       "    <tr>\n",
       "      <th>2</th>\n",
       "      <td>Customer Service - Cloud Video Production</td>\n",
       "      <td>Success</td>\n",
       "      <td>na</td>\n",
       "      <td>90 Seconds, the worlds Cloud Video Production ...</td>\n",
       "      <td>Organised - Focused - Vibrant - Awesome!Do you...</td>\n",
       "      <td>What we expect from you:Your key responsibilit...</td>\n",
       "      <td>What you will get from usThrough being part of...</td>\n",
       "      <td>0</td>\n",
       "      <td>1</td>\n",
       "      <td>0</td>\n",
       "      <td>...</td>\n",
       "      <td>0</td>\n",
       "      <td>0</td>\n",
       "      <td>0</td>\n",
       "      <td>0</td>\n",
       "      <td>0</td>\n",
       "      <td>0</td>\n",
       "      <td>0</td>\n",
       "      <td>0</td>\n",
       "      <td>0</td>\n",
       "      <td>0</td>\n",
       "    </tr>\n",
       "    <tr>\n",
       "      <th>3</th>\n",
       "      <td>Commissioning Machinery Assistant (CMA)</td>\n",
       "      <td>na</td>\n",
       "      <td>na</td>\n",
       "      <td>Valor Services provides Workforce Solutions th...</td>\n",
       "      <td>Our client, located in Houston, is actively se...</td>\n",
       "      <td>Implement pre-commissioning and commissioning ...</td>\n",
       "      <td></td>\n",
       "      <td>0</td>\n",
       "      <td>1</td>\n",
       "      <td>0</td>\n",
       "      <td>...</td>\n",
       "      <td>0</td>\n",
       "      <td>0</td>\n",
       "      <td>0</td>\n",
       "      <td>0</td>\n",
       "      <td>0</td>\n",
       "      <td>0</td>\n",
       "      <td>0</td>\n",
       "      <td>0</td>\n",
       "      <td>0</td>\n",
       "      <td>1</td>\n",
       "    </tr>\n",
       "    <tr>\n",
       "      <th>4</th>\n",
       "      <td>Account Executive - Washington DC</td>\n",
       "      <td>Sales</td>\n",
       "      <td>na</td>\n",
       "      <td>Our passion for improving quality of life thro...</td>\n",
       "      <td>THE COMPANY: ESRI – Environmental Systems Rese...</td>\n",
       "      <td>EDUCATION: Bachelor’s or Master’s in GIS, busi...</td>\n",
       "      <td>Our culture is anything but corporate—we have ...</td>\n",
       "      <td>0</td>\n",
       "      <td>1</td>\n",
       "      <td>0</td>\n",
       "      <td>...</td>\n",
       "      <td>0</td>\n",
       "      <td>0</td>\n",
       "      <td>0</td>\n",
       "      <td>1</td>\n",
       "      <td>0</td>\n",
       "      <td>0</td>\n",
       "      <td>0</td>\n",
       "      <td>0</td>\n",
       "      <td>0</td>\n",
       "      <td>0</td>\n",
       "    </tr>\n",
       "    <tr>\n",
       "      <th>5</th>\n",
       "      <td>Bill Review Manager</td>\n",
       "      <td>na</td>\n",
       "      <td>na</td>\n",
       "      <td>SpotSource Solutions LLC is a Global Human Cap...</td>\n",
       "      <td>JOB TITLE: Itemization Review ManagerLOCATION:...</td>\n",
       "      <td>QUALIFICATIONS:RN license in the State of Texa...</td>\n",
       "      <td>Full Benefits Offered</td>\n",
       "      <td>0</td>\n",
       "      <td>1</td>\n",
       "      <td>1</td>\n",
       "      <td>...</td>\n",
       "      <td>0</td>\n",
       "      <td>0</td>\n",
       "      <td>0</td>\n",
       "      <td>0</td>\n",
       "      <td>0</td>\n",
       "      <td>0</td>\n",
       "      <td>0</td>\n",
       "      <td>0</td>\n",
       "      <td>0</td>\n",
       "      <td>0</td>\n",
       "    </tr>\n",
       "    <tr>\n",
       "      <th>...</th>\n",
       "      <td>...</td>\n",
       "      <td>...</td>\n",
       "      <td>...</td>\n",
       "      <td>...</td>\n",
       "      <td>...</td>\n",
       "      <td>...</td>\n",
       "      <td>...</td>\n",
       "      <td>...</td>\n",
       "      <td>...</td>\n",
       "      <td>...</td>\n",
       "      <td>...</td>\n",
       "      <td>...</td>\n",
       "      <td>...</td>\n",
       "      <td>...</td>\n",
       "      <td>...</td>\n",
       "      <td>...</td>\n",
       "      <td>...</td>\n",
       "      <td>...</td>\n",
       "      <td>...</td>\n",
       "      <td>...</td>\n",
       "      <td>...</td>\n",
       "    </tr>\n",
       "    <tr>\n",
       "      <th>17876</th>\n",
       "      <td>Account Director - Distribution</td>\n",
       "      <td>Sales</td>\n",
       "      <td>na</td>\n",
       "      <td>Vend is looking for some awesome new talent to...</td>\n",
       "      <td>Just in case this is the first time you’ve vis...</td>\n",
       "      <td>To ace this role you:Will eat comprehensive St...</td>\n",
       "      <td>What can you expect from us?We have an open cu...</td>\n",
       "      <td>0</td>\n",
       "      <td>1</td>\n",
       "      <td>1</td>\n",
       "      <td>...</td>\n",
       "      <td>0</td>\n",
       "      <td>0</td>\n",
       "      <td>0</td>\n",
       "      <td>1</td>\n",
       "      <td>0</td>\n",
       "      <td>0</td>\n",
       "      <td>0</td>\n",
       "      <td>0</td>\n",
       "      <td>0</td>\n",
       "      <td>0</td>\n",
       "    </tr>\n",
       "    <tr>\n",
       "      <th>17877</th>\n",
       "      <td>Payroll Accountant</td>\n",
       "      <td>Accounting</td>\n",
       "      <td>na</td>\n",
       "      <td>WebLinc is the e-commerce platform and service...</td>\n",
       "      <td>The Payroll Accountant will focus primarily on...</td>\n",
       "      <td>- B.A. or B.S. in Accounting- Desire to have f...</td>\n",
       "      <td>Health &amp;amp; WellnessMedical planPrescription ...</td>\n",
       "      <td>0</td>\n",
       "      <td>1</td>\n",
       "      <td>1</td>\n",
       "      <td>...</td>\n",
       "      <td>0</td>\n",
       "      <td>0</td>\n",
       "      <td>0</td>\n",
       "      <td>0</td>\n",
       "      <td>0</td>\n",
       "      <td>0</td>\n",
       "      <td>0</td>\n",
       "      <td>0</td>\n",
       "      <td>0</td>\n",
       "      <td>0</td>\n",
       "    </tr>\n",
       "    <tr>\n",
       "      <th>17878</th>\n",
       "      <td>Project Cost Control Staff Engineer - Cost Con...</td>\n",
       "      <td>na</td>\n",
       "      <td>na</td>\n",
       "      <td>We Provide Full Time Permanent Positions for m...</td>\n",
       "      <td>Experienced Project Cost Control Staff Enginee...</td>\n",
       "      <td>At least 12 years professional experience.Abil...</td>\n",
       "      <td></td>\n",
       "      <td>0</td>\n",
       "      <td>0</td>\n",
       "      <td>0</td>\n",
       "      <td>...</td>\n",
       "      <td>0</td>\n",
       "      <td>0</td>\n",
       "      <td>0</td>\n",
       "      <td>0</td>\n",
       "      <td>0</td>\n",
       "      <td>0</td>\n",
       "      <td>0</td>\n",
       "      <td>0</td>\n",
       "      <td>0</td>\n",
       "      <td>1</td>\n",
       "    </tr>\n",
       "    <tr>\n",
       "      <th>17879</th>\n",
       "      <td>Graphic Designer</td>\n",
       "      <td>na</td>\n",
       "      <td>na</td>\n",
       "      <td></td>\n",
       "      <td>Nemsia Studios is looking for an experienced v...</td>\n",
       "      <td>1. Must be fluent in the latest versions of Co...</td>\n",
       "      <td>Competitive salary (compensation will be based...</td>\n",
       "      <td>0</td>\n",
       "      <td>0</td>\n",
       "      <td>1</td>\n",
       "      <td>...</td>\n",
       "      <td>0</td>\n",
       "      <td>0</td>\n",
       "      <td>0</td>\n",
       "      <td>0</td>\n",
       "      <td>0</td>\n",
       "      <td>0</td>\n",
       "      <td>0</td>\n",
       "      <td>0</td>\n",
       "      <td>0</td>\n",
       "      <td>0</td>\n",
       "    </tr>\n",
       "    <tr>\n",
       "      <th>17880</th>\n",
       "      <td>Web Application Developers</td>\n",
       "      <td>Engineering</td>\n",
       "      <td>na</td>\n",
       "      <td>Vend is looking for some awesome new talent to...</td>\n",
       "      <td>Who are we?Vend is an award winning web based ...</td>\n",
       "      <td>We want to hear from you if:You have an in-dep...</td>\n",
       "      <td></td>\n",
       "      <td>0</td>\n",
       "      <td>1</td>\n",
       "      <td>1</td>\n",
       "      <td>...</td>\n",
       "      <td>0</td>\n",
       "      <td>0</td>\n",
       "      <td>0</td>\n",
       "      <td>0</td>\n",
       "      <td>0</td>\n",
       "      <td>0</td>\n",
       "      <td>0</td>\n",
       "      <td>0</td>\n",
       "      <td>0</td>\n",
       "      <td>0</td>\n",
       "    </tr>\n",
       "  </tbody>\n",
       "</table>\n",
       "<p>17880 rows × 227 columns</p>\n",
       "</div>"
      ],
      "text/plain": [
       "                                                    title   department  \\\n",
       "job_id                                                                   \n",
       "1                                        Marketing Intern    Marketing   \n",
       "2               Customer Service - Cloud Video Production      Success   \n",
       "3                 Commissioning Machinery Assistant (CMA)           na   \n",
       "4                       Account Executive - Washington DC        Sales   \n",
       "5                                     Bill Review Manager           na   \n",
       "...                                                   ...          ...   \n",
       "17876                    Account Director - Distribution         Sales   \n",
       "17877                                  Payroll Accountant   Accounting   \n",
       "17878   Project Cost Control Staff Engineer - Cost Con...           na   \n",
       "17879                                    Graphic Designer           na   \n",
       "17880                          Web Application Developers  Engineering   \n",
       "\n",
       "       salary_range                                    company_profile  \\\n",
       "job_id                                                                   \n",
       "1                na  We're Food52, and we've created a groundbreaki...   \n",
       "2                na  90 Seconds, the worlds Cloud Video Production ...   \n",
       "3                na  Valor Services provides Workforce Solutions th...   \n",
       "4                na  Our passion for improving quality of life thro...   \n",
       "5                na  SpotSource Solutions LLC is a Global Human Cap...   \n",
       "...             ...                                                ...   \n",
       "17876            na  Vend is looking for some awesome new talent to...   \n",
       "17877            na  WebLinc is the e-commerce platform and service...   \n",
       "17878            na  We Provide Full Time Permanent Positions for m...   \n",
       "17879            na                                                      \n",
       "17880            na  Vend is looking for some awesome new talent to...   \n",
       "\n",
       "                                              description  \\\n",
       "job_id                                                      \n",
       "1       Food52, a fast-growing, James Beard Award-winn...   \n",
       "2       Organised - Focused - Vibrant - Awesome!Do you...   \n",
       "3       Our client, located in Houston, is actively se...   \n",
       "4       THE COMPANY: ESRI – Environmental Systems Rese...   \n",
       "5       JOB TITLE: Itemization Review ManagerLOCATION:...   \n",
       "...                                                   ...   \n",
       "17876   Just in case this is the first time you’ve vis...   \n",
       "17877   The Payroll Accountant will focus primarily on...   \n",
       "17878   Experienced Project Cost Control Staff Enginee...   \n",
       "17879   Nemsia Studios is looking for an experienced v...   \n",
       "17880   Who are we?Vend is an award winning web based ...   \n",
       "\n",
       "                                             requirements  \\\n",
       "job_id                                                      \n",
       "1       Experience with content management systems a m...   \n",
       "2       What we expect from you:Your key responsibilit...   \n",
       "3       Implement pre-commissioning and commissioning ...   \n",
       "4       EDUCATION: Bachelor’s or Master’s in GIS, busi...   \n",
       "5       QUALIFICATIONS:RN license in the State of Texa...   \n",
       "...                                                   ...   \n",
       "17876   To ace this role you:Will eat comprehensive St...   \n",
       "17877   - B.A. or B.S. in Accounting- Desire to have f...   \n",
       "17878   At least 12 years professional experience.Abil...   \n",
       "17879   1. Must be fluent in the latest versions of Co...   \n",
       "17880   We want to hear from you if:You have an in-dep...   \n",
       "\n",
       "                                                 benefits  telecommuting  \\\n",
       "job_id                                                                     \n",
       "1                                                                      0   \n",
       "2       What you will get from usThrough being part of...              0   \n",
       "3                                                                      0   \n",
       "4       Our culture is anything but corporate—we have ...              0   \n",
       "5                                   Full Benefits Offered              0   \n",
       "...                                                   ...            ...   \n",
       "17876   What can you expect from us?We have an open cu...              0   \n",
       "17877   Health &amp; WellnessMedical planPrescription ...              0   \n",
       "17878                                                                  0   \n",
       "17879   Competitive salary (compensation will be based...              0   \n",
       "17880                                                                  0   \n",
       "\n",
       "        has_company_logo  has_questions  ...  function_Purchasing  \\\n",
       "job_id                                   ...                        \n",
       "1                      1              0  ...                    0   \n",
       "2                      1              0  ...                    0   \n",
       "3                      1              0  ...                    0   \n",
       "4                      1              0  ...                    0   \n",
       "5                      1              1  ...                    0   \n",
       "...                  ...            ...  ...                  ...   \n",
       "17876                  1              1  ...                    0   \n",
       "17877                  1              1  ...                    0   \n",
       "17878                  0              0  ...                    0   \n",
       "17879                  0              1  ...                    0   \n",
       "17880                  1              1  ...                    0   \n",
       "\n",
       "        function_Quality Assurance  function_Research  function_Sales  \\\n",
       "job_id                                                                  \n",
       "1                                0                  0               0   \n",
       "2                                0                  0               0   \n",
       "3                                0                  0               0   \n",
       "4                                0                  0               1   \n",
       "5                                0                  0               0   \n",
       "...                            ...                ...             ...   \n",
       "17876                            0                  0               1   \n",
       "17877                            0                  0               0   \n",
       "17878                            0                  0               0   \n",
       "17879                            0                  0               0   \n",
       "17880                            0                  0               0   \n",
       "\n",
       "       function_Science  function_Strategy/Planning  function_Supply Chain  \\\n",
       "job_id                                                                       \n",
       "1                     0                           0                      0   \n",
       "2                     0                           0                      0   \n",
       "3                     0                           0                      0   \n",
       "4                     0                           0                      0   \n",
       "5                     0                           0                      0   \n",
       "...                 ...                         ...                    ...   \n",
       "17876                 0                           0                      0   \n",
       "17877                 0                           0                      0   \n",
       "17878                 0                           0                      0   \n",
       "17879                 0                           0                      0   \n",
       "17880                 0                           0                      0   \n",
       "\n",
       "        function_Training function_Writing/Editing  function_na  \n",
       "job_id                                                           \n",
       "1                       0                        0            0  \n",
       "2                       0                        0            0  \n",
       "3                       0                        0            1  \n",
       "4                       0                        0            0  \n",
       "5                       0                        0            0  \n",
       "...                   ...                      ...          ...  \n",
       "17876                   0                        0            0  \n",
       "17877                   0                        0            0  \n",
       "17878                   0                        0            1  \n",
       "17879                   0                        0            0  \n",
       "17880                   0                        0            0  \n",
       "\n",
       "[17880 rows x 227 columns]"
      ]
     },
     "execution_count": 95,
     "metadata": {},
     "output_type": "execute_result"
    }
   ],
   "source": [
    "finaldf_getdummy"
   ]
  },
  {
   "cell_type": "code",
   "execution_count": 96,
   "id": "0027753a",
   "metadata": {},
   "outputs": [],
   "source": [
    "X=finaldf_getdummy.drop(['fraudulent','title','department','salary_range','company_profile','description','requirements','benefits'], axis=1)\n",
    "y=finaldf_getdummy['fraudulent']"
   ]
  },
  {
   "cell_type": "code",
   "execution_count": 97,
   "id": "63d5af42",
   "metadata": {},
   "outputs": [
    {
     "data": {
      "image/png": "[encoded data removed]",
      "text/plain": [
       "<Figure size 432x288 with 1 Axes>"
      ]
     },
     "metadata": {
      "needs_background": "light"
     },
     "output_type": "display_data"
    }
   ],
   "source": [
    "scores=make_mi_scores(X,y)[2:32]\n",
    "plot_mi_scores(scores)"
   ]
  },
  {
   "cell_type": "code",
   "execution_count": 98,
   "id": "fecc3f39",
   "metadata": {},
   "outputs": [],
   "source": [
    "from sklearn.model_selection import train_test_split\n",
    "X_train, X_test, y_train, y_test=train_test_split(X, y, test_size=0.25, random_state=50, stratify=y)"
   ]
  },
  {
   "cell_type": "code",
   "execution_count": 100,
   "id": "be212f0d",
   "metadata": {},
   "outputs": [],
   "source": [
    "X_train1=X_train[y_train==0].iloc[0::3].append(X_train[y_train==1])\n",
    "X_train2=X_train[y_train==0].iloc[1::3].append(X_train[y_train==1])\n",
    "X_train3=X_train[y_train==0].iloc[2::3].append(X_train[y_train==1])"
   ]
  },
  {
   "cell_type": "code",
   "execution_count": 103,
   "id": "3cecb747",
   "metadata": {},
   "outputs": [],
   "source": [
    "y_train1=y_train[y_train==0].iloc[0::3].append(y_train[y_train==1])\n",
    "y_train2=y_train[y_train==0].iloc[1::3].append(y_train[y_train==1])\n",
    "y_train3=y_train[y_train==0].iloc[2::3].append(y_train[y_train==1])"
   ]
  },
  {
   "cell_type": "code",
   "execution_count": 104,
   "id": "fe9965d3",
   "metadata": {},
   "outputs": [],
   "source": [
    "from imblearn.over_sampling import RandomOverSampler\n",
    "ros = RandomOverSampler(sampling_strategy=0.6, random_state= 42)\n",
    "X_train1_resampled, y_train1_resampled = ros.fit_resample(X_train1, y_train1)\n",
    "X_train2_resampled, y_train2_resampled = ros.fit_resample(X_train2, y_train2)\n",
    "X_train3_resampled, y_train3_resampled = ros.fit_resample(X_train3, y_train3)"
   ]
  },
  {
   "cell_type": "markdown",
   "id": "2c206e35",
   "metadata": {},
   "source": [
    "# SVM BoW Model"
   ]
  },
  {
   "cell_type": "code",
   "execution_count": 187,
   "id": "824c1bf1",
   "metadata": {},
   "outputs": [],
   "source": [
    "from sklearn.feature_extraction.text import CountVectorizer\n",
    "from sklearn.pipeline import Pipeline\n",
    "from sklearn.svm import LinearSVC\n",
    "\n",
    "vectorizer = CountVectorizer(ngram_range=(1,2)) # looking for both unigrams and bigrams\n",
    "clf = LinearSVC(C=0.01, class_weight='balanced', random_state=42)\n",
    "bowpipe = Pipeline([('vectorizer', vectorizer), ('clf', clf)])\n",
    "bowpipe.fit(X_train1_resampled['cleaned_text'], y_train1_resampled)\n",
    "bow_predict = bowpipe.predict(X_test['cleaned_text'])"
   ]
  },
  {
   "cell_type": "code",
   "execution_count": 189,
   "id": "a7d49d42",
   "metadata": {},
   "outputs": [
    {
     "name": "stdout",
     "output_type": "stream",
     "text": [
      "accuracy: 0.9765100671140939\n",
      "              precision    recall  f1-score   support\n",
      "\n",
      "           0       0.99      0.98      0.99      4254\n",
      "           1       0.72      0.85      0.78       216\n",
      "\n",
      "    accuracy                           0.98      4470\n",
      "   macro avg       0.85      0.92      0.88      4470\n",
      "weighted avg       0.98      0.98      0.98      4470\n",
      "\n"
     ]
    }
   ],
   "source": [
    "from sklearn.metrics import accuracy_score, classification_report\n",
    "print(\"accuracy:\", accuracy_score(y_test, bow_predict))\n",
    "print(classification_report(y_test, bow_predict))"
   ]
  },
  {
   "cell_type": "code",
   "execution_count": 190,
   "id": "93c1787a",
   "metadata": {},
   "outputs": [
    {
     "data": {
      "image/png": "[encoded data removed]",
      "text/plain": [
       "<Figure size 432x288 with 2 Axes>"
      ]
     },
     "metadata": {
      "needs_background": "light"
     },
     "output_type": "display_data"
    }
   ],
   "source": [
    "from sklearn.metrics import confusion_matrix, ConfusionMatrixDisplay\n",
    "cm_bow=confusion_matrix(y_test, bow_predict)\n",
    "disp=ConfusionMatrixDisplay(confusion_matrix=cm_bow)\n",
    "disp.plot()\n",
    "plt.show()"
   ]
  },
  {
   "cell_type": "code",
   "execution_count": 191,
   "id": "8e30ae32",
   "metadata": {},
   "outputs": [
    {
     "name": "stdout",
     "output_type": "stream",
     "text": [
      "Top 30 features used to predict: \n",
      "Class 0 best: \n",
      "(-0.10869079425322477, 'english')\n",
      "(-0.09105120183964446, 'digital')\n",
      "(-0.08218748309801872, 'startup')\n",
      "(-0.07956797616800289, 'driver')\n",
      "(-0.07572153636429363, 'oracle')\n",
      "(-0.0723818494964548, 'order')\n",
      "(-0.07120735411050824, 'developer')\n",
      "(-0.07042179459749942, 'agency')\n",
      "(-0.0687736662714827, 'medium')\n",
      "(-0.06792369951281095, 'infrastructure')\n",
      "(-0.06757513840027618, 'client')\n",
      "(-0.0670519477932486, 'recruitment')\n",
      "(-0.0649282689220866, 'web')\n",
      "(-0.0646444841991225, 'sell')\n",
      "(-0.06336285468233835, 'year')\n",
      "(-0.06271998262722114, 'business')\n",
      "(-0.06233494254970269, 'fast')\n",
      "(-0.06218754613223965, 'previous')\n",
      "(-0.06044913809573476, 'university')\n",
      "(-0.06038680126861158, 'degree')\n",
      "(-0.05821662745897838, 'social')\n",
      "(-0.0579022201430764, 'experienced')\n",
      "(-0.05783840446582203, 'class')\n",
      "(-0.05749570243808319, 'caregiver')\n",
      "(-0.05712521900151681, 'teacher')\n",
      "(-0.056951934964222295, 'end')\n",
      "(-0.055012684222705055, 'search')\n",
      "(-0.054739214359738324, 'etc')\n",
      "(-0.05446099360664703, 'we')\n",
      "(-0.05435931399889043, 'advisor')\n",
      "Class 1 best: \n",
      "(0.16154109877823503, 'rohan')\n",
      "(0.09157348821927545, 'service rohan')\n",
      "(0.09157348821927545, 'real service')\n",
      "(0.09096731319072421, 'earn')\n",
      "(0.08248590257437986, 'sale executive')\n",
      "(0.08028188110789886, 'no')\n",
      "(0.0793464130317818, 'apply link')\n",
      "(0.07689083049394609, 'executive sale')\n",
      "(0.07585216344880776, 'link')\n",
      "(0.07419668189842217, 'money')\n",
      "(0.06961198085782992, 'answer')\n",
      "(0.06728141923903563, 'receptionist')\n",
      "(0.06661880870023688, 'aptitude')\n",
      "(0.06582851759619238, 'northwestern hospital')\n",
      "(0.06582851759619238, 'northwestern')\n",
      "(0.06582851759619238, 'hospital build')\n",
      "(0.06582851759619238, 'build website')\n",
      "(0.06531924148879813, 'wage')\n",
      "(0.06512872236303491, 'photoshop master')\n",
      "(0.06507975711724832, 'immediate')\n",
      "(0.06497983546705642, 'ux')\n",
      "(0.06233755532587883, 'csr')\n",
      "(0.060108690150914044, 'clerk')\n",
      "(0.06000659638788955, 'migration')\n",
      "(0.059876734210810724, 'no experience')\n",
      "(0.058199678707785696, 'post')\n",
      "(0.05776420009273172, 'accion')\n",
      "(0.057619807749172455, 'hospital')\n",
      "(0.05719192037352679, 'send')\n",
      "(0.05647231757994492, 'book')\n"
     ]
    }
   ],
   "source": [
    "def printNMostInformative(vectorizer, clf, N):\n",
    "    feature_names = vectorizer.get_feature_names()\n",
    "    coefs_with_fns = sorted(zip(clf.coef_[0], feature_names))\n",
    "    topClass0 = coefs_with_fns[:N]\n",
    "    topClass1 = coefs_with_fns[:-(N + 1):-1]\n",
    "    print(\"Class 0 best: \")\n",
    "    for feat in topClass0:\n",
    "        print(feat)\n",
    "    print(\"Class 1 best: \")\n",
    "    for feat in topClass1:\n",
    "        print(feat)\n",
    "\n",
    "print(\"Top 30 features used to predict: \")\n",
    "printNMostInformative(vectorizer, clf, 30)\n",
    "transform = vectorizer.fit_transform(X_train1_resampled['cleaned_text'], y_train1_resampled)\n",
    "\n",
    "vocab = vectorizer.get_feature_names()\n",
    "for i in range(len(X_train1_resampled['cleaned_text'])):\n",
    "    s = \"\"\n",
    "    indexIntoVocab = transform.indices[transform.indptr[i]:transform.indptr[i+1]]\n",
    "    numOccurences = transform.data[transform.indptr[i]:transform.indptr[i+1]]\n",
    "    for idx, num in zip(indexIntoVocab, numOccurences):\n",
    "        s += str((vocab[idx], num))"
   ]
  },
  {
   "cell_type": "markdown",
   "id": "f1a595b3",
   "metadata": {},
   "source": [
    "A bag-of-word model simply keeps counts of occurance of each word in the text. By feeding it into a machine learning algorithm, we hope the algorithm can identify keywords that can distinguish fake job ads from the real ones. Linear SVM is known to be working quickly on high dimensional data and is highly interpretable. I use Susan Li's function for listing the top textual features used for predictions, and it reveals that some of the words raised in earlier discussion like \"earn\", \"immediate\", \"cash\", \"money\", \"apply link\", \"phone\", \"work home\" emerge as keywords for predictions, while certain top words related to \"northwestern hospital build website\" apparently learned from a series of fake ads in the sample."
   ]
  },
  {
   "cell_type": "code",
   "execution_count": 268,
   "id": "a93dc5b6",
   "metadata": {},
   "outputs": [],
   "source": [
    "X_train4_resampled, y_train4_resampled = ros.fit_resample(X_train, y_train)"
   ]
  },
  {
   "cell_type": "markdown",
   "id": "7f8dc98c",
   "metadata": {},
   "source": [
    "# Random Forest TF-IDF BoW Model"
   ]
  },
  {
   "cell_type": "code",
   "execution_count": 312,
   "id": "d6eb3cf6",
   "metadata": {},
   "outputs": [],
   "source": [
    "from sklearn.feature_extraction.text import TfidfVectorizer\n",
    "from sklearn.ensemble import RandomForestClassifier\n",
    "\n",
    "t_vectorizer = TfidfVectorizer(ngram_range=(1,2))\n",
    "t_clf = RandomForestClassifier(class_weight='balanced', random_state=42)\n",
    "t_bowpipe = Pipeline([('vectorizer', t_vectorizer), ('clf', t_clf)])\n",
    "t_bowpipe.fit(X_train4_resampled['cleaned_text'], y_train4_resampled)\n",
    "t_bow_predict = t_bowpipe.predict(X_test['cleaned_text'])"
   ]
  },
  {
   "cell_type": "code",
   "execution_count": 313,
   "id": "c7e3a6a4",
   "metadata": {},
   "outputs": [
    {
     "name": "stdout",
     "output_type": "stream",
     "text": [
      "accuracy: 0.9812080536912752\n",
      "              precision    recall  f1-score   support\n",
      "\n",
      "           0       0.98      1.00      0.99      4254\n",
      "           1       0.97      0.63      0.76       216\n",
      "\n",
      "    accuracy                           0.98      4470\n",
      "   macro avg       0.98      0.81      0.88      4470\n",
      "weighted avg       0.98      0.98      0.98      4470\n",
      "\n"
     ]
    }
   ],
   "source": [
    "print(\"accuracy:\", accuracy_score(y_test, t_bow_predict))\n",
    "print(classification_report(y_test, t_bow_predict))"
   ]
  },
  {
   "cell_type": "code",
   "execution_count": 314,
   "id": "dbec515e",
   "metadata": {},
   "outputs": [
    {
     "data": {
      "image/png": "[encoded data removed]",
      "text/plain": [
       "<Figure size 432x288 with 2 Axes>"
      ]
     },
     "metadata": {
      "needs_background": "light"
     },
     "output_type": "display_data"
    }
   ],
   "source": [
    "cm_t_bow=confusion_matrix(y_test, t_bow_predict)\n",
    "disp=ConfusionMatrixDisplay(confusion_matrix=cm_t_bow)\n",
    "disp.plot()\n",
    "plt.show()"
   ]
  },
  {
   "cell_type": "code",
   "execution_count": 356,
   "id": "654724f0",
   "metadata": {},
   "outputs": [
    {
     "data": {
      "image/png": "[encoded data removed]",
      "text/plain": [
       "<Figure size 432x288 with 1 Axes>"
      ]
     },
     "metadata": {
      "needs_background": "light"
     },
     "output_type": "display_data"
    }
   ],
   "source": [
    "rf_disp = RocCurveDisplay.from_estimator(t_bowpipe, X_test['cleaned_text'], y_test)\n",
    "plt.show()"
   ]
  },
  {
   "cell_type": "code",
   "execution_count": 315,
   "id": "c96f3da3",
   "metadata": {},
   "outputs": [
    {
     "data": {
      "text/html": [
       "\n",
       "    <style>\n",
       "    table.eli5-weights tr:hover {\n",
       "        filter: brightness(85%);\n",
       "    }\n",
       "</style>\n",
       "\n",
       "\n",
       "\n",
       "    \n",
       "\n",
       "    \n",
       "\n",
       "    \n",
       "\n",
       "    \n",
       "\n",
       "    \n",
       "\n",
       "    \n",
       "\n",
       "\n",
       "    \n",
       "\n",
       "    \n",
       "\n",
       "    \n",
       "\n",
       "    \n",
       "\n",
       "    \n",
       "\n",
       "    \n",
       "\n",
       "\n",
       "    \n",
       "\n",
       "    \n",
       "\n",
       "    \n",
       "\n",
       "    \n",
       "\n",
       "    \n",
       "        <table class=\"eli5-weights eli5-feature-importances\" style=\"border-collapse: collapse; border: none; margin-top: 0em; table-layout: auto;\">\n",
       "    <thead>\n",
       "    <tr style=\"border: none;\">\n",
       "        <th style=\"padding: 0 1em 0 0.5em; text-align: right; border: none;\">Weight</th>\n",
       "        <th style=\"padding: 0 0.5em 0 0.5em; text-align: left; border: none;\">Feature</th>\n",
       "    </tr>\n",
       "    </thead>\n",
       "    <tbody>\n",
       "    \n",
       "        <tr style=\"background-color: hsl(120, 100.00%, 80.00%); border: none;\">\n",
       "            <td style=\"padding: 0 1em 0 0.5em; text-align: right; border: none;\">\n",
       "                0.0043\n",
       "                \n",
       "                    &plusmn; 0.0224\n",
       "                \n",
       "            </td>\n",
       "            <td style=\"padding: 0 0.5em 0 0.5em; text-align: left; border: none;\">\n",
       "                team\n",
       "            </td>\n",
       "        </tr>\n",
       "    \n",
       "        <tr style=\"background-color: hsl(120, 100.00%, 85.37%); border: none;\">\n",
       "            <td style=\"padding: 0 1em 0 0.5em; text-align: right; border: none;\">\n",
       "                0.0027\n",
       "                \n",
       "                    &plusmn; 0.0228\n",
       "                \n",
       "            </td>\n",
       "            <td style=\"padding: 0 0.5em 0 0.5em; text-align: left; border: none;\">\n",
       "                position\n",
       "            </td>\n",
       "        </tr>\n",
       "    \n",
       "        <tr style=\"background-color: hsl(120, 100.00%, 86.32%); border: none;\">\n",
       "            <td style=\"padding: 0 1em 0 0.5em; text-align: right; border: none;\">\n",
       "                0.0025\n",
       "                \n",
       "                    &plusmn; 0.0194\n",
       "                \n",
       "            </td>\n",
       "            <td style=\"padding: 0 0.5em 0 0.5em; text-align: left; border: none;\">\n",
       "                fun\n",
       "            </td>\n",
       "        </tr>\n",
       "    \n",
       "        <tr style=\"background-color: hsl(120, 100.00%, 86.45%); border: none;\">\n",
       "            <td style=\"padding: 0 1em 0 0.5em; text-align: right; border: none;\">\n",
       "                0.0025\n",
       "                \n",
       "                    &plusmn; 0.0197\n",
       "                \n",
       "            </td>\n",
       "            <td style=\"padding: 0 0.5em 0 0.5em; text-align: left; border: none;\">\n",
       "                passionate\n",
       "            </td>\n",
       "        </tr>\n",
       "    \n",
       "        <tr style=\"background-color: hsl(120, 100.00%, 87.04%); border: none;\">\n",
       "            <td style=\"padding: 0 1em 0 0.5em; text-align: right; border: none;\">\n",
       "                0.0023\n",
       "                \n",
       "                    &plusmn; 0.0150\n",
       "                \n",
       "            </td>\n",
       "            <td style=\"padding: 0 0.5em 0 0.5em; text-align: left; border: none;\">\n",
       "                time\n",
       "            </td>\n",
       "        </tr>\n",
       "    \n",
       "        <tr style=\"background-color: hsl(120, 100.00%, 88.31%); border: none;\">\n",
       "            <td style=\"padding: 0 1em 0 0.5em; text-align: right; border: none;\">\n",
       "                0.0020\n",
       "                \n",
       "                    &plusmn; 0.0122\n",
       "                \n",
       "            </td>\n",
       "            <td style=\"padding: 0 0.5em 0 0.5em; text-align: left; border: none;\">\n",
       "                industry\n",
       "            </td>\n",
       "        </tr>\n",
       "    \n",
       "        <tr style=\"background-color: hsl(120, 100.00%, 88.36%); border: none;\">\n",
       "            <td style=\"padding: 0 1em 0 0.5em; text-align: right; border: none;\">\n",
       "                0.0020\n",
       "                \n",
       "                    &plusmn; 0.0191\n",
       "                \n",
       "            </td>\n",
       "            <td style=\"padding: 0 0.5em 0 0.5em; text-align: left; border: none;\">\n",
       "                earn\n",
       "            </td>\n",
       "        </tr>\n",
       "    \n",
       "        <tr style=\"background-color: hsl(120, 100.00%, 88.50%); border: none;\">\n",
       "            <td style=\"padding: 0 1em 0 0.5em; text-align: right; border: none;\">\n",
       "                0.0019\n",
       "                \n",
       "                    &plusmn; 0.0084\n",
       "                \n",
       "            </td>\n",
       "            <td style=\"padding: 0 0.5em 0 0.5em; text-align: left; border: none;\">\n",
       "                experience\n",
       "            </td>\n",
       "        </tr>\n",
       "    \n",
       "        <tr style=\"background-color: hsl(120, 100.00%, 88.51%); border: none;\">\n",
       "            <td style=\"padding: 0 1em 0 0.5em; text-align: right; border: none;\">\n",
       "                0.0019\n",
       "                \n",
       "                    &plusmn; 0.0177\n",
       "                \n",
       "            </td>\n",
       "            <td style=\"padding: 0 0.5em 0 0.5em; text-align: left; border: none;\">\n",
       "                medium\n",
       "            </td>\n",
       "        </tr>\n",
       "    \n",
       "        <tr style=\"background-color: hsl(120, 100.00%, 88.52%); border: none;\">\n",
       "            <td style=\"padding: 0 1em 0 0.5em; text-align: right; border: none;\">\n",
       "                0.0019\n",
       "                \n",
       "                    &plusmn; 0.0119\n",
       "                \n",
       "            </td>\n",
       "            <td style=\"padding: 0 0.5em 0 0.5em; text-align: left; border: none;\">\n",
       "                drive\n",
       "            </td>\n",
       "        </tr>\n",
       "    \n",
       "        <tr style=\"background-color: hsl(120, 100.00%, 88.84%); border: none;\">\n",
       "            <td style=\"padding: 0 1em 0 0.5em; text-align: right; border: none;\">\n",
       "                0.0019\n",
       "                \n",
       "                    &plusmn; 0.0130\n",
       "                \n",
       "            </td>\n",
       "            <td style=\"padding: 0 0.5em 0 0.5em; text-align: left; border: none;\">\n",
       "                app\n",
       "            </td>\n",
       "        </tr>\n",
       "    \n",
       "        <tr style=\"background-color: hsl(120, 100.00%, 88.90%); border: none;\">\n",
       "            <td style=\"padding: 0 1em 0 0.5em; text-align: right; border: none;\">\n",
       "                0.0018\n",
       "                \n",
       "                    &plusmn; 0.0146\n",
       "                \n",
       "            </td>\n",
       "            <td style=\"padding: 0 0.5em 0 0.5em; text-align: left; border: none;\">\n",
       "                skill\n",
       "            </td>\n",
       "        </tr>\n",
       "    \n",
       "        <tr style=\"background-color: hsl(120, 100.00%, 89.02%); border: none;\">\n",
       "            <td style=\"padding: 0 1em 0 0.5em; text-align: right; border: none;\">\n",
       "                0.0018\n",
       "                \n",
       "                    &plusmn; 0.0133\n",
       "                \n",
       "            </td>\n",
       "            <td style=\"padding: 0 0.5em 0 0.5em; text-align: left; border: none;\">\n",
       "                no\n",
       "            </td>\n",
       "        </tr>\n",
       "    \n",
       "        <tr style=\"background-color: hsl(120, 100.00%, 89.27%); border: none;\">\n",
       "            <td style=\"padding: 0 1em 0 0.5em; text-align: right; border: none;\">\n",
       "                0.0018\n",
       "                \n",
       "                    &plusmn; 0.0136\n",
       "                \n",
       "            </td>\n",
       "            <td style=\"padding: 0 0.5em 0 0.5em; text-align: left; border: none;\">\n",
       "                think\n",
       "            </td>\n",
       "        </tr>\n",
       "    \n",
       "        <tr style=\"background-color: hsl(120, 100.00%, 89.49%); border: none;\">\n",
       "            <td style=\"padding: 0 1em 0 0.5em; text-align: right; border: none;\">\n",
       "                0.0017\n",
       "                \n",
       "                    &plusmn; 0.0101\n",
       "                \n",
       "            </td>\n",
       "            <td style=\"padding: 0 0.5em 0 0.5em; text-align: left; border: none;\">\n",
       "                new\n",
       "            </td>\n",
       "        </tr>\n",
       "    \n",
       "        <tr style=\"background-color: hsl(120, 100.00%, 89.59%); border: none;\">\n",
       "            <td style=\"padding: 0 1em 0 0.5em; text-align: right; border: none;\">\n",
       "                0.0017\n",
       "                \n",
       "                    &plusmn; 0.0112\n",
       "                \n",
       "            </td>\n",
       "            <td style=\"padding: 0 0.5em 0 0.5em; text-align: left; border: none;\">\n",
       "                grow\n",
       "            </td>\n",
       "        </tr>\n",
       "    \n",
       "        <tr style=\"background-color: hsl(120, 100.00%, 89.91%); border: none;\">\n",
       "            <td style=\"padding: 0 1em 0 0.5em; text-align: right; border: none;\">\n",
       "                0.0016\n",
       "                \n",
       "                    &plusmn; 0.0092\n",
       "                \n",
       "            </td>\n",
       "            <td style=\"padding: 0 0.5em 0 0.5em; text-align: left; border: none;\">\n",
       "                technology\n",
       "            </td>\n",
       "        </tr>\n",
       "    \n",
       "        <tr style=\"background-color: hsl(120, 100.00%, 90.00%); border: none;\">\n",
       "            <td style=\"padding: 0 1em 0 0.5em; text-align: right; border: none;\">\n",
       "                0.0016\n",
       "                \n",
       "                    &plusmn; 0.0106\n",
       "                \n",
       "            </td>\n",
       "            <td style=\"padding: 0 0.5em 0 0.5em; text-align: left; border: none;\">\n",
       "                software\n",
       "            </td>\n",
       "        </tr>\n",
       "    \n",
       "        <tr style=\"background-color: hsl(120, 100.00%, 90.01%); border: none;\">\n",
       "            <td style=\"padding: 0 1em 0 0.5em; text-align: right; border: none;\">\n",
       "                0.0016\n",
       "                \n",
       "                    &plusmn; 0.0119\n",
       "                \n",
       "            </td>\n",
       "            <td style=\"padding: 0 0.5em 0 0.5em; text-align: left; border: none;\">\n",
       "                computer\n",
       "            </td>\n",
       "        </tr>\n",
       "    \n",
       "        <tr style=\"background-color: hsl(120, 100.00%, 90.13%); border: none;\">\n",
       "            <td style=\"padding: 0 1em 0 0.5em; text-align: right; border: none;\">\n",
       "                0.0016\n",
       "                \n",
       "                    &plusmn; 0.0094\n",
       "                \n",
       "            </td>\n",
       "            <td style=\"padding: 0 0.5em 0 0.5em; text-align: left; border: none;\">\n",
       "                right\n",
       "            </td>\n",
       "        </tr>\n",
       "    \n",
       "        <tr style=\"background-color: hsl(120, 100.00%, 90.17%); border: none;\">\n",
       "            <td style=\"padding: 0 1em 0 0.5em; text-align: right; border: none;\">\n",
       "                0.0016\n",
       "                \n",
       "                    &plusmn; 0.0137\n",
       "                \n",
       "            </td>\n",
       "            <td style=\"padding: 0 0.5em 0 0.5em; text-align: left; border: none;\">\n",
       "                fast grow\n",
       "            </td>\n",
       "        </tr>\n",
       "    \n",
       "        <tr style=\"background-color: hsl(120, 100.00%, 90.26%); border: none;\">\n",
       "            <td style=\"padding: 0 1em 0 0.5em; text-align: right; border: none;\">\n",
       "                0.0015\n",
       "                \n",
       "                    &plusmn; 0.0135\n",
       "                \n",
       "            </td>\n",
       "            <td style=\"padding: 0 0.5em 0 0.5em; text-align: left; border: none;\">\n",
       "                we\n",
       "            </td>\n",
       "        </tr>\n",
       "    \n",
       "        <tr style=\"background-color: hsl(120, 100.00%, 90.31%); border: none;\">\n",
       "            <td style=\"padding: 0 1em 0 0.5em; text-align: right; border: none;\">\n",
       "                0.0015\n",
       "                \n",
       "                    &plusmn; 0.0092\n",
       "                \n",
       "            </td>\n",
       "            <td style=\"padding: 0 0.5em 0 0.5em; text-align: left; border: none;\">\n",
       "                base\n",
       "            </td>\n",
       "        </tr>\n",
       "    \n",
       "        <tr style=\"background-color: hsl(120, 100.00%, 90.34%); border: none;\">\n",
       "            <td style=\"padding: 0 1em 0 0.5em; text-align: right; border: none;\">\n",
       "                0.0015\n",
       "                \n",
       "                    &plusmn; 0.0156\n",
       "                \n",
       "            </td>\n",
       "            <td style=\"padding: 0 0.5em 0 0.5em; text-align: left; border: none;\">\n",
       "                seek\n",
       "            </td>\n",
       "        </tr>\n",
       "    \n",
       "        <tr style=\"background-color: hsl(120, 100.00%, 90.36%); border: none;\">\n",
       "            <td style=\"padding: 0 1em 0 0.5em; text-align: right; border: none;\">\n",
       "                0.0015\n",
       "                \n",
       "                    &plusmn; 0.0116\n",
       "                \n",
       "            </td>\n",
       "            <td style=\"padding: 0 0.5em 0 0.5em; text-align: left; border: none;\">\n",
       "                private\n",
       "            </td>\n",
       "        </tr>\n",
       "    \n",
       "        <tr style=\"background-color: hsl(120, 100.00%, 90.38%); border: none;\">\n",
       "            <td style=\"padding: 0 1em 0 0.5em; text-align: right; border: none;\">\n",
       "                0.0015\n",
       "                \n",
       "                    &plusmn; 0.0116\n",
       "                \n",
       "            </td>\n",
       "            <td style=\"padding: 0 0.5em 0 0.5em; text-align: left; border: none;\">\n",
       "                social\n",
       "            </td>\n",
       "        </tr>\n",
       "    \n",
       "        <tr style=\"background-color: hsl(120, 100.00%, 90.42%); border: none;\">\n",
       "            <td style=\"padding: 0 1em 0 0.5em; text-align: right; border: none;\">\n",
       "                0.0015\n",
       "                \n",
       "                    &plusmn; 0.0133\n",
       "                \n",
       "            </td>\n",
       "            <td style=\"padding: 0 0.5em 0 0.5em; text-align: left; border: none;\">\n",
       "                internet\n",
       "            </td>\n",
       "        </tr>\n",
       "    \n",
       "        <tr style=\"background-color: hsl(120, 100.00%, 90.53%); border: none;\">\n",
       "            <td style=\"padding: 0 1em 0 0.5em; text-align: right; border: none;\">\n",
       "                0.0015\n",
       "                \n",
       "                    &plusmn; 0.0107\n",
       "                \n",
       "            </td>\n",
       "            <td style=\"padding: 0 0.5em 0 0.5em; text-align: left; border: none;\">\n",
       "                solution\n",
       "            </td>\n",
       "        </tr>\n",
       "    \n",
       "        <tr style=\"background-color: hsl(120, 100.00%, 90.59%); border: none;\">\n",
       "            <td style=\"padding: 0 1em 0 0.5em; text-align: right; border: none;\">\n",
       "                0.0015\n",
       "                \n",
       "                    &plusmn; 0.0111\n",
       "                \n",
       "            </td>\n",
       "            <td style=\"padding: 0 0.5em 0 0.5em; text-align: left; border: none;\">\n",
       "                campaign\n",
       "            </td>\n",
       "        </tr>\n",
       "    \n",
       "        <tr style=\"background-color: hsl(120, 100.00%, 90.86%); border: none;\">\n",
       "            <td style=\"padding: 0 1em 0 0.5em; text-align: right; border: none;\">\n",
       "                0.0014\n",
       "                \n",
       "                    &plusmn; 0.0088\n",
       "                \n",
       "            </td>\n",
       "            <td style=\"padding: 0 0.5em 0 0.5em; text-align: left; border: none;\">\n",
       "                client\n",
       "            </td>\n",
       "        </tr>\n",
       "    \n",
       "    \n",
       "        \n",
       "            <tr style=\"background-color: hsl(120, 100.00%, 90.86%); border: none;\">\n",
       "                <td colspan=\"2\" style=\"padding: 0 0.5em 0 0.5em; text-align: center; border: none; white-space: nowrap;\">\n",
       "                    <i>&hellip; 828382 more &hellip;</i>\n",
       "                </td>\n",
       "            </tr>\n",
       "        \n",
       "    \n",
       "    </tbody>\n",
       "</table>\n",
       "    \n",
       "\n",
       "    \n",
       "\n",
       "\n",
       "    \n",
       "\n",
       "    \n",
       "\n",
       "    \n",
       "\n",
       "    \n",
       "\n",
       "    \n",
       "\n",
       "    \n",
       "\n",
       "\n",
       "\n"
      ],
      "text/plain": [
       "Explanation(estimator=\"Pipeline(steps=[('vectorizer', TfidfVectorizer(ngram_range=(1, 2))),\\n                ('clf',\\n                 RandomForestClassifier(class_weight='balanced',\\n                                        random_state=42))])\", description='\\nRandom forest feature importances; values are numbers 0 <= x <= 1;\\nall values sum to 1.\\n', error=None, method='feature importances', is_regression=False, targets=None, feature_importances=FeatureImportances(importances=[FeatureWeight(feature='team', weight=0.004282743979255661, std=0.011219393565169624, value=None), FeatureWeight(feature='position', weight=0.0027388434427740335, std=0.011377931570588659, value=None), FeatureWeight(feature='fun', weight=0.0024898853490903892, std=0.009702545712031732, value=None), FeatureWeight(feature='passionate', weight=0.0024552630378531486, std=0.009874794849708894, value=None), FeatureWeight(feature='time', weight=0.0023050044988013204, std=0.0074808538682186, value=None), FeatureWeight(feature='industry', weight=0.001989687741357198, std=0.0060788519024018075, value=None), FeatureWeight(feature='earn', weight=0.0019754184304350128, std=0.009555272350968662, value=None), FeatureWeight(feature='experience', weight=0.0019419027369033494, std=0.004206654457391401, value=None), FeatureWeight(feature='medium', weight=0.0019393550750505, std=0.008866565432469204, value=None), FeatureWeight(feature='drive', weight=0.0019379511410525733, std=0.005953247526714935, value=None), FeatureWeight(feature='app', weight=0.0018607131593191288, std=0.006509061627506632, value=None), FeatureWeight(feature='skill', weight=0.0018472214678336267, std=0.007285193707116312, value=None), FeatureWeight(feature='no', weight=0.00181745504159151, std=0.006652399893386301, value=None), FeatureWeight(feature='think', weight=0.0017593922291622218, std=0.006797385884637523, value=None), FeatureWeight(feature='new', weight=0.001708603834468694, std=0.005063637610729923, value=None), FeatureWeight(feature='grow', weight=0.0016845865722344593, std=0.0056053150199209855, value=None), FeatureWeight(feature='technology', weight=0.0016106159197319806, std=0.004613137049228142, value=None), FeatureWeight(feature='software', weight=0.0015906144060379135, std=0.005289821320156735, value=None), FeatureWeight(feature='computer', weight=0.0015882808107827956, std=0.005927566706500175, value=None), FeatureWeight(feature='right', weight=0.00156245993391714, std=0.0046811849911751685, value=None), FeatureWeight(feature='fast grow', weight=0.0015518805291169359, std=0.006869808841062774, value=None), FeatureWeight(feature='we', weight=0.0015324740174527589, std=0.006744639292502685, value=None), FeatureWeight(feature='base', weight=0.001520566670435731, std=0.004607576241819685, value=None), FeatureWeight(feature='seek', weight=0.0015135268839307386, std=0.007791276881401592, value=None), FeatureWeight(feature='private', weight=0.0015090619942361128, std=0.005780188750865111, value=None), FeatureWeight(feature='social', weight=0.0015057179661219196, std=0.005801216352476932, value=None), FeatureWeight(feature='internet', weight=0.001496429192483378, std=0.006645933793538569, value=None), FeatureWeight(feature='solution', weight=0.0014725467058403245, std=0.005358227764533114, value=None), FeatureWeight(feature='campaign', weight=0.0014589884666753037, std=0.005538110609609713, value=None), FeatureWeight(feature='client', weight=0.001399154337054076, std=0.004424148781093852, value=None)], remaining=828382), decision_tree=None, highlight_spaces=None, transition_features=None, image=None)"
      ]
     },
     "execution_count": 315,
     "metadata": {},
     "output_type": "execute_result"
    }
   ],
   "source": [
    "import eli5\n",
    "eli5.explain_weights(t_bowpipe, vec=t_vectorizer, top=30, targets=y_train2_resampled)"
   ]
  },
  {
   "cell_type": "markdown",
   "id": "fd0908c0",
   "metadata": {},
   "source": [
    "TD-IDF(term frequency–inverse document frequency) changes the word counts of BoW model by suppressing the importance of words occurring across texts, thus concentrating on unique words that appear frequently in a particular text. The eli5 library can reveal the textual features carry the most weight i the random forest model, but don't distinguish whether they are used to predict real or fake ads, but we can see certain words like \"earn\", \"work home\", \"no experience\" appear again. And compared with the SVM BoW model, which has more false positives than false negatives, the random forest TF-IDF BoW Model has more false negatives than false positives."
   ]
  },
  {
   "cell_type": "markdown",
   "id": "fe5ee912",
   "metadata": {},
   "source": [
    "# SVM with TFIDF"
   ]
  },
  {
   "cell_type": "code",
   "execution_count": 316,
   "id": "80380f22",
   "metadata": {},
   "outputs": [],
   "source": [
    "t_vectorizer_1 = TfidfVectorizer(ngram_range=(1,2))\n",
    "clf_1 = LinearSVC(C=0.01, class_weight='balanced', random_state=42)\n",
    "svm_tf = Pipeline([('vectorizer', t_vectorizer_1), ('clf', clf_1)])\n",
    "svm_tf.fit(X_train4_resampled['cleaned_text'], y_train4_resampled)\n",
    "svm_predict_tf = svm_tf.predict(X_test['cleaned_text'])"
   ]
  },
  {
   "cell_type": "code",
   "execution_count": 317,
   "id": "e0e5b0d9",
   "metadata": {
    "scrolled": false
   },
   "outputs": [
    {
     "name": "stdout",
     "output_type": "stream",
     "text": [
      "accuracy: 0.980089485458613\n",
      "              precision    recall  f1-score   support\n",
      "\n",
      "           0       0.99      0.99      0.99      4254\n",
      "           1       0.76      0.85      0.81       216\n",
      "\n",
      "    accuracy                           0.98      4470\n",
      "   macro avg       0.88      0.92      0.90      4470\n",
      "weighted avg       0.98      0.98      0.98      4470\n",
      "\n"
     ]
    }
   ],
   "source": [
    "print(\"accuracy:\", accuracy_score(y_test,svm_predict_tf))\n",
    "print(classification_report(y_test, svm_predict_tf))"
   ]
  },
  {
   "cell_type": "code",
   "execution_count": 318,
   "id": "491c6f09",
   "metadata": {},
   "outputs": [
    {
     "data": {
      "image/png": "[encoded data removed]",
      "text/plain": [
       "<Figure size 432x288 with 2 Axes>"
      ]
     },
     "metadata": {
      "needs_background": "light"
     },
     "output_type": "display_data"
    }
   ],
   "source": [
    "from sklearn.metrics import confusion_matrix, ConfusionMatrixDisplay\n",
    "cm_bow=confusion_matrix(y_test, svm_predict_tf)\n",
    "disp=ConfusionMatrixDisplay(confusion_matrix=cm_bow)\n",
    "disp.plot()\n",
    "plt.show()"
   ]
  },
  {
   "cell_type": "code",
   "execution_count": 343,
   "id": "9582070d",
   "metadata": {},
   "outputs": [
    {
     "data": {
      "image/png": "[encoded data removed]",
      "text/plain": [
       "<Figure size 432x288 with 1 Axes>"
      ]
     },
     "metadata": {
      "needs_background": "light"
     },
     "output_type": "display_data"
    }
   ],
   "source": [
    "from sklearn.metrics import RocCurveDisplay\n",
    "svc_disp = RocCurveDisplay.from_estimator(svm_tf, X_test['cleaned_text'], y_test)\n",
    "plt.show()"
   ]
  },
  {
   "cell_type": "markdown",
   "id": "d9de4cdb",
   "metadata": {},
   "source": [
    "# Logistic Regression with TFIDF"
   ]
  },
  {
   "cell_type": "code",
   "execution_count": 269,
   "id": "040c3fe8",
   "metadata": {},
   "outputs": [],
   "source": [
    "t_vectorizer_2 = TfidfVectorizer(ngram_range=(1,2))\n",
    "clf_lr = LogisticRegression()\n",
    "\n",
    "# Create pipeline using Bag of Words\n",
    "lr_tf = Pipeline([('vectorizer', t_vectorizer_2), ('clf', clf_lr)])\n",
    "\n",
    "\n",
    "# fitting our model.\n",
    "lr_tf.fit(X_train4_resampled['cleaned_text'], y_train4_resampled)\n",
    "lr_predict_tf = lr_tf.predict(X_test['cleaned_text'])"
   ]
  },
  {
   "cell_type": "code",
   "execution_count": 270,
   "id": "f6c35c8a",
   "metadata": {},
   "outputs": [
    {
     "name": "stdout",
     "output_type": "stream",
     "text": [
      "accuracy: 0.9865771812080537\n",
      "              precision    recall  f1-score   support\n",
      "\n",
      "           0       0.99      1.00      0.99      4254\n",
      "           1       0.92      0.79      0.85       216\n",
      "\n",
      "    accuracy                           0.99      4470\n",
      "   macro avg       0.95      0.89      0.92      4470\n",
      "weighted avg       0.99      0.99      0.99      4470\n",
      "\n"
     ]
    }
   ],
   "source": [
    "print(\"accuracy:\", accuracy_score(y_test, lr_predict_tf))\n",
    "print(classification_report(y_test, lr_predict_tf))"
   ]
  },
  {
   "cell_type": "code",
   "execution_count": 271,
   "id": "6c6d0c5c",
   "metadata": {},
   "outputs": [
    {
     "data": {
      "image/png": "[encoded data removed]",
      "text/plain": [
       "<Figure size 432x288 with 2 Axes>"
      ]
     },
     "metadata": {
      "needs_background": "light"
     },
     "output_type": "display_data"
    }
   ],
   "source": [
    "cm_lr=confusion_matrix(y_test, lr_predict_tf)\n",
    "disp=ConfusionMatrixDisplay(confusion_matrix=cm_lr)\n",
    "disp.plot()\n",
    "plt.show()"
   ]
  },
  {
   "cell_type": "code",
   "execution_count": 348,
   "id": "46068573",
   "metadata": {},
   "outputs": [
    {
     "data": {
      "image/png": "[encoded data removed]",
      "text/plain": [
       "<Figure size 432x288 with 1 Axes>"
      ]
     },
     "metadata": {
      "needs_background": "light"
     },
     "output_type": "display_data"
    }
   ],
   "source": [
    "lr_disp = RocCurveDisplay.from_estimator(lr_tf, X_test['cleaned_text'], y_test)\n",
    "plt.show()"
   ]
  },
  {
   "cell_type": "markdown",
   "id": "eb28589c",
   "metadata": {},
   "source": [
    "# Decision Tree with TFIDF"
   ]
  },
  {
   "cell_type": "code",
   "execution_count": 280,
   "id": "3ddadf67",
   "metadata": {},
   "outputs": [],
   "source": [
    "from sklearn.tree import DecisionTreeClassifier"
   ]
  },
  {
   "cell_type": "code",
   "execution_count": 281,
   "id": "bc01a9f3",
   "metadata": {},
   "outputs": [
    {
     "data": {
      "text/plain": [
       "Pipeline(steps=[('vectorizer', TfidfVectorizer(ngram_range=(1, 2))),\n",
       "                ('clf', DecisionTreeClassifier())])"
      ]
     },
     "execution_count": 281,
     "metadata": {},
     "output_type": "execute_result"
    }
   ],
   "source": [
    "t_vectorizer_3 = TfidfVectorizer(ngram_range=(1,2))\n",
    "\n",
    "clf_tree = DecisionTreeClassifier()\n",
    "\n",
    "tree_tf = Pipeline([('vectorizer', t_vectorizer_3), ('clf', clf_tree)])\n",
    "tree_tf.fit(X_train4_resampled['cleaned_text'], y_train4_resampled)"
   ]
  },
  {
   "cell_type": "code",
   "execution_count": 282,
   "id": "2d2b8b95",
   "metadata": {},
   "outputs": [],
   "source": [
    "tree_predict_tf = tree_tf.predict(X_test['cleaned_text'])"
   ]
  },
  {
   "cell_type": "code",
   "execution_count": 283,
   "id": "6b000041",
   "metadata": {},
   "outputs": [
    {
     "name": "stdout",
     "output_type": "stream",
     "text": [
      "accuracy: 0.9659955257270694\n",
      "              precision    recall  f1-score   support\n",
      "\n",
      "           0       0.98      0.98      0.98      4254\n",
      "           1       0.64      0.69      0.66       216\n",
      "\n",
      "    accuracy                           0.97      4470\n",
      "   macro avg       0.81      0.84      0.82      4470\n",
      "weighted avg       0.97      0.97      0.97      4470\n",
      "\n"
     ]
    }
   ],
   "source": [
    "print(\"accuracy:\", accuracy_score(y_test, tree_predict_tf))\n",
    "print(classification_report(y_test, tree_predict_tf))"
   ]
  },
  {
   "cell_type": "code",
   "execution_count": 284,
   "id": "7d46e523",
   "metadata": {},
   "outputs": [
    {
     "data": {
      "image/png": "[encoded data removed]",
      "text/plain": [
       "<Figure size 432x288 with 2 Axes>"
      ]
     },
     "metadata": {
      "needs_background": "light"
     },
     "output_type": "display_data"
    }
   ],
   "source": [
    "cm_tree=confusion_matrix(y_test, tree_predict_tf)\n",
    "disp=ConfusionMatrixDisplay(confusion_matrix=cm_tree)\n",
    "disp.plot()\n",
    "plt.show()"
   ]
  },
  {
   "cell_type": "code",
   "execution_count": 350,
   "id": "67f22807",
   "metadata": {},
   "outputs": [
    {
     "data": {
      "image/png": "[encoded data removed]",
      "text/plain": [
       "<Figure size 432x288 with 1 Axes>"
      ]
     },
     "metadata": {
      "needs_background": "light"
     },
     "output_type": "display_data"
    }
   ],
   "source": [
    "tree_disp = RocCurveDisplay.from_estimator(tree_tf, X_test['cleaned_text'], y_test)\n",
    "plt.show()"
   ]
  },
  {
   "cell_type": "markdown",
   "id": "fae22ad8",
   "metadata": {},
   "source": [
    "# Multi-layer Perceptron"
   ]
  },
  {
   "cell_type": "code",
   "execution_count": 287,
   "id": "21b76712",
   "metadata": {},
   "outputs": [
    {
     "data": {
      "text/plain": [
       "Pipeline(steps=[('vectorizer', TfidfVectorizer(ngram_range=(1, 2))),\n",
       "                ('clf', MLPClassifier(random_state=42))])"
      ]
     },
     "execution_count": 287,
     "metadata": {},
     "output_type": "execute_result"
    }
   ],
   "source": [
    "import sklearn.neural_network as sknet\n",
    "\n",
    "t_vectorizer_4 = TfidfVectorizer(ngram_range=(1,2))\n",
    "\n",
    "clf_mlp = sknet.MLPClassifier(hidden_layer_sizes=(100,), random_state=42)\n",
    "mlp_tf = Pipeline([('vectorizer', t_vectorizer_4), ('clf', clf_mlp)])\n",
    "mlp_tf.fit(X_train4_resampled['cleaned_text'], y_train4_resampled)"
   ]
  },
  {
   "cell_type": "code",
   "execution_count": 351,
   "id": "60cd390b",
   "metadata": {},
   "outputs": [],
   "source": [
    "mlp_predict_tf = mlp_tf.predict(X_test['cleaned_text'])"
   ]
  },
  {
   "cell_type": "code",
   "execution_count": 352,
   "id": "2595d0a7",
   "metadata": {},
   "outputs": [
    {
     "name": "stdout",
     "output_type": "stream",
     "text": [
      "accuracy: 0.9854586129753915\n",
      "              precision    recall  f1-score   support\n",
      "\n",
      "           0       0.99      1.00      0.99      4254\n",
      "           1       0.97      0.72      0.83       216\n",
      "\n",
      "    accuracy                           0.99      4470\n",
      "   macro avg       0.98      0.86      0.91      4470\n",
      "weighted avg       0.99      0.99      0.98      4470\n",
      "\n"
     ]
    }
   ],
   "source": [
    "print(\"accuracy:\", accuracy_score(y_test, mlp_predict_tf))\n",
    "print(classification_report(y_test, mlp_predict_tf))"
   ]
  },
  {
   "cell_type": "code",
   "execution_count": 353,
   "id": "94e51d62",
   "metadata": {},
   "outputs": [
    {
     "data": {
      "image/png": "[encoded data removed]",
      "text/plain": [
       "<Figure size 432x288 with 2 Axes>"
      ]
     },
     "metadata": {
      "needs_background": "light"
     },
     "output_type": "display_data"
    }
   ],
   "source": [
    "cm_mlp=confusion_matrix(y_test, mlp_predict_tf)\n",
    "disp=ConfusionMatrixDisplay(confusion_matrix=cm_mlp)\n",
    "disp.plot()\n",
    "plt.show()"
   ]
  },
  {
   "cell_type": "code",
   "execution_count": 354,
   "id": "2b4459b8",
   "metadata": {},
   "outputs": [
    {
     "data": {
      "image/png": "[encoded data removed]",
      "text/plain": [
       "<Figure size 432x288 with 1 Axes>"
      ]
     },
     "metadata": {
      "needs_background": "light"
     },
     "output_type": "display_data"
    }
   ],
   "source": [
    "mlp_disp = RocCurveDisplay.from_estimator(mlp_tf, X_test['cleaned_text'], y_test)\n",
    "plt.show()"
   ]
  },
  {
   "cell_type": "markdown",
   "id": "eec81d3b",
   "metadata": {},
   "source": [
    "# LGBM"
   ]
  },
  {
   "cell_type": "code",
   "execution_count": 296,
   "id": "15dc0313",
   "metadata": {},
   "outputs": [
    {
     "data": {
      "text/plain": [
       "Pipeline(steps=[('vectorizer', TfidfVectorizer(ngram_range=(1, 2))),\n",
       "                ('clf',\n",
       "                 LGBMClassifier(learning_rate=0.09, max_depth=-5,\n",
       "                                random_state=42))])"
      ]
     },
     "execution_count": 296,
     "metadata": {},
     "output_type": "execute_result"
    }
   ],
   "source": [
    "import lightgbm as lgb\n",
    "clf_lgbm = lgb.LGBMClassifier(learning_rate=0.09,max_depth=-5,random_state=42)\n",
    "\n",
    "t_vectorizer_5 = TfidfVectorizer(ngram_range=(1,2))\n",
    "\n",
    "lgbm_tf = Pipeline([('vectorizer', t_vectorizer_5), ('clf', clf_lgbm)])\n",
    "lgbm_tf.fit(X_train4_resampled['cleaned_text'], y_train4_resampled)"
   ]
  },
  {
   "cell_type": "code",
   "execution_count": 297,
   "id": "28678f73",
   "metadata": {},
   "outputs": [],
   "source": [
    "lgbm_predict_tf = lgbm_tf.predict(X_test['cleaned_text'])"
   ]
  },
  {
   "cell_type": "code",
   "execution_count": 298,
   "id": "355a26c1",
   "metadata": {},
   "outputs": [
    {
     "name": "stdout",
     "output_type": "stream",
     "text": [
      "accuracy: 0.9838926174496644\n",
      "              precision    recall  f1-score   support\n",
      "\n",
      "           0       0.99      0.99      0.99      4254\n",
      "           1       0.86      0.80      0.83       216\n",
      "\n",
      "    accuracy                           0.98      4470\n",
      "   macro avg       0.92      0.90      0.91      4470\n",
      "weighted avg       0.98      0.98      0.98      4470\n",
      "\n"
     ]
    }
   ],
   "source": [
    "print(\"accuracy:\", accuracy_score(y_test, lgbm_predict_tf))\n",
    "print(classification_report(y_test, lgbm_predict_tf))"
   ]
  },
  {
   "cell_type": "code",
   "execution_count": 299,
   "id": "1b83ad4c",
   "metadata": {},
   "outputs": [
    {
     "data": {
      "image/png": "[encoded data removed]",
      "text/plain": [
       "<Figure size 432x288 with 2 Axes>"
      ]
     },
     "metadata": {
      "needs_background": "light"
     },
     "output_type": "display_data"
    }
   ],
   "source": [
    "cm_lgbm=confusion_matrix(y_test, lgbm_predict_tf)\n",
    "disp=ConfusionMatrixDisplay(confusion_matrix=cm_lgbm)\n",
    "disp.plot()\n",
    "plt.show()"
   ]
  },
  {
   "cell_type": "code",
   "execution_count": 355,
   "id": "580c56ec",
   "metadata": {},
   "outputs": [
    {
     "data": {
      "image/png": "[encoded data removed]",
      "text/plain": [
       "<Figure size 432x288 with 1 Axes>"
      ]
     },
     "metadata": {
      "needs_background": "light"
     },
     "output_type": "display_data"
    }
   ],
   "source": [
    "lgbm_disp = RocCurveDisplay.from_estimator(lgbm_tf, X_test['cleaned_text'], y_test)\n",
    "plt.show()"
   ]
  },
  {
   "cell_type": "markdown",
   "id": "4e4105ef",
   "metadata": {},
   "source": [
    "# Testing"
   ]
  },
  {
   "cell_type": "code",
   "execution_count": 326,
   "id": "0130787f",
   "metadata": {},
   "outputs": [],
   "source": [
    "test_fake = \"Competitive compensation package including base + full benefits package + expense account + per diem and increase in base + many perks.Clean, safe and professional working environment / culture. Â The management team has a great reputation for taking good care of employees. Â Steady, consistent employment opportunity- company has a history and reputation for the tenure of employees for the long-term. No layoffs or terminations. When work is slow the team always has work to keep current employees on a full-time status so you can feel confident your employment will be steady and something you can count on.Â If you like to travel and enjoy your independence, this position is for you. You will be traveling to multiple sites on overnight visits throughout the week and be working mostly independently.Â The position is available right away as we are prepared to move forward fairly quickly upon identifying the right candidate. Â Qualified candidates are encouraged to apply directly to this job posting. Â Direct email and phone calls are not being considered. Thank you for your cooperation. Â Please no recruiters. Â \""
   ]
  },
  {
   "cell_type": "code",
   "execution_count": 327,
   "id": "6cd4d7b7",
   "metadata": {},
   "outputs": [],
   "source": [
    "dftest=pd.DataFrame()\n",
    "dftest['text']=[test_fake]\n",
    "dftest['text'] = dftest.apply(lambda x: text_preprocessing(x['text']), axis=1)\n",
    "dftest['text']=dftest.apply(lambda x: \" \".join(x['text']), axis=1)"
   ]
  },
  {
   "cell_type": "code",
   "execution_count": 328,
   "id": "1c0af8db",
   "metadata": {},
   "outputs": [],
   "source": [
    "test_predict_bow = bowpipe.predict(dftest['text'])"
   ]
  },
  {
   "cell_type": "code",
   "execution_count": 329,
   "id": "4a9bd4f7",
   "metadata": {},
   "outputs": [],
   "source": [
    "test_predict_t_SVM = svm_tf.predict(dftest['text'])"
   ]
  },
  {
   "cell_type": "code",
   "execution_count": 330,
   "id": "75b7425e",
   "metadata": {},
   "outputs": [],
   "source": [
    "test_predict_t_RF = t_bowpipe.predict(dftest['text'])"
   ]
  },
  {
   "cell_type": "code",
   "execution_count": 331,
   "id": "7d260ea8",
   "metadata": {},
   "outputs": [],
   "source": [
    "test_predict_t_LR = lr_tf.predict(dftest['text'])"
   ]
  },
  {
   "cell_type": "code",
   "execution_count": 332,
   "id": "1ef41b08",
   "metadata": {},
   "outputs": [
    {
     "name": "stdout",
     "output_type": "stream",
     "text": [
      "Bow SVM -  [1]\n",
      "TFIDF SVM -  [1]\n",
      "TFIDF RF -  [0]\n",
      "TFIDF LR -  [1]\n"
     ]
    }
   ],
   "source": [
    "print(\"Bow SVM - \" ,test_predict_bow)\n",
    "print(\"TFIDF SVM - \" ,test_predict_t_SVM)\n",
    "print(\"TFIDF RF - \", test_predict_t_RF)\n",
    "print(\"TFIDF LR - \", test_predict_t_LR)"
   ]
  },
  {
   "cell_type": "markdown",
   "id": "35023bea",
   "metadata": {},
   "source": [
    "# Saving the model"
   ]
  },
  {
   "cell_type": "code",
   "execution_count": 337,
   "id": "c0f75c79",
   "metadata": {},
   "outputs": [],
   "source": [
    "import pickle\n",
    "import joblib"
   ]
  },
  {
   "cell_type": "code",
   "execution_count": 338,
   "id": "59de5ee4",
   "metadata": {},
   "outputs": [],
   "source": [
    "filename1 = 'tfidf_SVM.pkl'\n",
    "filename2 = 'tfidf_RF.pkl'\n",
    "filename3 = 'tfidf_LR.pkl'\n",
    "filename4 = 'cv_SVM.pkl'"
   ]
  },
  {
   "cell_type": "code",
   "execution_count": 340,
   "id": "8d813b28",
   "metadata": {},
   "outputs": [
    {
     "data": {
      "text/plain": [
       "['cv_SVM.pkl']"
      ]
     },
     "execution_count": 340,
     "metadata": {},
     "output_type": "execute_result"
    }
   ],
   "source": [
    "#joblib.dump(svm_tf, filename1)\n",
    "joblib.dump(t_bowpipe, filename2)\n",
    "joblib.dump(lr_tf, filename3)\n",
    "joblib.dump(bowpipe, filename4)"
   ]
  },
  {
   "cell_type": "code",
   "execution_count": null,
   "id": "9c46628f",
   "metadata": {},
   "outputs": [],
   "source": [
    "#when loading use this code\n",
    "# joblib.load('filename.pkl')"
   ]
  }
 ],
 "metadata": {
  "kernelspec": {
   "display_name": "Python 3 (ipykernel)",
   "language": "python",
   "name": "python3"
  },
  "language_info": {
   "codemirror_mode": {
    "name": "ipython",
    "version": 3
   },
   "file_extension": ".py",
   "mimetype": "text/x-python",
   "name": "python",
   "nbconvert_exporter": "python",
   "pygments_lexer": "ipython3",
   "version": "3.9.12"
  }
 },
 "nbformat": 4,
 "nbformat_minor": 5
}
